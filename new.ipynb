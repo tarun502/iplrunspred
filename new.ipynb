{
 "cells": [
  {
   "cell_type": "code",
   "execution_count": 101,
   "metadata": {},
   "outputs": [
    {
     "name": "stdout",
     "output_type": "stream",
     "text": [
      "Requirement already satisfied: pandas in c:\\users\\tarun\\anaconda3\\envs\\tf_gpu\\lib\\site-packages (2.0.3)\n",
      "Requirement already satisfied: python-dateutil>=2.8.2 in c:\\users\\tarun\\anaconda3\\envs\\tf_gpu\\lib\\site-packages (from pandas) (2.8.2)\n",
      "Requirement already satisfied: pytz>=2020.1 in c:\\users\\tarun\\anaconda3\\envs\\tf_gpu\\lib\\site-packages (from pandas) (2023.3.post1)\n",
      "Requirement already satisfied: tzdata>=2022.1 in c:\\users\\tarun\\anaconda3\\envs\\tf_gpu\\lib\\site-packages (from pandas) (2023.3)\n",
      "Requirement already satisfied: numpy>=1.21.0 in c:\\users\\tarun\\anaconda3\\envs\\tf_gpu\\lib\\site-packages (from pandas) (1.24.3)\n",
      "Requirement already satisfied: six>=1.5 in c:\\users\\tarun\\anaconda3\\envs\\tf_gpu\\lib\\site-packages (from python-dateutil>=2.8.2->pandas) (1.16.0)\n"
     ]
    }
   ],
   "source": [
    "!pip install pandas \n",
    "import pandas as pd"
   ]
  },
  {
   "cell_type": "code",
   "execution_count": 102,
   "metadata": {},
   "outputs": [
    {
     "name": "stderr",
     "output_type": "stream",
     "text": [
      "C:\\Users\\tarun\\AppData\\Local\\Temp\\ipykernel_24580\\1480087257.py:1: DtypeWarning: Columns (27,33,44,50,52,78) have mixed types. Specify dtype option on import or set low_memory=False.\n",
      "  df=pd.read_csv(r'C:\\Users\\tarun\\Downloads\\more_match_player_feature_matches (1).csv')\n"
     ]
    }
   ],
   "source": [
    "df=pd.read_csv(r'C:\\Users\\tarun\\Downloads\\more_match_player_feature_matches (1).csv')"
   ]
  },
  {
   "cell_type": "code",
   "execution_count": 103,
   "metadata": {},
   "outputs": [
    {
     "data": {
      "text/plain": [
       "(672500, 140)"
      ]
     },
     "execution_count": 103,
     "metadata": {},
     "output_type": "execute_result"
    }
   ],
   "source": [
    "df.shape"
   ]
  },
  {
   "cell_type": "code",
   "execution_count": 959,
   "metadata": {},
   "outputs": [
    {
     "data": {
      "text/plain": [
       "Index(['cricinfo_id', 'start_time', 'actual_days', 'adjusted', 'amount',\n",
       "       'amount_balls', 'amount_name', 'amount_type', 'away_team_id',\n",
       "       'batting_first_team_id',\n",
       "       ...\n",
       "       'totalprecip_mm', 'totalsnow_cm', 'avgvis_km', 'avghumidity',\n",
       "       'daily_will_it_rain', 'daily_chance_of_rain', 'daily_will_it_snow',\n",
       "       'daily_chance_of_snow', 'condition', 'uv'],\n",
       "      dtype='object', length=140)"
      ]
     },
     "execution_count": 959,
     "metadata": {},
     "output_type": "execute_result"
    }
   ],
   "source": [
    "df.columns"
   ]
  },
  {
   "cell_type": "code",
   "execution_count": 1130,
   "metadata": {},
   "outputs": [
    {
     "data": {
      "text/plain": [
       "(672500, 140)"
      ]
     },
     "execution_count": 1130,
     "metadata": {},
     "output_type": "execute_result"
    }
   ],
   "source": [
    "df.shape"
   ]
  },
  {
   "cell_type": "code",
   "execution_count": 1,
   "metadata": {},
   "outputs": [
    {
     "name": "stdout",
     "output_type": "stream",
     "text": [
      "Streamlit version: 1.31.0\n",
      "Pandas version: 2.0.3\n",
      "NumPy version: 1.24.3\n",
      "Joblib version: 1.2.0\n",
      "scikit-learn version: 1.3.0\n",
      "SciPy version: 1.11.1\n"
     ]
    }
   ],
   "source": [
    "import streamlit\n",
    "import pandas as pd\n",
    "import numpy as np\n",
    "import joblib\n",
    "import sklearn\n",
    "import scipy\n",
    "\n",
    "print(\"Streamlit version:\", streamlit.__version__)\n",
    "print(\"Pandas version:\", pd.__version__)\n",
    "print(\"NumPy version:\", np.__version__)\n",
    "print(\"Joblib version:\", joblib.__version__)\n",
    "print(\"scikit-learn version:\", sklearn.__version__)\n",
    "print(\"SciPy version:\", scipy.__version__)"
   ]
  },
  {
   "cell_type": "code",
   "execution_count": 75,
   "metadata": {},
   "outputs": [],
   "source": [
    "pd.set_option('display.max_columns', None)\n",
    "df['start_time'] = pd.to_datetime(df['start_time'])\n",
    "# Assuming your DataFrame is named df\n",
    "# Replace 'team1_class_id' and 'team2_class_id' with the actual column names in your DataFrame\n",
    "\n",
    "filtered_df = df[(df['team1_class_id'] == 6) & (df['team2_class_id'] == 6)]\n",
    "\n",
    "# Now, filtered_df contains only the rows where both 'team1_class_id' and 'team2_class_id' are equal to 6\n",
    "import pandas as pd\n",
    "\n",
    "# Assuming your DataFrame is named df\n",
    "# Replace 'country' with the actual column name in your DataFrame\n",
    "\n",
    "filtered_df = filtered_df[filtered_df['country_abbreviation'] == 'IND']\n",
    "\n",
    "# Now, filtered_df contains only the rows where 'country' is equal to 'India'\n",
    "# Create a mask to filter rows where the year is 2022\n",
    "# List of years you want to filter\n",
    "years_to_filter = [2018,2019,2021,2022]\n",
    "\n",
    "# Create a mask to filter rows where the year is in the list of years_to_filter\n",
    "mask_years = filtered_df['start_time'].dt.year.isin(years_to_filter)\n",
    "\n",
    "# Apply the mask to the DataFrame\n",
    "filtered_df = filtered_df[mask_years]"
   ]
  },
  {
   "cell_type": "code",
   "execution_count": 76,
   "metadata": {},
   "outputs": [
    {
     "data": {
      "text/plain": [
       "(17380, 140)"
      ]
     },
     "execution_count": 76,
     "metadata": {},
     "output_type": "execute_result"
    }
   ],
   "source": [
    "filtered_df.shape"
   ]
  },
  {
   "cell_type": "code",
   "execution_count": 104,
   "metadata": {},
   "outputs": [],
   "source": [
    "pd.set_option('display.max_columns', None)\n",
    "df['start_time'] = pd.to_datetime(df['start_time'])\n",
    "# Assuming your DataFrame is named df\n",
    "# Replace 'team1_class_id' and 'team2_class_id' with the actual column names in your DataFrame\n",
    "\n",
    "filtered_df = df[(df['team1_class_id'] == 6) & (df['team2_class_id'] == 6)]\n",
    "\n",
    "# Now, filtered_df contains only the rows where both 'team1_class_id' and 'team2_class_id' are equal to 6\n",
    "import pandas as pd\n",
    "\n",
    "# Assuming your DataFrame is named df\n",
    "# Replace 'country' with the actual column name in your DataFrame\n",
    "\n",
    "filtered_df = filtered_df[filtered_df['country_abbreviation'] == 'IND']\n",
    "\n",
    "# Now, filtered_df contains only the rows where 'country' is equal to 'India'\n",
    "# Create a mask to filter rows where the year is 2022\n",
    "# List of years you want to filter\n",
    "years_to_filter = [2023]\n",
    "\n",
    "# Create a mask to filter rows where the year is in the list of years_to_filter\n",
    "mask_years = filtered_df['start_time'].dt.year.isin(years_to_filter)\n",
    "\n",
    "# Apply the mask to the DataFrame\n",
    "filtered_df = filtered_df[mask_years]"
   ]
  },
  {
   "cell_type": "code",
   "execution_count": 105,
   "metadata": {},
   "outputs": [
    {
     "data": {
      "text/plain": [
       "(5652, 140)"
      ]
     },
     "execution_count": 105,
     "metadata": {},
     "output_type": "execute_result"
    }
   ],
   "source": [
    "filtered_df.shape"
   ]
  },
  {
   "cell_type": "code",
   "execution_count": 792,
   "metadata": {},
   "outputs": [
    {
     "data": {
      "text/plain": [
       "description\n",
       "Right-hand bat            6520\n",
       "Left-hand bat             2590\n",
       "Right-arm offbreak        2186\n",
       "Right-arm medium          1754\n",
       "Right-arm fast             882\n",
       "Legbreak                   660\n",
       "Slow left-arm orthodox     622\n",
       "Right-arm fast-medium      616\n",
       "Legbreak googly            560\n",
       "Right-arm medium-fast      336\n",
       "Left-arm fast-medium       244\n",
       "Left-arm medium            158\n",
       "Left-arm medium-fast       138\n",
       "Left-arm wrist-spin         92\n",
       "Left-arm fast               22\n",
       "Name: count, dtype: int64"
      ]
     },
     "execution_count": 792,
     "metadata": {},
     "output_type": "execute_result"
    }
   ],
   "source": [
    "filtered_df['description'].value_counts()"
   ]
  },
  {
   "cell_type": "code",
   "execution_count": 886,
   "metadata": {},
   "outputs": [
    {
     "data": {
      "text/plain": [
       "(17380, 140)"
      ]
     },
     "execution_count": 886,
     "metadata": {},
     "output_type": "execute_result"
    }
   ],
   "source": [
    "filtered_df.shape"
   ]
  },
  {
   "cell_type": "code",
   "execution_count": 963,
   "metadata": {},
   "outputs": [],
   "source": [
    "pd.set_option('display.max_rows',None)\n",
    "pd.set_option('display.max_columns',None)"
   ]
  },
  {
   "cell_type": "code",
   "execution_count": 106,
   "metadata": {},
   "outputs": [],
   "source": [
    "filtered_df['team1_abbreviation'] = filtered_df['team1_abbreviation'].replace('KXIP', 'PBKS')\n",
    "filtered_df['team2_abbreviation'] = filtered_df['team2_abbreviation'].replace('KXIP', 'PBKS')"
   ]
  },
  {
   "cell_type": "code",
   "execution_count": 107,
   "metadata": {},
   "outputs": [
    {
     "data": {
      "text/plain": [
       "(5652, 140)"
      ]
     },
     "execution_count": 107,
     "metadata": {},
     "output_type": "execute_result"
    }
   ],
   "source": [
    "filtered_df.shape"
   ]
  },
  {
   "cell_type": "code",
   "execution_count": 112,
   "metadata": {},
   "outputs": [
    {
     "data": {
      "text/plain": [
       "(5652, 140)"
      ]
     },
     "execution_count": 112,
     "metadata": {},
     "output_type": "execute_result"
    }
   ],
   "source": [
    "filtered_df.shape"
   ]
  },
  {
   "cell_type": "code",
   "execution_count": 80,
   "metadata": {},
   "outputs": [],
   "source": [
    "result_df = filtered_df"
   ]
  },
  {
   "cell_type": "code",
   "execution_count": 113,
   "metadata": {},
   "outputs": [
    {
     "data": {
      "text/plain": [
       "(17380, 152)"
      ]
     },
     "execution_count": 113,
     "metadata": {},
     "output_type": "execute_result"
    }
   ],
   "source": [
    "result_df.shape"
   ]
  },
  {
   "cell_type": "code",
   "execution_count": 111,
   "metadata": {},
   "outputs": [
    {
     "data": {
      "text/plain": [
       "Index(['cricinfo_id', 'start_time', 'actual_days', 'adjusted', 'amount',\n",
       "       'amount_balls', 'amount_name', 'amount_type', 'away_team_id',\n",
       "       'batting_first_team_id',\n",
       "       ...\n",
       "       'Total_Hundreds_Mean', 'Total_Fifties', 'Total_Hundreds',\n",
       "       'Total_Fours_sum', 'Total_Sixes_sum', 'Total_Fours_mean',\n",
       "       'Total_Sixes_mean', 'Total_runs', 'Total_runs_mean', 'age'],\n",
       "      dtype='object', length=152)"
      ]
     },
     "execution_count": 111,
     "metadata": {},
     "output_type": "execute_result"
    }
   ],
   "source": [
    "result_df.columns"
   ]
  },
  {
   "cell_type": "code",
   "execution_count": 81,
   "metadata": {},
   "outputs": [
    {
     "name": "stdout",
     "output_type": "stream",
     "text": [
      "(17380, 142)\n"
     ]
    }
   ],
   "source": [
    "# Calculate average strike rate and average balls faced\n",
    "avg_strike_rate = result_df.groupby('name')['strike_rate'].mean().reset_index(name='Avg_Strike_Rate')\n",
    "avg_balls_faced = result_df.groupby('name')['balls_faced'].mean().reset_index(name='Avg_Balls_Faced')\n",
    "\n",
    "# Merge the averages back into the original DataFrame\n",
    "result_df = pd.merge(result_df, avg_strike_rate, on='name')\n",
    "result_df = pd.merge(result_df, avg_balls_faced, on='name')\n",
    "\n",
    "# Display the updated DataFrame\n",
    "print(result_df.shape)"
   ]
  },
  {
   "cell_type": "code",
   "execution_count": 124,
   "metadata": {},
   "outputs": [
    {
     "data": {
      "text/plain": [
       "(17380, 152)"
      ]
     },
     "execution_count": 124,
     "metadata": {},
     "output_type": "execute_result"
    }
   ],
   "source": [
    "result_df.shape"
   ]
  },
  {
   "cell_type": "code",
   "execution_count": 125,
   "metadata": {},
   "outputs": [],
   "source": [
    "# Select the columns you want to use as constant values\n",
    "constant_columns = ['Avg_Strike_Rate','Avg_Balls_Faced','Total_Fifties_Mean', 'Total_Hundreds_Mean','Total_Fifties','Total_Hundreds','Total_Fours_sum', 'Total_Sixes_sum', 'Total_Fours_mean', 'Total_Sixes_mean', 'Total_runs', 'Total_runs_mean']\n",
    "\n",
    "# Create the constant_values dictionary\n",
    "constant_values = result_df.set_index('name')[constant_columns].to_dict()\n",
    "\n",
    "# Now, constant_values is a dictionary containing constant values based on player names"
   ]
  },
  {
   "cell_type": "code",
   "execution_count": 126,
   "metadata": {},
   "outputs": [
    {
     "data": {
      "text/plain": [
       "12"
      ]
     },
     "execution_count": 126,
     "metadata": {},
     "output_type": "execute_result"
    }
   ],
   "source": [
    "len(constant_values)"
   ]
  },
  {
   "cell_type": "code",
   "execution_count": 127,
   "metadata": {},
   "outputs": [
    {
     "name": "stdout",
     "output_type": "stream",
     "text": [
      "(5652, 152)\n"
     ]
    }
   ],
   "source": [
    "# Create a new DataFrame with names from df2\n",
    "result = filtered_df.copy()\n",
    "\n",
    "# Add the constant columns based on the values from constant_values\n",
    "for col in constant_columns:\n",
    "    result[col] = result['name'].map(constant_values[col])\n",
    "\n",
    "# Now, result_df contains the names from df2 and the constant columns\n",
    "print(result.shape)"
   ]
  },
  {
   "cell_type": "code",
   "execution_count": 130,
   "metadata": {},
   "outputs": [
    {
     "data": {
      "text/plain": [
       "cricinfo_id           0\n",
       "start_time            0\n",
       "actual_days           0\n",
       "adjusted              0\n",
       "amount                0\n",
       "                   ... \n",
       "Total_Sixes_sum     850\n",
       "Total_Fours_mean    850\n",
       "Total_Sixes_mean    850\n",
       "Total_runs          850\n",
       "Total_runs_mean     850\n",
       "Length: 152, dtype: int64"
      ]
     },
     "execution_count": 130,
     "metadata": {},
     "output_type": "execute_result"
    }
   ],
   "source": [
    "result.isna().sum()"
   ]
  },
  {
   "cell_type": "code",
   "execution_count": 132,
   "metadata": {},
   "outputs": [
    {
     "name": "stdout",
     "output_type": "stream",
     "text": [
      "(5652, 152)\n"
     ]
    }
   ],
   "source": [
    "from datetime import datetime\n",
    "import numpy as np \n",
    "# Assuming 'date_of_birth' is the column with date of birth\n",
    "result['date_of_birth'] = pd.to_datetime(result['date_of_birth'], errors='coerce')\n",
    "\n",
    "# Calculate age based on current date\n",
    "current_date = datetime.now()\n",
    "result['age'] = np.floor((current_date - result['date_of_birth']).dt.days / 365.25)\n",
    "\n",
    "# Drop the original 'date_of_birth' column if needed\n",
    "result.drop(columns=['date_of_birth'], inplace=True)\n",
    "\n",
    "# Display the resulting DataFrame\n",
    "print(result.shape)"
   ]
  },
  {
   "cell_type": "code",
   "execution_count": 133,
   "metadata": {},
   "outputs": [
    {
     "name": "stdout",
     "output_type": "stream",
     "text": [
      "(5652, 31)\n"
     ]
    }
   ],
   "source": [
    "# Assuming these are the columns you want to keep\n",
    "columns_to_keep =['cricinfo_id','start_time','away_team_id', 'floodlit_name',\n",
    "       'home_team_id', 'team1_abbreviation', 'team2_abbreviation',\n",
    "       'batting_position','innings_number',\n",
    "       'runs','fours','sixes','age',\n",
    "       'name', 'position','ground_name','avgtemp_c','maxwind_kph','condition',\n",
    "       'Avg_Balls_Faced','Avg_Strike_Rate','Total_Fifties_Mean','Total_Hundreds_Mean',\n",
    "       'Total_Fifties','Total_Hundreds','Total_Fours_sum','Total_Sixes_sum','Total_Fours_mean','Total_Sixes_mean','Total_runs','Total_runs_mean']\n",
    "# Keep only the specified columns in the DataFrame\n",
    "df_fil = result[columns_to_keep]\n",
    "\n",
    "# Display the resulting DataFrame\n",
    "print(df_fil.shape)"
   ]
  },
  {
   "cell_type": "code",
   "execution_count": 137,
   "metadata": {},
   "outputs": [
    {
     "data": {
      "text/plain": [
       "(5652, 31)"
      ]
     },
     "execution_count": 137,
     "metadata": {},
     "output_type": "execute_result"
    }
   ],
   "source": [
    "df_fil.shape"
   ]
  },
  {
   "cell_type": "code",
   "execution_count": 140,
   "metadata": {},
   "outputs": [
    {
     "data": {
      "text/plain": [
       "cricinfo_id            0\n",
       "start_time             0\n",
       "away_team_id           0\n",
       "floodlit_name          0\n",
       "home_team_id           0\n",
       "team1_abbreviation     0\n",
       "team2_abbreviation     0\n",
       "batting_position       0\n",
       "innings_number         0\n",
       "runs                   0\n",
       "fours                  0\n",
       "sixes                  0\n",
       "age                    0\n",
       "name                   0\n",
       "position               0\n",
       "ground_name            0\n",
       "avgtemp_c              0\n",
       "maxwind_kph            0\n",
       "condition              0\n",
       "Avg_Balls_Faced        0\n",
       "Avg_Strike_Rate        0\n",
       "Total_Fifties_Mean     0\n",
       "Total_Hundreds_Mean    0\n",
       "Total_Fifties          0\n",
       "Total_Hundreds         0\n",
       "Total_Fours_sum        0\n",
       "Total_Sixes_sum        0\n",
       "Total_Fours_mean       0\n",
       "Total_Sixes_mean       0\n",
       "Total_runs             0\n",
       "Total_runs_mean        0\n",
       "dtype: int64"
      ]
     },
     "execution_count": 140,
     "metadata": {},
     "output_type": "execute_result"
    }
   ],
   "source": [
    "df_fil.isna().sum()"
   ]
  },
  {
   "cell_type": "code",
   "execution_count": 138,
   "metadata": {},
   "outputs": [
    {
     "name": "stderr",
     "output_type": "stream",
     "text": [
      "C:\\Users\\tarun\\AppData\\Local\\Temp\\ipykernel_24580\\42254158.py:1: SettingWithCopyWarning: \n",
      "A value is trying to be set on a copy of a slice from a DataFrame\n",
      "\n",
      "See the caveats in the documentation: https://pandas.pydata.org/pandas-docs/stable/user_guide/indexing.html#returning-a-view-versus-a-copy\n",
      "  df_fil.fillna(0,inplace=True)\n"
     ]
    }
   ],
   "source": [
    "df_fil.fillna(0,inplace=True)"
   ]
  },
  {
   "cell_type": "code",
   "execution_count": 139,
   "metadata": {},
   "outputs": [],
   "source": [
    "df_fil.to_csv('2023.csv')"
   ]
  },
  {
   "cell_type": "code",
   "execution_count": null,
   "metadata": {},
   "outputs": [],
   "source": []
  },
  {
   "cell_type": "code",
   "execution_count": 118,
   "metadata": {},
   "outputs": [
    {
     "data": {
      "text/plain": [
       "8"
      ]
     },
     "execution_count": 118,
     "metadata": {},
     "output_type": "execute_result"
    }
   ],
   "source": [
    "len(constant_values)"
   ]
  },
  {
   "cell_type": "code",
   "execution_count": null,
   "metadata": {},
   "outputs": [],
   "source": [
    "'Total_Fifties_Mean','Total_Hundreds_Mean','Total_Fifties','Total_Hundreds','Total_Fours_sum','Total_Sixes_sum','Total_Fours_mean','Total_Sixes_mean','Total_runs','Total_runs_mean'"
   ]
  },
  {
   "cell_type": "code",
   "execution_count": 82,
   "metadata": {},
   "outputs": [],
   "source": [
    "# Calculate total fifties and total hundreds\n",
    "total_fifties_mean = result_df.groupby('name')['fifty_plus'].mean().reset_index(name='Total_Fifties_Mean')\n",
    "total_hundreds_mean = result_df.groupby('name')['hundreds'].mean().reset_index(name='Total_Hundreds_Mean')\n",
    "\n",
    "# Merge the totals back into the original DataFrame\n",
    "result_df = pd.merge(result_df, total_fifties_mean, on='name')\n",
    "result_df = pd.merge(result_df, total_hundreds_mean, on='name')"
   ]
  },
  {
   "cell_type": "code",
   "execution_count": 83,
   "metadata": {},
   "outputs": [],
   "source": [
    "# Calculate total fifties and total hundreds\n",
    "total_fifties = result_df.groupby('name')['fifty_plus'].sum().reset_index(name='Total_Fifties')\n",
    "total_hundreds = result_df.groupby('name')['hundreds'].sum().reset_index(name='Total_Hundreds')\n",
    "\n",
    "# Merge the totals back into the original DataFrame\n",
    "result_df = pd.merge(result_df, total_fifties, on='name')\n",
    "result_df = pd.merge(result_df, total_hundreds, on='name')"
   ]
  },
  {
   "cell_type": "code",
   "execution_count": 84,
   "metadata": {},
   "outputs": [],
   "source": [
    "# Calculate total fifties and total hundreds\n",
    "total_fours_sum = result_df.groupby('name')['fours'].sum().reset_index(name='Total_Fours_sum')\n",
    "total_sixes_sum = result_df.groupby('name')['sixes'].sum().reset_index(name='Total_Sixes_sum')\n",
    "\n",
    "# Merge the totals back into the original DataFrame\n",
    "result_df = pd.merge(result_df, total_fours_sum, on='name')\n",
    "result_df = pd.merge(result_df, total_sixes_sum, on='name')"
   ]
  },
  {
   "cell_type": "code",
   "execution_count": 85,
   "metadata": {},
   "outputs": [],
   "source": [
    "# Calculate total fifties and total hundreds\n",
    "total_fours = result_df.groupby('name')['fours'].mean().reset_index(name='Total_Fours_mean')\n",
    "total_sixes = result_df.groupby('name')['sixes'].mean().reset_index(name='Total_Sixes_mean')\n",
    "\n",
    "# Merge the totals back into the original DataFrame\n",
    "result_df = pd.merge(result_df, total_fours, on='name')\n",
    "result_df = pd.merge(result_df, total_sixes, on='name')"
   ]
  },
  {
   "cell_type": "code",
   "execution_count": 86,
   "metadata": {},
   "outputs": [],
   "source": [
    "total_runs = result_df.groupby('name')['runs'].sum().reset_index(name='Total_runs')\n",
    "\n",
    "# Merge the totals back into the original DataFrame\n",
    "result_df = pd.merge(result_df, total_runs, on='name')\n",
    "\n",
    "total_runs_mean = result_df.groupby('name')['runs'].mean().reset_index(name='Total_runs_mean')\n",
    "\n",
    "# Merge the totals back into the original DataFrame\n",
    "result_df = pd.merge(result_df, total_runs_mean, on='name')"
   ]
  },
  {
   "cell_type": "code",
   "execution_count": 87,
   "metadata": {},
   "outputs": [
    {
     "data": {
      "text/plain": [
       "(17380, 152)"
      ]
     },
     "execution_count": 87,
     "metadata": {},
     "output_type": "execute_result"
    }
   ],
   "source": [
    "result_df.shape"
   ]
  },
  {
   "cell_type": "code",
   "execution_count": 88,
   "metadata": {},
   "outputs": [
    {
     "name": "stdout",
     "output_type": "stream",
     "text": [
      "(17380, 152)\n"
     ]
    }
   ],
   "source": [
    "from datetime import datetime\n",
    "import numpy as np \n",
    "# Assuming 'date_of_birth' is the column with date of birth\n",
    "result_df['date_of_birth'] = pd.to_datetime(result_df['date_of_birth'], errors='coerce')\n",
    "\n",
    "# Calculate age based on current date\n",
    "current_date = datetime.now()\n",
    "result_df['age'] = np.floor((current_date - result_df['date_of_birth']).dt.days / 365.25)\n",
    "\n",
    "# Drop the original 'date_of_birth' column if needed\n",
    "result_df.drop(columns=['date_of_birth'], inplace=True)\n",
    "\n",
    "# Display the resulting DataFrame\n",
    "print(result_df.shape)"
   ]
  },
  {
   "cell_type": "code",
   "execution_count": 89,
   "metadata": {},
   "outputs": [],
   "source": [
    "result_df.fillna(0,inplace=True)"
   ]
  },
  {
   "cell_type": "code",
   "execution_count": 90,
   "metadata": {},
   "outputs": [],
   "source": [
    "df_fil = pd.DataFrame(result_df)"
   ]
  },
  {
   "cell_type": "code",
   "execution_count": 1146,
   "metadata": {},
   "outputs": [],
   "source": [
    "df_fil.to_csv('mainalldatafinalll.csv')"
   ]
  },
  {
   "cell_type": "code",
   "execution_count": 756,
   "metadata": {},
   "outputs": [
    {
     "data": {
      "text/plain": [
       "floodlit_name\n",
       "night match        14134\n",
       "day/night match     3246\n",
       "Name: count, dtype: int64"
      ]
     },
     "execution_count": 756,
     "metadata": {},
     "output_type": "execute_result"
    }
   ],
   "source": [
    "df_fil['floodlit_name'].value_counts()"
   ]
  },
  {
   "cell_type": "code",
   "execution_count": 288,
   "metadata": {},
   "outputs": [
    {
     "name": "stdout",
     "output_type": "stream",
     "text": [
      "(17380, 18)\n"
     ]
    }
   ],
   "source": [
    "# Assuming these are the columns you want to keep\n",
    "columns_to_keep =['away_team_id', 'floodlit_name',\n",
    "       'home_team_id', 'team1_abbreviation', 'team2_abbreviation',\n",
    "       'batting_position','innings_number',\n",
    "       'runs','fours','sixes','description','age',\n",
    "       'name', 'position','ground_name','avgtemp_c','maxwind_kph','condition']\n",
    "# Keep only the specified columns in the DataFrame\n",
    "df_fil = result_df[columns_to_keep]\n",
    "\n",
    "# Display the resulting DataFrame\n",
    "print(df_fil.shape)"
   ]
  },
  {
   "cell_type": "code",
   "execution_count": 42,
   "metadata": {},
   "outputs": [
    {
     "data": {
      "text/plain": [
       "Index(['cricinfo_id', 'start_time', 'actual_days', 'adjusted', 'amount',\n",
       "       'amount_balls', 'amount_name', 'amount_type', 'away_team_id',\n",
       "       'batting_first_team_id',\n",
       "       ...\n",
       "       'Total_Hundreds_Mean', 'Total_Fifties', 'Total_Hundreds',\n",
       "       'Total_Fours_sum', 'Total_Sixes_sum', 'Total_Fours_mean',\n",
       "       'Total_Sixes_mean', 'Total_runs', 'Total_runs_mean', 'age'],\n",
       "      dtype='object', length=152)"
      ]
     },
     "execution_count": 42,
     "metadata": {},
     "output_type": "execute_result"
    }
   ],
   "source": [
    "df_fil.columns"
   ]
  },
  {
   "cell_type": "code",
   "execution_count": 91,
   "metadata": {},
   "outputs": [
    {
     "name": "stdout",
     "output_type": "stream",
     "text": [
      "(17380, 31)\n"
     ]
    }
   ],
   "source": [
    "# Assuming these are the columns you want to keep\n",
    "columns_to_keep =['cricinfo_id','start_time','away_team_id', 'floodlit_name',\n",
    "       'home_team_id', 'team1_abbreviation', 'team2_abbreviation',\n",
    "       'batting_position','innings_number',\n",
    "       'runs','fours','sixes','age',\n",
    "       'name', 'position','ground_name','avgtemp_c','maxwind_kph','condition',\n",
    "       'Avg_Balls_Faced','Avg_Strike_Rate','Total_Fifties_Mean','Total_Hundreds_Mean',\n",
    "       'Total_Fifties','Total_Hundreds','Total_Fours_sum','Total_Sixes_sum','Total_Fours_mean','Total_Sixes_mean','Total_runs','Total_runs_mean']\n",
    "# Keep only the specified columns in the DataFrame\n",
    "df_fil = result_df[columns_to_keep]\n",
    "\n",
    "# Display the resulting DataFrame\n",
    "print(df_fil.shape)"
   ]
  },
  {
   "cell_type": "code",
   "execution_count": 93,
   "metadata": {},
   "outputs": [
    {
     "name": "stderr",
     "output_type": "stream",
     "text": [
      "C:\\Users\\tarun\\AppData\\Local\\Temp\\ipykernel_24580\\2704381738.py:5: SettingWithCopyWarning: \n",
      "A value is trying to be set on a copy of a slice from a DataFrame.\n",
      "Try using .loc[row_indexer,col_indexer] = value instead\n",
      "\n",
      "See the caveats in the documentation: https://pandas.pydata.org/pandas-docs/stable/user_guide/indexing.html#returning-a-view-versus-a-copy\n",
      "  df_fil['start_time'] = pd.to_datetime(df_fil['start_time'])\n"
     ]
    }
   ],
   "source": [
    "import pandas as pd\n",
    "\n",
    "# Assuming your DataFrame is named df\n",
    "# Convert the start time column to datetime\n",
    "df_fil['start_time'] = pd.to_datetime(df_fil['start_time'])\n",
    "\n",
    "# Separate the DataFrame based on years\n",
    "df_2018 = df_fil[df_fil['start_time'].dt.year == 2018]\n",
    "df_2019 = df_fil[df_fil['start_time'].dt.year == 2019]\n",
    "df_2020 = df_fil[df_fil['start_time'].dt.year == 2020]\n",
    "df_2021 = df_fil[df_fil['start_time'].dt.year == 2021]\n",
    "df_2022 = df_fil[df_fil['start_time'].dt.year == 2022]\n",
    "\n",
    "# Now, df_2018 contains all rows with start time in the year 2018, and so on\n"
   ]
  },
  {
   "cell_type": "code",
   "execution_count": 97,
   "metadata": {},
   "outputs": [],
   "source": [
    "df_2018.to_csv('2018.csv')"
   ]
  },
  {
   "cell_type": "code",
   "execution_count": 98,
   "metadata": {},
   "outputs": [],
   "source": [
    "df_2019.to_csv('2019.csv')"
   ]
  },
  {
   "cell_type": "code",
   "execution_count": 99,
   "metadata": {},
   "outputs": [],
   "source": [
    "df_2021.to_csv('2021.csv')"
   ]
  },
  {
   "cell_type": "code",
   "execution_count": 100,
   "metadata": {},
   "outputs": [],
   "source": [
    "df_2022.to_csv('2022.csv')"
   ]
  },
  {
   "cell_type": "code",
   "execution_count": 95,
   "metadata": {},
   "outputs": [
    {
     "data": {
      "text/plain": [
       "((4756, 31), (4830, 31), (0, 31), (2172, 31), (5622, 31))"
      ]
     },
     "execution_count": 95,
     "metadata": {},
     "output_type": "execute_result"
    }
   ],
   "source": [
    "df_2018.shape,df_2019.shape,df_2020.shape,df_2021.shape,df_2022.shape"
   ]
  },
  {
   "cell_type": "code",
   "execution_count": 96,
   "metadata": {},
   "outputs": [
    {
     "data": {
      "text/plain": [
       "17380"
      ]
     },
     "execution_count": 96,
     "metadata": {},
     "output_type": "execute_result"
    }
   ],
   "source": [
    "4756+4830+2172+5622"
   ]
  },
  {
   "cell_type": "code",
   "execution_count": 92,
   "metadata": {},
   "outputs": [
    {
     "data": {
      "text/plain": [
       "start_time\n",
       "2019-04-23 14:30:00    88\n",
       "2021-04-25 10:00:00    88\n",
       "2021-04-28 14:00:00    88\n",
       "2022-04-30 10:00:00    86\n",
       "2019-04-06 10:30:00    86\n",
       "                       ..\n",
       "2018-04-14 10:30:00    68\n",
       "2022-05-18 14:00:00    68\n",
       "2022-04-06 14:00:00    68\n",
       "2022-04-10 10:00:00    68\n",
       "2022-05-09 14:00:00    68\n",
       "Name: count, Length: 221, dtype: int64"
      ]
     },
     "execution_count": 92,
     "metadata": {},
     "output_type": "execute_result"
    }
   ],
   "source": [
    "df_fil['start_time'].value_counts()"
   ]
  },
  {
   "cell_type": "code",
   "execution_count": 66,
   "metadata": {},
   "outputs": [],
   "source": [
    "df_fil.to_csv('2022data.csv')"
   ]
  },
  {
   "cell_type": "code",
   "execution_count": 20,
   "metadata": {},
   "outputs": [
    {
     "data": {
      "text/plain": [
       "away_team_id           0\n",
       "floodlit_name          0\n",
       "home_team_id           0\n",
       "team1_abbreviation     0\n",
       "team2_abbreviation     0\n",
       "batting_position       0\n",
       "innings_number         0\n",
       "runs                   0\n",
       "fours                  0\n",
       "sixes                  0\n",
       "age                    0\n",
       "name                   0\n",
       "position               0\n",
       "ground_name            0\n",
       "avgtemp_c              0\n",
       "maxwind_kph            0\n",
       "condition              0\n",
       "Avg_Balls_Faced        0\n",
       "Avg_Strike_Rate        0\n",
       "Total_Fifties_Mean     0\n",
       "Total_Hundreds_Mean    0\n",
       "Total_Fifties          0\n",
       "Total_Hundreds         0\n",
       "Total_Fours_sum        0\n",
       "Total_Sixes_sum        0\n",
       "Total_Fours_mean       0\n",
       "Total_Sixes_mean       0\n",
       "Total_runs             0\n",
       "Total_runs_mean        0\n",
       "dtype: int64"
      ]
     },
     "execution_count": 20,
     "metadata": {},
     "output_type": "execute_result"
    }
   ],
   "source": [
    "df_fil.isna().sum()"
   ]
  },
  {
   "cell_type": "code",
   "execution_count": 19,
   "metadata": {},
   "outputs": [
    {
     "name": "stderr",
     "output_type": "stream",
     "text": [
      "C:\\Users\\tarun\\AppData\\Local\\Temp\\ipykernel_24580\\42254158.py:1: SettingWithCopyWarning: \n",
      "A value is trying to be set on a copy of a slice from a DataFrame\n",
      "\n",
      "See the caveats in the documentation: https://pandas.pydata.org/pandas-docs/stable/user_guide/indexing.html#returning-a-view-versus-a-copy\n",
      "  df_fil.fillna(0,inplace=True)\n"
     ]
    }
   ],
   "source": [
    "df_fil.fillna(0,inplace=True)"
   ]
  },
  {
   "cell_type": "code",
   "execution_count": 708,
   "metadata": {},
   "outputs": [
    {
     "data": {
      "text/plain": [
       "8.0"
      ]
     },
     "execution_count": 708,
     "metadata": {},
     "output_type": "execute_result"
    }
   ],
   "source": [
    "df_fil.iloc[10]['runs']"
   ]
  },
  {
   "cell_type": "code",
   "execution_count": 717,
   "metadata": {},
   "outputs": [
    {
     "data": {
      "text/plain": [
       "'1.31.0'"
      ]
     },
     "execution_count": 717,
     "metadata": {},
     "output_type": "execute_result"
    }
   ],
   "source": [
    "import streamlit\n",
    "streamlit.__version__"
   ]
  },
  {
   "cell_type": "code",
   "execution_count": 716,
   "metadata": {},
   "outputs": [
    {
     "data": {
      "text/plain": [
       "away_team_id                                                     4344.0\n",
       "floodlit_name                                               night match\n",
       "home_team_id                                                     5143.0\n",
       "team1_abbreviation                                                  SRH\n",
       "team2_abbreviation                                                   DC\n",
       "batting_position                                                    3.0\n",
       "innings_number                                                        1\n",
       "runs                                                               25.0\n",
       "fours                                                               5.0\n",
       "sixes                                                               0.0\n",
       "description                                              Right-hand bat\n",
       "age                                                                32.0\n",
       "name                                                     Mitchell Marsh\n",
       "position                                                             AR\n",
       "ground_name           Rajiv Gandhi International Stadium, Uppal, Hyd...\n",
       "avgtemp_c                                                          29.0\n",
       "maxwind_kph                                                        24.8\n",
       "Total_Fifties                                                       2.0\n",
       "condition                                          Patchy rain possible\n",
       "Total_Hundreds                                                      0.0\n",
       "Avg_Balls_Faced                                               10.777778\n",
       "Avg_Strike_Rate                                               89.261111\n",
       "Total_Fours_mean                                               1.222222\n",
       "Total_Sixes_mean                                               0.777778\n",
       "Total_runs                                                    14.222222\n",
       "Name: 1203, dtype: object"
      ]
     },
     "execution_count": 716,
     "metadata": {},
     "output_type": "execute_result"
    }
   ],
   "source": [
    "df_fil.iloc[1203]"
   ]
  },
  {
   "cell_type": "code",
   "execution_count": 639,
   "metadata": {},
   "outputs": [
    {
     "name": "stdout",
     "output_type": "stream",
     "text": [
      "(5646, 25)\n"
     ]
    }
   ],
   "source": [
    "# Boolean indexing to get rows where 'position' is not 'Right arm offbreak'\n",
    "df_fil = df_fil[df_fil['description'] != 'Right arm offbreak']\n",
    "\n",
    "# Display the resulting DataFrame\n",
    "print(df_fil.shape)"
   ]
  },
  {
   "cell_type": "code",
   "execution_count": 640,
   "metadata": {},
   "outputs": [
    {
     "name": "stdout",
     "output_type": "stream",
     "text": [
      "(5640, 25)\n"
     ]
    }
   ],
   "source": [
    "\n",
    "# Boolean indexing to get rows where 'position' is not 'Right arm offbreak'\n",
    "df_fil = df_fil[df_fil['description'] != 'Right hand Bat']\n",
    "\n",
    "# Display the resulting DataFrame\n",
    "print(df_fil.shape)"
   ]
  },
  {
   "cell_type": "code",
   "execution_count": 1041,
   "metadata": {},
   "outputs": [
    {
     "name": "stderr",
     "output_type": "stream",
     "text": [
      "C:\\Users\\tarun\\AppData\\Local\\Temp\\ipykernel_22656\\883465990.py:3: SettingWithCopyWarning: \n",
      "A value is trying to be set on a copy of a slice from a DataFrame.\n",
      "Try using .loc[row_indexer,col_indexer] = value instead\n",
      "\n",
      "See the caveats in the documentation: https://pandas.pydata.org/pandas-docs/stable/user_guide/indexing.html#returning-a-view-versus-a-copy\n",
      "  df_fil[column] = df_fil[column].astype(str)\n"
     ]
    }
   ],
   "source": [
    "label_encoder_dict = joblib.load('label_encoders_main123_check.joblib')\n",
    "for column, le in label_encoder_dict.items():\n",
    "    df_fil[column] = df_fil[column].astype(str)\n",
    "    unseen_labels = set(df_fil[column]) - set(le.classes_)\n",
    "    df_fil = df_fil[~df_fil[column].isin(unseen_labels)]\n",
    "    df_fil[column] = df_fil[column].map(lambda x: le.transform([x])[0])"
   ]
  },
  {
   "cell_type": "code",
   "execution_count": 665,
   "metadata": {},
   "outputs": [],
   "source": [
    "df=pd.read_csv('filtercolsmain.csv', index_col=0)"
   ]
  },
  {
   "cell_type": "code",
   "execution_count": 541,
   "metadata": {},
   "outputs": [
    {
     "name": "stderr",
     "output_type": "stream",
     "text": [
      "C:\\Users\\tarun\\AppData\\Local\\Temp\\ipykernel_22656\\2282292539.py:14: SettingWithCopyWarning: \n",
      "A value is trying to be set on a copy of a slice from a DataFrame.\n",
      "Try using .loc[row_indexer,col_indexer] = value instead\n",
      "\n",
      "See the caveats in the documentation: https://pandas.pydata.org/pandas-docs/stable/user_guide/indexing.html#returning-a-view-versus-a-copy\n",
      "  df_fil[columns_to_encode] = df_fil[columns_to_encode].astype(str)\n",
      "C:\\Users\\tarun\\AppData\\Local\\Temp\\ipykernel_22656\\2282292539.py:18: SettingWithCopyWarning: \n",
      "A value is trying to be set on a copy of a slice from a DataFrame\n",
      "\n",
      "See the caveats in the documentation: https://pandas.pydata.org/pandas-docs/stable/user_guide/indexing.html#returning-a-view-versus-a-copy\n",
      "  df_fil.fillna(nan_label, inplace=True)\n",
      "C:\\Users\\tarun\\AppData\\Local\\Temp\\ipykernel_22656\\2282292539.py:30: SettingWithCopyWarning: \n",
      "A value is trying to be set on a copy of a slice from a DataFrame.\n",
      "Try using .loc[row_indexer,col_indexer] = value instead\n",
      "\n",
      "See the caveats in the documentation: https://pandas.pydata.org/pandas-docs/stable/user_guide/indexing.html#returning-a-view-versus-a-copy\n",
      "  df_fil[column] = le.transform(df_fil[column])  # Re-transform\n",
      "C:\\Users\\tarun\\AppData\\Local\\Temp\\ipykernel_22656\\2282292539.py:26: SettingWithCopyWarning: \n",
      "A value is trying to be set on a copy of a slice from a DataFrame.\n",
      "Try using .loc[row_indexer,col_indexer] = value instead\n",
      "\n",
      "See the caveats in the documentation: https://pandas.pydata.org/pandas-docs/stable/user_guide/indexing.html#returning-a-view-versus-a-copy\n",
      "  df_fil[column] = le.transform(df_fil[column])\n",
      "C:\\Users\\tarun\\AppData\\Local\\Temp\\ipykernel_22656\\2282292539.py:26: SettingWithCopyWarning: \n",
      "A value is trying to be set on a copy of a slice from a DataFrame.\n",
      "Try using .loc[row_indexer,col_indexer] = value instead\n",
      "\n",
      "See the caveats in the documentation: https://pandas.pydata.org/pandas-docs/stable/user_guide/indexing.html#returning-a-view-versus-a-copy\n",
      "  df_fil[column] = le.transform(df_fil[column])\n",
      "C:\\Users\\tarun\\AppData\\Local\\Temp\\ipykernel_22656\\2282292539.py:30: SettingWithCopyWarning: \n",
      "A value is trying to be set on a copy of a slice from a DataFrame.\n",
      "Try using .loc[row_indexer,col_indexer] = value instead\n",
      "\n",
      "See the caveats in the documentation: https://pandas.pydata.org/pandas-docs/stable/user_guide/indexing.html#returning-a-view-versus-a-copy\n",
      "  df_fil[column] = le.transform(df_fil[column])  # Re-transform\n",
      "C:\\Users\\tarun\\AppData\\Local\\Temp\\ipykernel_22656\\2282292539.py:30: SettingWithCopyWarning: \n",
      "A value is trying to be set on a copy of a slice from a DataFrame.\n",
      "Try using .loc[row_indexer,col_indexer] = value instead\n",
      "\n",
      "See the caveats in the documentation: https://pandas.pydata.org/pandas-docs/stable/user_guide/indexing.html#returning-a-view-versus-a-copy\n",
      "  df_fil[column] = le.transform(df_fil[column])  # Re-transform\n",
      "C:\\Users\\tarun\\AppData\\Local\\Temp\\ipykernel_22656\\2282292539.py:26: SettingWithCopyWarning: \n",
      "A value is trying to be set on a copy of a slice from a DataFrame.\n",
      "Try using .loc[row_indexer,col_indexer] = value instead\n",
      "\n",
      "See the caveats in the documentation: https://pandas.pydata.org/pandas-docs/stable/user_guide/indexing.html#returning-a-view-versus-a-copy\n",
      "  df_fil[column] = le.transform(df_fil[column])\n",
      "C:\\Users\\tarun\\AppData\\Local\\Temp\\ipykernel_22656\\2282292539.py:30: SettingWithCopyWarning: \n",
      "A value is trying to be set on a copy of a slice from a DataFrame.\n",
      "Try using .loc[row_indexer,col_indexer] = value instead\n",
      "\n",
      "See the caveats in the documentation: https://pandas.pydata.org/pandas-docs/stable/user_guide/indexing.html#returning-a-view-versus-a-copy\n",
      "  df_fil[column] = le.transform(df_fil[column])  # Re-transform\n",
      "C:\\Users\\tarun\\AppData\\Local\\Temp\\ipykernel_22656\\2282292539.py:30: SettingWithCopyWarning: \n",
      "A value is trying to be set on a copy of a slice from a DataFrame.\n",
      "Try using .loc[row_indexer,col_indexer] = value instead\n",
      "\n",
      "See the caveats in the documentation: https://pandas.pydata.org/pandas-docs/stable/user_guide/indexing.html#returning-a-view-versus-a-copy\n",
      "  df_fil[column] = le.transform(df_fil[column])  # Re-transform\n"
     ]
    }
   ],
   "source": [
    "import joblib\n",
    "import numpy as np\n",
    "import pandas as pd\n",
    "from sklearn.preprocessing import LabelEncoder\n",
    "\n",
    "# Load the label encoder mappings\n",
    "label_encoder_dict = joblib.load('label_encoders_main123.joblib')\n",
    "\n",
    "# Assuming df is your DataFrame and columns_to_encode is a list of columns to encode\n",
    "columns_to_encode = ['floodlit_name', 'team1_abbreviation', 'team2_abbreviation',\n",
    "       'description', 'name', 'position', 'ground_name', 'condition']\n",
    "\n",
    "# Ensure data types are strings\n",
    "df_fil[columns_to_encode] = df_fil[columns_to_encode].astype(str)\n",
    "\n",
    "# Handle NaN values with a specific label\n",
    "nan_label = 'unknown'\n",
    "df_fil.fillna(nan_label, inplace=True)\n",
    "\n",
    "# Apply the stored LabelEncoders to the new data, handling unseen values\n",
    "for column in columns_to_encode:\n",
    "    le = label_encoder_dict.get(column, LabelEncoder())\n",
    "\n",
    "    # Ensure unseen labels are handled appropriately:\n",
    "    try:\n",
    "        df_fil[column] = le.transform(df_fil[column])\n",
    "    except ValueError as e:\n",
    "        if \"y contains previously unseen labels\" in str(e):\n",
    "            le.classes_ = np.append(le.classes_, df_fil[column].tolist())  # Update classes dynamically\n",
    "            df_fil[column] = le.transform(df_fil[column])  # Re-transform\n",
    "        else:\n",
    "            raise  # Re-raise other errors"
   ]
  },
  {
   "cell_type": "code",
   "execution_count": 1046,
   "metadata": {},
   "outputs": [],
   "source": [
    "rf_model=joblib.load('multi_output_rf_model__check123__check.joblib')"
   ]
  },
  {
   "cell_type": "code",
   "execution_count": 1050,
   "metadata": {},
   "outputs": [
    {
     "name": "stdout",
     "output_type": "stream",
     "text": [
      "R^2 Scores: [0.5379114053527919, 0.48844955838325965, 0.27582489331187376]\n",
      "RMSE Scores: [11.413985178194746, 1.2319075546024079, 0.8901038187465704]\n",
      "MSE Scores: [130.27905764804936, 1.5175962230864843, 0.7922848081472275]\n",
      "MAE Scores: [5.139301150715689, 0.515881279820376, 0.37178922256525393]\n"
     ]
    }
   ],
   "source": [
    "from sklearn.metrics import r2_score, mean_squared_error, mean_absolute_error\n",
    "import numpy as np\n",
    "\n",
    "# Extract features and target variables from the DataFrame\n",
    "X = df_fil.drop(['runs', 'fours', 'sixes'], axis=1)\n",
    "y_true = df_fil[['runs', 'fours', 'sixes']]\n",
    "\n",
    "# Make predictions using your saved model\n",
    "y_pred = rf_model.predict(X)\n",
    "\n",
    "# Evaluate R^2 for each target\n",
    "r2_scores = [r2_score(y_true[col], y_pred[:, idx]) for idx, col in enumerate(y_true.columns)]\n",
    "print(f'R^2 Scores: {r2_scores}')\n",
    "\n",
    "# Evaluate RMSE for each target\n",
    "rmse_scores = [np.sqrt(mean_squared_error(y_true[col], y_pred[:, idx])) for idx, col in enumerate(y_true.columns)]\n",
    "print(f'RMSE Scores: {rmse_scores}')\n",
    "\n",
    "# Evaluate MSE for each target\n",
    "mse_scores = [mean_squared_error(y_true[col], y_pred[:, idx]) for idx, col in enumerate(y_true.columns)]\n",
    "print(f'MSE Scores: {mse_scores}')\n",
    "\n",
    "# Evaluate MAE for each target\n",
    "mae_scores = [mean_absolute_error(y_true[col], y_pred[:, idx]) for idx, col in enumerate(y_true.columns)]\n",
    "print(f'MAE Scores: {mae_scores}')"
   ]
  },
  {
   "cell_type": "code",
   "execution_count": 656,
   "metadata": {},
   "outputs": [
    {
     "data": {
      "text/plain": [
       "20.0"
      ]
     },
     "execution_count": 656,
     "metadata": {},
     "output_type": "execute_result"
    }
   ],
   "source": [
    "df_fil.iloc[212]['runs']"
   ]
  },
  {
   "cell_type": "code",
   "execution_count": 660,
   "metadata": {},
   "outputs": [
    {
     "data": {
      "text/plain": [
       "(4072, 25)"
      ]
     },
     "execution_count": 660,
     "metadata": {},
     "output_type": "execute_result"
    }
   ],
   "source": [
    "df_fil.shape"
   ]
  },
  {
   "cell_type": "code",
   "execution_count": 1072,
   "metadata": {},
   "outputs": [
    {
     "data": {
      "text/plain": [
       "away_team_id           6904.000000\n",
       "floodlit_name             1.000000\n",
       "home_team_id           4344.000000\n",
       "team1_abbreviation        1.000000\n",
       "team2_abbreviation        2.000000\n",
       "batting_position          4.000000\n",
       "innings_number            2.000000\n",
       "runs                      5.000000\n",
       "fours                     1.000000\n",
       "sixes                     0.000000\n",
       "description              13.000000\n",
       "age                      30.000000\n",
       "name                     76.000000\n",
       "position                  0.000000\n",
       "ground_name               1.000000\n",
       "avgtemp_c                26.000000\n",
       "maxwind_kph              16.200000\n",
       "condition                 0.000000\n",
       "Avg_Balls_Faced          15.866667\n",
       "Avg_Strike_Rate         127.686000\n",
       "Total_Fifties_Mean        0.133333\n",
       "Total_Hundreds_Mean       0.000000\n",
       "Total_Fifties             4.000000\n",
       "Total_Hundreds            0.000000\n",
       "Total_Fours_sum          50.000000\n",
       "Total_Sixes_sum          26.000000\n",
       "Total_Fours_mean          1.666667\n",
       "Total_Sixes_mean          0.866667\n",
       "Total_runs              642.000000\n",
       "Total_runs_mean          21.400000\n",
       "Name: 7, dtype: float64"
      ]
     },
     "execution_count": 1072,
     "metadata": {},
     "output_type": "execute_result"
    }
   ],
   "source": [
    "df_fil.iloc[7]"
   ]
  },
  {
   "cell_type": "code",
   "execution_count": 1111,
   "metadata": {},
   "outputs": [
    {
     "name": "stdout",
     "output_type": "stream",
     "text": [
      "Model Prediction: [[33.48   3.005  1.46 ]]\n"
     ]
    }
   ],
   "source": [
    "import pandas as pd\n",
    "\n",
    "# Create a dictionary with the values\n",
    "data = {\n",
    "    'away_team_id': [6904.000000],\n",
    "    'floodlit_name': [1.000000],\n",
    "    'home_team_id': [4344.000000],\n",
    "    'team1_abbreviation': [1.000000],\n",
    "    'team2_abbreviation': [2.000000],\n",
    "    'batting_position': [4.000000],\n",
    "    'innings_number': [2.000000],\n",
    "    'age': [30.000000],\n",
    "    'name': [76.000000],\n",
    "    'position': [0.000000],\n",
    "    'ground_name': [1.000000],\n",
    "    'avgtemp_c': [26.300000],\n",
    "    'maxwind_kph': [16.200000],\n",
    "    'condition': [0.00000],\n",
    "    'Avg_Balls_Faced': [15.50000],\n",
    "    'Avg_Strike_Rate': [127.35875],\n",
    "    'Total_Fifties_Mean' :[0.130],\n",
    "    'Total_Hundreds_Mean':[0],\n",
    "    'Total_Fifties':[4.00000],\n",
    "    'Total_Hundreds':[0.00000],\n",
    "    'Total_Fours_sum':[50.00000],\n",
    "    'Total_Sixes_sum' :[26.00000],\n",
    "    'Total_Fours_mean':[1.6875],\n",
    "    'Total_Sixes_mean':[0.865625],\n",
    "    'Total_runs':[640.00000],\n",
    "    'Total_runs_mean':[21.37500]\n",
    "\n",
    "}\n",
    "\n",
    "# Create a DataFrame\n",
    "new_observation = pd.DataFrame(data)\n",
    "\n",
    "# Use the RandomForestRegressor for prediction\n",
    "prediction = rf_pipeline.predict(new_observation)\n",
    "\n",
    "# Display the prediction\n",
    "print(f'Model Prediction: {prediction}')"
   ]
  },
  {
   "cell_type": "code",
   "execution_count": 1047,
   "metadata": {},
   "outputs": [
    {
     "data": {
      "text/plain": [
       "away_team_id           6904.0000\n",
       "floodlit_name             1.0000\n",
       "home_team_id           4342.0000\n",
       "team1_abbreviation        6.0000\n",
       "team2_abbreviation        2.0000\n",
       "batting_position          4.0000\n",
       "innings_number            1.0000\n",
       "runs                     20.0000\n",
       "fours                     1.0000\n",
       "sixes                     0.0000\n",
       "description              10.0000\n",
       "age                      32.0000\n",
       "name                     32.0000\n",
       "position                  7.0000\n",
       "ground_name              12.0000\n",
       "avgtemp_c                29.2000\n",
       "maxwind_kph              23.8000\n",
       "condition                 7.0000\n",
       "Avg_Balls_Faced          15.5000\n",
       "Avg_Strike_Rate          83.2925\n",
       "Total_Fifties_Mean        0.2500\n",
       "Total_Hundreds_Mean       0.0000\n",
       "Total_Fifties             2.0000\n",
       "Total_Hundreds            0.0000\n",
       "Total_Fours_sum          12.0000\n",
       "Total_Sixes_sum           4.0000\n",
       "Total_Fours_mean          1.5000\n",
       "Total_Sixes_mean          0.5000\n",
       "Total_runs              142.0000\n",
       "Total_runs_mean          17.7500\n",
       "Name: 236, dtype: float64"
      ]
     },
     "execution_count": 1047,
     "metadata": {},
     "output_type": "execute_result"
    }
   ],
   "source": [
    "df_fil.iloc[212]"
   ]
  },
  {
   "cell_type": "code",
   "execution_count": 994,
   "metadata": {},
   "outputs": [
    {
     "name": "stdout",
     "output_type": "stream",
     "text": [
      "Index(['floodlit_name', 'team1_abbreviation', 'team2_abbreviation',\n",
      "       'description', 'name', 'position', 'ground_name', 'condition'],\n",
      "      dtype='object')\n"
     ]
    }
   ],
   "source": [
    "import pandas as pd\n",
    "\n",
    "# Assuming df is your DataFrame\n",
    "object_columns = df_fil.select_dtypes(include=['object']).columns\n",
    "\n",
    "# Now, object_columns contains the names of columns that have object data type\n",
    "print(object_columns)"
   ]
  },
  {
   "cell_type": "code",
   "execution_count": 610,
   "metadata": {},
   "outputs": [
    {
     "data": {
      "text/plain": [
       "away_team_id          float64\n",
       "floodlit_name          object\n",
       "home_team_id          float64\n",
       "team1_abbreviation     object\n",
       "team2_abbreviation     object\n",
       "batting_position      float64\n",
       "innings_number          int64\n",
       "runs                  float64\n",
       "fours                 float64\n",
       "sixes                 float64\n",
       "description            object\n",
       "age                   float64\n",
       "name                   object\n",
       "position               object\n",
       "ground_name            object\n",
       "avgtemp_c             float64\n",
       "maxwind_kph           float64\n",
       "Total_Fifties         float64\n",
       "condition              object\n",
       "Total_Hundreds        float64\n",
       "Avg_Balls_Faced       float64\n",
       "Avg_Strike_Rate       float64\n",
       "Total_Fours_mean      float64\n",
       "Total_Sixes_mean      float64\n",
       "Total_runs            float64\n",
       "dtype: object"
      ]
     },
     "execution_count": 610,
     "metadata": {},
     "output_type": "execute_result"
    }
   ],
   "source": [
    "df_fil.dtypes"
   ]
  },
  {
   "cell_type": "code",
   "execution_count": 517,
   "metadata": {},
   "outputs": [
    {
     "name": "stderr",
     "output_type": "stream",
     "text": [
      "C:\\Users\\tarun\\AppData\\Local\\Temp\\ipykernel_22656\\3903338590.py:14: SettingWithCopyWarning: \n",
      "A value is trying to be set on a copy of a slice from a DataFrame.\n",
      "Try using .loc[row_indexer,col_indexer] = value instead\n",
      "\n",
      "See the caveats in the documentation: https://pandas.pydata.org/pandas-docs/stable/user_guide/indexing.html#returning-a-view-versus-a-copy\n",
      "  df_fil[column] = df_fil[column].astype(str)  # Ensure data is treated as strings\n",
      "C:\\Users\\tarun\\AppData\\Local\\Temp\\ipykernel_22656\\3903338590.py:15: SettingWithCopyWarning: \n",
      "A value is trying to be set on a copy of a slice from a DataFrame.\n",
      "Try using .loc[row_indexer,col_indexer] = value instead\n",
      "\n",
      "See the caveats in the documentation: https://pandas.pydata.org/pandas-docs/stable/user_guide/indexing.html#returning-a-view-versus-a-copy\n",
      "  df_fil[column] = le.fit_transform(df_fil[column])\n",
      "C:\\Users\\tarun\\AppData\\Local\\Temp\\ipykernel_22656\\3903338590.py:14: SettingWithCopyWarning: \n",
      "A value is trying to be set on a copy of a slice from a DataFrame.\n",
      "Try using .loc[row_indexer,col_indexer] = value instead\n",
      "\n",
      "See the caveats in the documentation: https://pandas.pydata.org/pandas-docs/stable/user_guide/indexing.html#returning-a-view-versus-a-copy\n",
      "  df_fil[column] = df_fil[column].astype(str)  # Ensure data is treated as strings\n",
      "C:\\Users\\tarun\\AppData\\Local\\Temp\\ipykernel_22656\\3903338590.py:15: SettingWithCopyWarning: \n",
      "A value is trying to be set on a copy of a slice from a DataFrame.\n",
      "Try using .loc[row_indexer,col_indexer] = value instead\n",
      "\n",
      "See the caveats in the documentation: https://pandas.pydata.org/pandas-docs/stable/user_guide/indexing.html#returning-a-view-versus-a-copy\n",
      "  df_fil[column] = le.fit_transform(df_fil[column])\n",
      "C:\\Users\\tarun\\AppData\\Local\\Temp\\ipykernel_22656\\3903338590.py:14: SettingWithCopyWarning: \n",
      "A value is trying to be set on a copy of a slice from a DataFrame.\n",
      "Try using .loc[row_indexer,col_indexer] = value instead\n",
      "\n",
      "See the caveats in the documentation: https://pandas.pydata.org/pandas-docs/stable/user_guide/indexing.html#returning-a-view-versus-a-copy\n",
      "  df_fil[column] = df_fil[column].astype(str)  # Ensure data is treated as strings\n",
      "C:\\Users\\tarun\\AppData\\Local\\Temp\\ipykernel_22656\\3903338590.py:15: SettingWithCopyWarning: \n",
      "A value is trying to be set on a copy of a slice from a DataFrame.\n",
      "Try using .loc[row_indexer,col_indexer] = value instead\n",
      "\n",
      "See the caveats in the documentation: https://pandas.pydata.org/pandas-docs/stable/user_guide/indexing.html#returning-a-view-versus-a-copy\n",
      "  df_fil[column] = le.fit_transform(df_fil[column])\n",
      "C:\\Users\\tarun\\AppData\\Local\\Temp\\ipykernel_22656\\3903338590.py:14: SettingWithCopyWarning: \n",
      "A value is trying to be set on a copy of a slice from a DataFrame.\n",
      "Try using .loc[row_indexer,col_indexer] = value instead\n",
      "\n",
      "See the caveats in the documentation: https://pandas.pydata.org/pandas-docs/stable/user_guide/indexing.html#returning-a-view-versus-a-copy\n",
      "  df_fil[column] = df_fil[column].astype(str)  # Ensure data is treated as strings\n",
      "C:\\Users\\tarun\\AppData\\Local\\Temp\\ipykernel_22656\\3903338590.py:15: SettingWithCopyWarning: \n",
      "A value is trying to be set on a copy of a slice from a DataFrame.\n",
      "Try using .loc[row_indexer,col_indexer] = value instead\n",
      "\n",
      "See the caveats in the documentation: https://pandas.pydata.org/pandas-docs/stable/user_guide/indexing.html#returning-a-view-versus-a-copy\n",
      "  df_fil[column] = le.fit_transform(df_fil[column])\n",
      "C:\\Users\\tarun\\AppData\\Local\\Temp\\ipykernel_22656\\3903338590.py:14: SettingWithCopyWarning: \n",
      "A value is trying to be set on a copy of a slice from a DataFrame.\n",
      "Try using .loc[row_indexer,col_indexer] = value instead\n",
      "\n",
      "See the caveats in the documentation: https://pandas.pydata.org/pandas-docs/stable/user_guide/indexing.html#returning-a-view-versus-a-copy\n",
      "  df_fil[column] = df_fil[column].astype(str)  # Ensure data is treated as strings\n",
      "C:\\Users\\tarun\\AppData\\Local\\Temp\\ipykernel_22656\\3903338590.py:15: SettingWithCopyWarning: \n",
      "A value is trying to be set on a copy of a slice from a DataFrame.\n",
      "Try using .loc[row_indexer,col_indexer] = value instead\n",
      "\n",
      "See the caveats in the documentation: https://pandas.pydata.org/pandas-docs/stable/user_guide/indexing.html#returning-a-view-versus-a-copy\n",
      "  df_fil[column] = le.fit_transform(df_fil[column])\n",
      "C:\\Users\\tarun\\AppData\\Local\\Temp\\ipykernel_22656\\3903338590.py:14: SettingWithCopyWarning: \n",
      "A value is trying to be set on a copy of a slice from a DataFrame.\n",
      "Try using .loc[row_indexer,col_indexer] = value instead\n",
      "\n",
      "See the caveats in the documentation: https://pandas.pydata.org/pandas-docs/stable/user_guide/indexing.html#returning-a-view-versus-a-copy\n",
      "  df_fil[column] = df_fil[column].astype(str)  # Ensure data is treated as strings\n",
      "C:\\Users\\tarun\\AppData\\Local\\Temp\\ipykernel_22656\\3903338590.py:15: SettingWithCopyWarning: \n",
      "A value is trying to be set on a copy of a slice from a DataFrame.\n",
      "Try using .loc[row_indexer,col_indexer] = value instead\n",
      "\n",
      "See the caveats in the documentation: https://pandas.pydata.org/pandas-docs/stable/user_guide/indexing.html#returning-a-view-versus-a-copy\n",
      "  df_fil[column] = le.fit_transform(df_fil[column])\n",
      "C:\\Users\\tarun\\AppData\\Local\\Temp\\ipykernel_22656\\3903338590.py:14: SettingWithCopyWarning: \n",
      "A value is trying to be set on a copy of a slice from a DataFrame.\n",
      "Try using .loc[row_indexer,col_indexer] = value instead\n",
      "\n",
      "See the caveats in the documentation: https://pandas.pydata.org/pandas-docs/stable/user_guide/indexing.html#returning-a-view-versus-a-copy\n",
      "  df_fil[column] = df_fil[column].astype(str)  # Ensure data is treated as strings\n",
      "C:\\Users\\tarun\\AppData\\Local\\Temp\\ipykernel_22656\\3903338590.py:15: SettingWithCopyWarning: \n",
      "A value is trying to be set on a copy of a slice from a DataFrame.\n",
      "Try using .loc[row_indexer,col_indexer] = value instead\n",
      "\n",
      "See the caveats in the documentation: https://pandas.pydata.org/pandas-docs/stable/user_guide/indexing.html#returning-a-view-versus-a-copy\n",
      "  df_fil[column] = le.fit_transform(df_fil[column])\n",
      "C:\\Users\\tarun\\AppData\\Local\\Temp\\ipykernel_22656\\3903338590.py:14: SettingWithCopyWarning: \n",
      "A value is trying to be set on a copy of a slice from a DataFrame.\n",
      "Try using .loc[row_indexer,col_indexer] = value instead\n",
      "\n",
      "See the caveats in the documentation: https://pandas.pydata.org/pandas-docs/stable/user_guide/indexing.html#returning-a-view-versus-a-copy\n",
      "  df_fil[column] = df_fil[column].astype(str)  # Ensure data is treated as strings\n",
      "C:\\Users\\tarun\\AppData\\Local\\Temp\\ipykernel_22656\\3903338590.py:15: SettingWithCopyWarning: \n",
      "A value is trying to be set on a copy of a slice from a DataFrame.\n",
      "Try using .loc[row_indexer,col_indexer] = value instead\n",
      "\n",
      "See the caveats in the documentation: https://pandas.pydata.org/pandas-docs/stable/user_guide/indexing.html#returning-a-view-versus-a-copy\n",
      "  df_fil[column] = le.fit_transform(df_fil[column])\n"
     ]
    }
   ],
   "source": [
    "import pandas as pd\n",
    "from sklearn.preprocessing import LabelEncoder\n",
    "import joblib\n",
    "\n",
    "# Assuming df_fil is your DataFrame and columns_to_encode is the list of columns to encode\n",
    "columns_to_encode = ['floodlit_name', 'team1_abbreviation', 'team2_abbreviation', 'description', 'name', 'position', 'ground_name', 'condition']\n",
    "\n",
    "# Create a dictionary to store LabelEncoders for each column\n",
    "label_encoder_dict = {}\n",
    "\n",
    "# Encode each column and store the encoder in the dictionary\n",
    "for column in columns_to_encode:\n",
    "    le = LabelEncoder()\n",
    "    df_fil[column] = df_fil[column].astype(str)  # Ensure data is treated as strings\n",
    "    df_fil[column] = le.fit_transform(df_fil[column])\n",
    "    label_encoder_dict[column] = le\n",
    "\n",
    "# Save the label encoders to a single joblib file\n",
    "joblib.dump(label_encoder_dict, 'label_encoders.joblib')\n",
    "\n",
    "# Save the encodings in a text file\n",
    "with open('encodings.txt', 'w') as f:\n",
    "    for column, le in label_encoder_dict.items():\n",
    "        f.write(f\"{column}:\\n\")\n",
    "        for class_label, encoding in zip(le.classes_, le.transform(le.classes_)):\n",
    "            f.write(f\"{class_label}: {encoding}\\n\")\n",
    "        f.write('\\n')\n"
   ]
  },
  {
   "cell_type": "code",
   "execution_count": 1151,
   "metadata": {},
   "outputs": [
    {
     "name": "stderr",
     "output_type": "stream",
     "text": [
      "C:\\Users\\tarun\\AppData\\Local\\Temp\\ipykernel_22656\\3918671098.py:13: SettingWithCopyWarning: \n",
      "A value is trying to be set on a copy of a slice from a DataFrame.\n",
      "Try using .loc[row_indexer,col_indexer] = value instead\n",
      "\n",
      "See the caveats in the documentation: https://pandas.pydata.org/pandas-docs/stable/user_guide/indexing.html#returning-a-view-versus-a-copy\n",
      "  df_fil[column] = df_fil[column].astype(str)  # Ensure data is treated as strings\n",
      "C:\\Users\\tarun\\AppData\\Local\\Temp\\ipykernel_22656\\3918671098.py:14: SettingWithCopyWarning: \n",
      "A value is trying to be set on a copy of a slice from a DataFrame.\n",
      "Try using .loc[row_indexer,col_indexer] = value instead\n",
      "\n",
      "See the caveats in the documentation: https://pandas.pydata.org/pandas-docs/stable/user_guide/indexing.html#returning-a-view-versus-a-copy\n",
      "  df_fil[column] = le.fit_transform(df_fil[column])\n",
      "C:\\Users\\tarun\\AppData\\Local\\Temp\\ipykernel_22656\\3918671098.py:13: SettingWithCopyWarning: \n",
      "A value is trying to be set on a copy of a slice from a DataFrame.\n",
      "Try using .loc[row_indexer,col_indexer] = value instead\n",
      "\n",
      "See the caveats in the documentation: https://pandas.pydata.org/pandas-docs/stable/user_guide/indexing.html#returning-a-view-versus-a-copy\n",
      "  df_fil[column] = df_fil[column].astype(str)  # Ensure data is treated as strings\n",
      "C:\\Users\\tarun\\AppData\\Local\\Temp\\ipykernel_22656\\3918671098.py:14: SettingWithCopyWarning: \n",
      "A value is trying to be set on a copy of a slice from a DataFrame.\n",
      "Try using .loc[row_indexer,col_indexer] = value instead\n",
      "\n",
      "See the caveats in the documentation: https://pandas.pydata.org/pandas-docs/stable/user_guide/indexing.html#returning-a-view-versus-a-copy\n",
      "  df_fil[column] = le.fit_transform(df_fil[column])\n",
      "C:\\Users\\tarun\\AppData\\Local\\Temp\\ipykernel_22656\\3918671098.py:13: SettingWithCopyWarning: \n",
      "A value is trying to be set on a copy of a slice from a DataFrame.\n",
      "Try using .loc[row_indexer,col_indexer] = value instead\n",
      "\n",
      "See the caveats in the documentation: https://pandas.pydata.org/pandas-docs/stable/user_guide/indexing.html#returning-a-view-versus-a-copy\n",
      "  df_fil[column] = df_fil[column].astype(str)  # Ensure data is treated as strings\n",
      "C:\\Users\\tarun\\AppData\\Local\\Temp\\ipykernel_22656\\3918671098.py:14: SettingWithCopyWarning: \n",
      "A value is trying to be set on a copy of a slice from a DataFrame.\n",
      "Try using .loc[row_indexer,col_indexer] = value instead\n",
      "\n",
      "See the caveats in the documentation: https://pandas.pydata.org/pandas-docs/stable/user_guide/indexing.html#returning-a-view-versus-a-copy\n",
      "  df_fil[column] = le.fit_transform(df_fil[column])\n",
      "C:\\Users\\tarun\\AppData\\Local\\Temp\\ipykernel_22656\\3918671098.py:13: SettingWithCopyWarning: \n",
      "A value is trying to be set on a copy of a slice from a DataFrame.\n",
      "Try using .loc[row_indexer,col_indexer] = value instead\n",
      "\n",
      "See the caveats in the documentation: https://pandas.pydata.org/pandas-docs/stable/user_guide/indexing.html#returning-a-view-versus-a-copy\n",
      "  df_fil[column] = df_fil[column].astype(str)  # Ensure data is treated as strings\n",
      "C:\\Users\\tarun\\AppData\\Local\\Temp\\ipykernel_22656\\3918671098.py:14: SettingWithCopyWarning: \n",
      "A value is trying to be set on a copy of a slice from a DataFrame.\n",
      "Try using .loc[row_indexer,col_indexer] = value instead\n",
      "\n",
      "See the caveats in the documentation: https://pandas.pydata.org/pandas-docs/stable/user_guide/indexing.html#returning-a-view-versus-a-copy\n",
      "  df_fil[column] = le.fit_transform(df_fil[column])\n",
      "C:\\Users\\tarun\\AppData\\Local\\Temp\\ipykernel_22656\\3918671098.py:13: SettingWithCopyWarning: \n",
      "A value is trying to be set on a copy of a slice from a DataFrame.\n",
      "Try using .loc[row_indexer,col_indexer] = value instead\n",
      "\n",
      "See the caveats in the documentation: https://pandas.pydata.org/pandas-docs/stable/user_guide/indexing.html#returning-a-view-versus-a-copy\n",
      "  df_fil[column] = df_fil[column].astype(str)  # Ensure data is treated as strings\n",
      "C:\\Users\\tarun\\AppData\\Local\\Temp\\ipykernel_22656\\3918671098.py:14: SettingWithCopyWarning: \n",
      "A value is trying to be set on a copy of a slice from a DataFrame.\n",
      "Try using .loc[row_indexer,col_indexer] = value instead\n",
      "\n",
      "See the caveats in the documentation: https://pandas.pydata.org/pandas-docs/stable/user_guide/indexing.html#returning-a-view-versus-a-copy\n",
      "  df_fil[column] = le.fit_transform(df_fil[column])\n",
      "C:\\Users\\tarun\\AppData\\Local\\Temp\\ipykernel_22656\\3918671098.py:13: SettingWithCopyWarning: \n",
      "A value is trying to be set on a copy of a slice from a DataFrame.\n",
      "Try using .loc[row_indexer,col_indexer] = value instead\n",
      "\n",
      "See the caveats in the documentation: https://pandas.pydata.org/pandas-docs/stable/user_guide/indexing.html#returning-a-view-versus-a-copy\n",
      "  df_fil[column] = df_fil[column].astype(str)  # Ensure data is treated as strings\n",
      "C:\\Users\\tarun\\AppData\\Local\\Temp\\ipykernel_22656\\3918671098.py:14: SettingWithCopyWarning: \n",
      "A value is trying to be set on a copy of a slice from a DataFrame.\n",
      "Try using .loc[row_indexer,col_indexer] = value instead\n",
      "\n",
      "See the caveats in the documentation: https://pandas.pydata.org/pandas-docs/stable/user_guide/indexing.html#returning-a-view-versus-a-copy\n",
      "  df_fil[column] = le.fit_transform(df_fil[column])\n",
      "C:\\Users\\tarun\\AppData\\Local\\Temp\\ipykernel_22656\\3918671098.py:13: SettingWithCopyWarning: \n",
      "A value is trying to be set on a copy of a slice from a DataFrame.\n",
      "Try using .loc[row_indexer,col_indexer] = value instead\n",
      "\n",
      "See the caveats in the documentation: https://pandas.pydata.org/pandas-docs/stable/user_guide/indexing.html#returning-a-view-versus-a-copy\n",
      "  df_fil[column] = df_fil[column].astype(str)  # Ensure data is treated as strings\n",
      "C:\\Users\\tarun\\AppData\\Local\\Temp\\ipykernel_22656\\3918671098.py:14: SettingWithCopyWarning: \n",
      "A value is trying to be set on a copy of a slice from a DataFrame.\n",
      "Try using .loc[row_indexer,col_indexer] = value instead\n",
      "\n",
      "See the caveats in the documentation: https://pandas.pydata.org/pandas-docs/stable/user_guide/indexing.html#returning-a-view-versus-a-copy\n",
      "  df_fil[column] = le.fit_transform(df_fil[column])\n"
     ]
    }
   ],
   "source": [
    "# Columns to encode\n",
    "import joblib\n",
    "from sklearn.preprocessing import LabelEncoder\n",
    "import joblib\n",
    "columns_to_encode =['floodlit_name', 'team1_abbreviation', 'team2_abbreviation',\n",
    "        'name', 'position', 'ground_name', 'condition']\n",
    "# Create a dictionary to store LabelEncoders for each column\n",
    "label_encoder_dict = {}\n",
    "\n",
    "# Encode each column and store the encoder in the dictionary\n",
    "for column in columns_to_encode:\n",
    "    le = LabelEncoder()\n",
    "    df_fil[column] = df_fil[column].astype(str)  # Ensure data is treated as strings\n",
    "    df_fil[column] = le.fit_transform(df_fil[column])\n",
    "    label_encoder_dict[column] = le"
   ]
  },
  {
   "cell_type": "code",
   "execution_count": 580,
   "metadata": {},
   "outputs": [
    {
     "name": "stderr",
     "output_type": "stream",
     "text": [
      "C:\\Users\\tarun\\AppData\\Local\\Temp\\ipykernel_22656\\3903338590.py:14: SettingWithCopyWarning: \n",
      "A value is trying to be set on a copy of a slice from a DataFrame.\n",
      "Try using .loc[row_indexer,col_indexer] = value instead\n",
      "\n",
      "See the caveats in the documentation: https://pandas.pydata.org/pandas-docs/stable/user_guide/indexing.html#returning-a-view-versus-a-copy\n",
      "  df_fil[column] = df_fil[column].astype(str)  # Ensure data is treated as strings\n",
      "C:\\Users\\tarun\\AppData\\Local\\Temp\\ipykernel_22656\\3903338590.py:15: SettingWithCopyWarning: \n",
      "A value is trying to be set on a copy of a slice from a DataFrame.\n",
      "Try using .loc[row_indexer,col_indexer] = value instead\n",
      "\n",
      "See the caveats in the documentation: https://pandas.pydata.org/pandas-docs/stable/user_guide/indexing.html#returning-a-view-versus-a-copy\n",
      "  df_fil[column] = le.fit_transform(df_fil[column])\n",
      "C:\\Users\\tarun\\AppData\\Local\\Temp\\ipykernel_22656\\3903338590.py:14: SettingWithCopyWarning: \n",
      "A value is trying to be set on a copy of a slice from a DataFrame.\n",
      "Try using .loc[row_indexer,col_indexer] = value instead\n",
      "\n",
      "See the caveats in the documentation: https://pandas.pydata.org/pandas-docs/stable/user_guide/indexing.html#returning-a-view-versus-a-copy\n",
      "  df_fil[column] = df_fil[column].astype(str)  # Ensure data is treated as strings\n",
      "C:\\Users\\tarun\\AppData\\Local\\Temp\\ipykernel_22656\\3903338590.py:15: SettingWithCopyWarning: \n",
      "A value is trying to be set on a copy of a slice from a DataFrame.\n",
      "Try using .loc[row_indexer,col_indexer] = value instead\n",
      "\n",
      "See the caveats in the documentation: https://pandas.pydata.org/pandas-docs/stable/user_guide/indexing.html#returning-a-view-versus-a-copy\n",
      "  df_fil[column] = le.fit_transform(df_fil[column])\n",
      "C:\\Users\\tarun\\AppData\\Local\\Temp\\ipykernel_22656\\3903338590.py:14: SettingWithCopyWarning: \n",
      "A value is trying to be set on a copy of a slice from a DataFrame.\n",
      "Try using .loc[row_indexer,col_indexer] = value instead\n",
      "\n",
      "See the caveats in the documentation: https://pandas.pydata.org/pandas-docs/stable/user_guide/indexing.html#returning-a-view-versus-a-copy\n",
      "  df_fil[column] = df_fil[column].astype(str)  # Ensure data is treated as strings\n",
      "C:\\Users\\tarun\\AppData\\Local\\Temp\\ipykernel_22656\\3903338590.py:15: SettingWithCopyWarning: \n",
      "A value is trying to be set on a copy of a slice from a DataFrame.\n",
      "Try using .loc[row_indexer,col_indexer] = value instead\n",
      "\n",
      "See the caveats in the documentation: https://pandas.pydata.org/pandas-docs/stable/user_guide/indexing.html#returning-a-view-versus-a-copy\n",
      "  df_fil[column] = le.fit_transform(df_fil[column])\n",
      "C:\\Users\\tarun\\AppData\\Local\\Temp\\ipykernel_22656\\3903338590.py:14: SettingWithCopyWarning: \n",
      "A value is trying to be set on a copy of a slice from a DataFrame.\n",
      "Try using .loc[row_indexer,col_indexer] = value instead\n",
      "\n",
      "See the caveats in the documentation: https://pandas.pydata.org/pandas-docs/stable/user_guide/indexing.html#returning-a-view-versus-a-copy\n",
      "  df_fil[column] = df_fil[column].astype(str)  # Ensure data is treated as strings\n",
      "C:\\Users\\tarun\\AppData\\Local\\Temp\\ipykernel_22656\\3903338590.py:15: SettingWithCopyWarning: \n",
      "A value is trying to be set on a copy of a slice from a DataFrame.\n",
      "Try using .loc[row_indexer,col_indexer] = value instead\n",
      "\n",
      "See the caveats in the documentation: https://pandas.pydata.org/pandas-docs/stable/user_guide/indexing.html#returning-a-view-versus-a-copy\n",
      "  df_fil[column] = le.fit_transform(df_fil[column])\n",
      "C:\\Users\\tarun\\AppData\\Local\\Temp\\ipykernel_22656\\3903338590.py:14: SettingWithCopyWarning: \n",
      "A value is trying to be set on a copy of a slice from a DataFrame.\n",
      "Try using .loc[row_indexer,col_indexer] = value instead\n",
      "\n",
      "See the caveats in the documentation: https://pandas.pydata.org/pandas-docs/stable/user_guide/indexing.html#returning-a-view-versus-a-copy\n",
      "  df_fil[column] = df_fil[column].astype(str)  # Ensure data is treated as strings\n",
      "C:\\Users\\tarun\\AppData\\Local\\Temp\\ipykernel_22656\\3903338590.py:15: SettingWithCopyWarning: \n",
      "A value is trying to be set on a copy of a slice from a DataFrame.\n",
      "Try using .loc[row_indexer,col_indexer] = value instead\n",
      "\n",
      "See the caveats in the documentation: https://pandas.pydata.org/pandas-docs/stable/user_guide/indexing.html#returning-a-view-versus-a-copy\n",
      "  df_fil[column] = le.fit_transform(df_fil[column])\n",
      "C:\\Users\\tarun\\AppData\\Local\\Temp\\ipykernel_22656\\3903338590.py:14: SettingWithCopyWarning: \n",
      "A value is trying to be set on a copy of a slice from a DataFrame.\n",
      "Try using .loc[row_indexer,col_indexer] = value instead\n",
      "\n",
      "See the caveats in the documentation: https://pandas.pydata.org/pandas-docs/stable/user_guide/indexing.html#returning-a-view-versus-a-copy\n",
      "  df_fil[column] = df_fil[column].astype(str)  # Ensure data is treated as strings\n",
      "C:\\Users\\tarun\\AppData\\Local\\Temp\\ipykernel_22656\\3903338590.py:15: SettingWithCopyWarning: \n",
      "A value is trying to be set on a copy of a slice from a DataFrame.\n",
      "Try using .loc[row_indexer,col_indexer] = value instead\n",
      "\n",
      "See the caveats in the documentation: https://pandas.pydata.org/pandas-docs/stable/user_guide/indexing.html#returning-a-view-versus-a-copy\n",
      "  df_fil[column] = le.fit_transform(df_fil[column])\n",
      "C:\\Users\\tarun\\AppData\\Local\\Temp\\ipykernel_22656\\3903338590.py:14: SettingWithCopyWarning: \n",
      "A value is trying to be set on a copy of a slice from a DataFrame.\n",
      "Try using .loc[row_indexer,col_indexer] = value instead\n",
      "\n",
      "See the caveats in the documentation: https://pandas.pydata.org/pandas-docs/stable/user_guide/indexing.html#returning-a-view-versus-a-copy\n",
      "  df_fil[column] = df_fil[column].astype(str)  # Ensure data is treated as strings\n",
      "C:\\Users\\tarun\\AppData\\Local\\Temp\\ipykernel_22656\\3903338590.py:15: SettingWithCopyWarning: \n",
      "A value is trying to be set on a copy of a slice from a DataFrame.\n",
      "Try using .loc[row_indexer,col_indexer] = value instead\n",
      "\n",
      "See the caveats in the documentation: https://pandas.pydata.org/pandas-docs/stable/user_guide/indexing.html#returning-a-view-versus-a-copy\n",
      "  df_fil[column] = le.fit_transform(df_fil[column])\n",
      "C:\\Users\\tarun\\AppData\\Local\\Temp\\ipykernel_22656\\3903338590.py:14: SettingWithCopyWarning: \n",
      "A value is trying to be set on a copy of a slice from a DataFrame.\n",
      "Try using .loc[row_indexer,col_indexer] = value instead\n",
      "\n",
      "See the caveats in the documentation: https://pandas.pydata.org/pandas-docs/stable/user_guide/indexing.html#returning-a-view-versus-a-copy\n",
      "  df_fil[column] = df_fil[column].astype(str)  # Ensure data is treated as strings\n",
      "C:\\Users\\tarun\\AppData\\Local\\Temp\\ipykernel_22656\\3903338590.py:15: SettingWithCopyWarning: \n",
      "A value is trying to be set on a copy of a slice from a DataFrame.\n",
      "Try using .loc[row_indexer,col_indexer] = value instead\n",
      "\n",
      "See the caveats in the documentation: https://pandas.pydata.org/pandas-docs/stable/user_guide/indexing.html#returning-a-view-versus-a-copy\n",
      "  df_fil[column] = le.fit_transform(df_fil[column])\n"
     ]
    }
   ],
   "source": [
    "import pandas as pd\n",
    "from sklearn.preprocessing import LabelEncoder\n",
    "import joblib\n",
    "\n",
    "# Assuming df_fil is your DataFrame and columns_to_encode is the list of columns to encode\n",
    "columns_to_encode = ['floodlit_name', 'team1_abbreviation', 'team2_abbreviation', 'description', 'name', 'position', 'ground_name', 'condition']\n",
    "\n",
    "# Create a dictionary to store LabelEncoders for each column\n",
    "label_encoder_dict = {}\n",
    "\n",
    "# Encode each column and store the encoder in the dictionary\n",
    "for column in columns_to_encode:\n",
    "    le = LabelEncoder()\n",
    "    df_fil[column] = df_fil[column].astype(str)  # Ensure data is treated as strings\n",
    "    df_fil[column] = le.fit_transform(df_fil[column])\n",
    "    label_encoder_dict[column] = le\n",
    "\n",
    "# Save the label encoders to a single joblib file\n",
    "joblib.dump(label_encoder_dict, 'label_encoders.joblib')\n",
    "\n",
    "# Save the encodings in a text file\n",
    "with open('encodings.txt', 'w') as f:\n",
    "    for column, le in label_encoder_dict.items():\n",
    "        f.write(f\"{column}:\\n\")\n",
    "        for class_label, encoding in zip(le.classes_, le.transform(le.classes_)):\n",
    "            f.write(f\"{class_label}: {encoding}\\n\")\n",
    "        f.write('\\n')\n"
   ]
  },
  {
   "cell_type": "code",
   "execution_count": 1152,
   "metadata": {},
   "outputs": [
    {
     "name": "stdout",
     "output_type": "stream",
     "text": [
      "                            OLS Regression Results                            \n",
      "==============================================================================\n",
      "Dep. Variable:                   runs   R-squared:                       0.954\n",
      "Model:                            OLS   Adj. R-squared:                  0.953\n",
      "Method:                 Least Squares   F-statistic:                 1.271e+04\n",
      "Date:                Mon, 26 Feb 2024   Prob (F-statistic):               0.00\n",
      "Time:                        18:18:12   Log-Likelihood:                -45768.\n",
      "No. Observations:               17380   AIC:                         9.159e+04\n",
      "Df Residuals:                   17351   BIC:                         9.182e+04\n",
      "Df Model:                          28                                         \n",
      "Covariance Type:            nonrobust                                         \n",
      "=======================================================================================\n",
      "                          coef    std err          t      P>|t|      [0.025      0.975]\n",
      "---------------------------------------------------------------------------------------\n",
      "const                  -1.5586      0.519     -3.004      0.003      -2.576      -0.542\n",
      "away_team_id           7.2e-05   4.03e-05      1.788      0.074   -6.92e-06       0.000\n",
      "floodlit_name          -0.0954      0.067     -1.416      0.157      -0.228       0.037\n",
      "home_team_id         5.299e-05   3.74e-05      1.418      0.156   -2.02e-05       0.000\n",
      "team1_abbreviation     -0.0049      0.009     -0.549      0.583      -0.022       0.013\n",
      "team2_abbreviation     -0.0128      0.009     -1.458      0.145      -0.030       0.004\n",
      "batting_position        0.1278      0.007     17.322      0.000       0.113       0.142\n",
      "innings_number         -0.1375      0.051     -2.688      0.007      -0.238      -0.037\n",
      "fours                   6.2597      0.022    285.588      0.000       6.217       6.303\n",
      "sixes                   7.7370      0.035    221.286      0.000       7.668       7.806\n",
      "age                     0.0010      0.006      0.188      0.851      -0.010       0.012\n",
      "name                 7.713e-05      0.000      0.213      0.831      -0.001       0.001\n",
      "position                0.0053      0.013      0.403      0.687      -0.020       0.031\n",
      "ground_name             0.0188      0.006      3.352      0.001       0.008       0.030\n",
      "avgtemp_c               0.0243      0.011      2.252      0.024       0.003       0.045\n",
      "maxwind_kph            -0.0036      0.007     -0.538      0.591      -0.017       0.009\n",
      "condition              -0.0342      0.015     -2.227      0.026      -0.064      -0.004\n",
      "Avg_Balls_Faced         0.0466      0.033      1.416      0.157      -0.018       0.111\n",
      "Avg_Strike_Rate         0.0015      0.002      0.994      0.320      -0.002       0.005\n",
      "Total_Fifties_Mean      0.2679      1.333      0.201      0.841      -2.344       2.880\n",
      "Total_Hundreds_Mean    -2.6746      6.847     -0.391      0.696     -16.096      10.747\n",
      "Total_Fifties          -0.0054      0.021     -0.253      0.800      -0.047       0.036\n",
      "Total_Hundreds          0.0407      0.124      0.328      0.743      -0.202       0.284\n",
      "Total_Fours_sum         0.0013      0.004      0.343      0.731      -0.006       0.009\n",
      "Total_Sixes_sum         0.0004      0.004      0.089      0.929      -0.008       0.008\n",
      "Total_Fours_mean       -3.0618      0.265    -11.574      0.000      -3.580      -2.543\n",
      "Total_Sixes_mean       -3.7209      0.338    -10.994      0.000      -4.384      -3.058\n",
      "Total_runs             -0.0001      0.001     -0.243      0.808      -0.001       0.001\n",
      "Total_runs_mean         0.4630      0.054      8.554      0.000       0.357       0.569\n",
      "==============================================================================\n",
      "Omnibus:                     8067.499   Durbin-Watson:                   1.160\n",
      "Prob(Omnibus):                  0.000   Jarque-Bera (JB):           131704.887\n",
      "Skew:                           1.818   Prob(JB):                         0.00\n",
      "Kurtosis:                      15.987   Cond. No.                     1.78e+06\n",
      "==============================================================================\n",
      "\n",
      "Notes:\n",
      "[1] Standard Errors assume that the covariance matrix of the errors is correctly specified.\n",
      "[2] The condition number is large, 1.78e+06. This might indicate that there are\n",
      "strong multicollinearity or other numerical problems.\n"
     ]
    }
   ],
   "source": [
    "import statsmodels.api as sm\n",
    "import pandas as pd\n",
    "\n",
    "# Assuming 'df' is your DataFrame containing the dataset\n",
    "\n",
    "# Define the target variables\n",
    "targets = ['runs']\n",
    "\n",
    "\n",
    "\n",
    "# Create a new DataFrame with selected columns\n",
    "df_selected = df_fil\n",
    "\n",
    "\n",
    "\n",
    "# Split the data into features (X) and targets (y)\n",
    "X = df_selected.drop(targets, axis=1)\n",
    "y = df_selected[targets]\n",
    "\n",
    "# Add a constant term for the intercept\n",
    "X = sm.add_constant(X)\n",
    "\n",
    "# Fit the OLS model\n",
    "model = sm.OLS(y, X).fit()\n",
    "\n",
    "# Print the summary of the OLS regression\n",
    "print(model.summary())"
   ]
  },
  {
   "cell_type": "code",
   "execution_count": 1099,
   "metadata": {},
   "outputs": [
    {
     "name": "stdout",
     "output_type": "stream",
     "text": [
      "               Variable          VIF\n",
      "0          away_team_id    43.032368\n",
      "1         floodlit_name     5.497485\n",
      "2          home_team_id    41.484486\n",
      "3    team1_abbreviation     3.767664\n",
      "4    team2_abbreviation     3.831271\n",
      "5      batting_position     1.997077\n",
      "6        innings_number     9.785684\n",
      "7                 fours     1.971150\n",
      "8                 sixes     1.802538\n",
      "9                   age    40.967056\n",
      "10                 name     4.536439\n",
      "11             position     4.343767\n",
      "12          ground_name     4.939824\n",
      "13            avgtemp_c    99.013073\n",
      "14          maxwind_kph    25.161029\n",
      "15            condition    13.712551\n",
      "16      Avg_Balls_Faced   276.078053\n",
      "17      Avg_Strike_Rate    29.705061\n",
      "18   Total_Fifties_Mean    42.696160\n",
      "19  Total_Hundreds_Mean    14.084841\n",
      "20        Total_Fifties    52.325792\n",
      "21       Total_Hundreds    13.541075\n",
      "22      Total_Fours_sum   315.642996\n",
      "23      Total_Sixes_sum    89.185115\n",
      "24     Total_Fours_mean   282.036712\n",
      "25     Total_Sixes_mean   119.740766\n",
      "26           Total_runs   622.767240\n",
      "27      Total_runs_mean  1400.809886\n"
     ]
    }
   ],
   "source": [
    "import pandas as pd\n",
    "from statsmodels.stats.outliers_influence import variance_inflation_factor\n",
    "\n",
    "# Assuming your DataFrame is named df\n",
    "# Replace 'runs' with the column you want to drop\n",
    "df_without_runs = df_fil.drop('runs', axis=1)\n",
    "\n",
    "# Calculate VIF for each variable (excluding the target variable)\n",
    "def calculate_vif(data_frame):\n",
    "    vif_data = pd.DataFrame()\n",
    "    vif_data[\"Variable\"] = data_frame.columns\n",
    "    vif_data[\"VIF\"] = [variance_inflation_factor(data_frame.values, i) for i in range(data_frame.shape[1])]\n",
    "    return vif_data\n",
    "\n",
    "# Calculate VIF for the remaining columns after dropping 'runs'\n",
    "vif_result = calculate_vif(df_without_runs)\n",
    "\n",
    "# Display the VIF results\n",
    "print(vif_result)"
   ]
  },
  {
   "cell_type": "code",
   "execution_count": 1153,
   "metadata": {},
   "outputs": [
    {
     "name": "stderr",
     "output_type": "stream",
     "text": [
      "c:\\Users\\tarun\\anaconda3\\envs\\tf_gpu\\lib\\site-packages\\sklearn\\linear_model\\_coordinate_descent.py:628: ConvergenceWarning: Objective did not converge. You might want to increase the number of iterations, check the scale of the features or consider increasing regularisation. Duality gap: 4.446e+02, tolerance: 3.426e+02\n",
      "  model = cd_fast.enet_coordinate_descent(\n"
     ]
    },
    {
     "name": "stdout",
     "output_type": "stream",
     "text": [
      "Multi-Output Linear Regression: Mean Squared Error on Test Set - 64.16776876842385\n",
      "Multi-Output Lasso Regression: Mean Squared Error on Test Set - 64.10617502065413\n",
      "Multi-Output Ridge Regression: Mean Squared Error on Test Set - 64.16534633547109\n",
      "Multi-Output Random Forest: Mean Squared Error on Test Set - 18.379360804114516\n"
     ]
    }
   ],
   "source": [
    "from sklearn.multioutput import MultiOutputRegressor\n",
    "from sklearn.model_selection import train_test_split\n",
    "from sklearn.linear_model import LinearRegression, Lasso, Ridge\n",
    "from sklearn.ensemble import RandomForestRegressor\n",
    "from sklearn.metrics import mean_squared_error\n",
    "\n",
    "# Assuming df_selected contains features and 'runs', 'fours', 'sixes' as target variables\n",
    "X_multi = df_fil.drop(['runs', 'fours', 'sixes'], axis=1)\n",
    "y_multi = df_fil[['runs', 'fours', 'sixes']]\n",
    "\n",
    "# Split the data into training and testing sets\n",
    "X_train_multi, X_test_multi, y_train_multi, y_test_multi = train_test_split(X_multi, y_multi, test_size=0.2, random_state=22)\n",
    "\n",
    "# Create multi-output models\n",
    "multi_output_linear_model = MultiOutputRegressor(LinearRegression())\n",
    "multi_output_lasso_model = MultiOutputRegressor(Lasso(alpha=0.1))  # Adjust alpha based on your data\n",
    "multi_output_ridge_model = MultiOutputRegressor(Ridge(alpha=0.1))  # Adjust alpha based on your data\n",
    "multi_output_rf_model = MultiOutputRegressor(RandomForestRegressor(n_estimators=175, random_state=2))\n",
    "\n",
    "# Fit the multi-output models\n",
    "multi_output_linear_model.fit(X_train_multi, y_train_multi)\n",
    "multi_output_lasso_model.fit(X_train_multi, y_train_multi)\n",
    "multi_output_ridge_model.fit(X_train_multi, y_train_multi)\n",
    "multi_output_rf_model.fit(X_train_multi, y_train_multi)\n",
    "\n",
    "# Predictions for the multiple targets\n",
    "linear_predictions_multi = multi_output_linear_model.predict(X_test_multi)\n",
    "lasso_predictions_multi = multi_output_lasso_model.predict(X_test_multi)\n",
    "ridge_predictions_multi = multi_output_ridge_model.predict(X_test_multi)\n",
    "rf_predictions_multi = multi_output_rf_model.predict(X_test_multi)\n",
    "\n",
    "# Evaluate the performance of the multi-output models\n",
    "mse_linear_multi = mean_squared_error(y_test_multi, linear_predictions_multi)\n",
    "mse_lasso_multi = mean_squared_error(y_test_multi, lasso_predictions_multi)\n",
    "mse_ridge_multi = mean_squared_error(y_test_multi, ridge_predictions_multi)\n",
    "mse_rf_multi = mean_squared_error(y_test_multi, rf_predictions_multi)\n",
    "\n",
    "print(f\"Multi-Output Linear Regression: Mean Squared Error on Test Set - {mse_linear_multi}\")\n",
    "print(f\"Multi-Output Lasso Regression: Mean Squared Error on Test Set - {mse_lasso_multi}\")\n",
    "print(f\"Multi-Output Ridge Regression: Mean Squared Error on Test Set - {mse_ridge_multi}\")\n",
    "print(f\"Multi-Output Random Forest: Mean Squared Error on Test Set - {mse_rf_multi}\")"
   ]
  },
  {
   "cell_type": "code",
   "execution_count": 330,
   "metadata": {},
   "outputs": [
    {
     "data": {
      "text/plain": [
       "(17380, 25)"
      ]
     },
     "execution_count": 330,
     "metadata": {},
     "output_type": "execute_result"
    }
   ],
   "source": [
    "df_fil.shape"
   ]
  },
  {
   "cell_type": "code",
   "execution_count": null,
   "metadata": {},
   "outputs": [],
   "source": [
    "balls_faced = result_df.groupby('name')['balls_faced'].sum().reset_index(name='Balls_Faced_Sum')\n",
    "result_df = pd.merge(result_df, balls_faced, on='name')"
   ]
  },
  {
   "cell_type": "code",
   "execution_count": 1000,
   "metadata": {},
   "outputs": [
    {
     "data": {
      "text/plain": [
       "away_team_id           4342.00000\n",
       "floodlit_name             1.00000\n",
       "home_team_id           4345.00000\n",
       "team1_abbreviation        8.00000\n",
       "team2_abbreviation        6.00000\n",
       "batting_position          2.00000\n",
       "innings_number            1.00000\n",
       "runs                     79.00000\n",
       "fours                     8.00000\n",
       "sixes                     4.00000\n",
       "description               5.00000\n",
       "age                      44.00000\n",
       "name                     37.00000\n",
       "position                  0.00000\n",
       "ground_name              14.00000\n",
       "avgtemp_c                25.90000\n",
       "maxwind_kph              21.40000\n",
       "condition                 3.00000\n",
       "Avg_Balls_Faced          22.00000\n",
       "Avg_Strike_Rate         129.35875\n",
       "Total_Fifties_Mean        0.25000\n",
       "Total_Hundreds_Mean       0.03125\n",
       "Total_Fifties            16.00000\n",
       "Total_Hundreds            2.00000\n",
       "Total_Fours_sum         190.00000\n",
       "Total_Sixes_sum         138.00000\n",
       "Total_Fours_mean          2.96875\n",
       "Total_Sixes_mean          2.15625\n",
       "Total_runs             2072.00000\n",
       "Total_runs_mean          32.37500\n",
       "Name: 105, dtype: float64"
      ]
     },
     "execution_count": 1000,
     "metadata": {},
     "output_type": "execute_result"
    }
   ],
   "source": [
    "df_fil.iloc[105]"
   ]
  },
  {
   "cell_type": "code",
   "execution_count": 1157,
   "metadata": {},
   "outputs": [
    {
     "name": "stdout",
     "output_type": "stream",
     "text": [
      "Model Prediction: [[73.70857143  7.25714286  3.88      ]]\n"
     ]
    }
   ],
   "source": [
    "import pandas as pd\n",
    "\n",
    "# Create a dictionary with the values\n",
    "data = {\n",
    "    'away_team_id': [4342.000000],\n",
    "    'floodlit_name': [1.000000],\n",
    "    'home_team_id': [4345.000000],\n",
    "    'team1_abbreviation': [8.000000],\n",
    "    'team2_abbreviation': [6.000000],\n",
    "    'batting_position': [2.000000],\n",
    "    'innings_number': [1.000000],\n",
    "    'age': [44.000000],\n",
    "    'name': [37.000000],\n",
    "    'position': [0.000000],\n",
    "    'ground_name': [14.000000],\n",
    "    'avgtemp_c': [25.300000],\n",
    "    'maxwind_kph': [21.200000],\n",
    "    'condition': [3.00000],\n",
    "    'Avg_Balls_Faced': [22.00000],\n",
    "    'Avg_Strike_Rate': [129.35875],\n",
    "    'Total_Fifties_Mean' :[0.2500],\n",
    "    'Total_Hundreds_Mean':[0.03125],\n",
    "    'Total_Fifties':[16.00000],\n",
    "    'Total_Hundreds':[2.00000],\n",
    "    'Total_Fours_sum':[190.00000],\n",
    "    'Total_Sixes_sum' :[138.00000],\n",
    "    'Total_Fours_mean':[2.96875],\n",
    "    'Total_Sixes_mean':[2.15625],\n",
    "    'Total_runs':[2072.00000],\n",
    "    'Total_runs_mean':[32.37500]\n",
    "\n",
    "}\n",
    "\n",
    "# Create a DataFrame\n",
    "new_observation = pd.DataFrame(data)\n",
    "\n",
    "# Use the RandomForestRegressor for prediction\n",
    "prediction = multi_output_rf_model.predict(new_observation)\n",
    "\n",
    "# Display the prediction\n",
    "print(f'Model Prediction: {prediction}')"
   ]
  },
  {
   "cell_type": "code",
   "execution_count": null,
   "metadata": {},
   "outputs": [],
   "source": [
    "'Total_Fifties_Mean','Total_Hundreds_Mean','Total_Fifties','Total_Hundreds','Total_Fours_sum','Total_Sixes_sum','Total_Fours_mean','Total_Sixes_mean','Total_runs','Total_runs_mean'"
   ]
  },
  {
   "cell_type": "code",
   "execution_count": 1154,
   "metadata": {},
   "outputs": [
    {
     "data": {
      "text/plain": [
       "['multi_output_rf_model__check123__check.joblib']"
      ]
     },
     "execution_count": 1154,
     "metadata": {},
     "output_type": "execute_result"
    }
   ],
   "source": [
    "joblib.dump(multi_output_rf_model, 'multi_output_rf_model__check123__check.joblib')"
   ]
  },
  {
   "cell_type": "code",
   "execution_count": 1155,
   "metadata": {},
   "outputs": [
    {
     "data": {
      "text/plain": [
       "['label_encoders_main123_check.joblib']"
      ]
     },
     "execution_count": 1155,
     "metadata": {},
     "output_type": "execute_result"
    }
   ],
   "source": [
    "joblib.dump(label_encoder_dict, 'label_encoders_main123_check.joblib')"
   ]
  },
  {
   "cell_type": "code",
   "execution_count": 295,
   "metadata": {},
   "outputs": [
    {
     "name": "stdout",
     "output_type": "stream",
     "text": [
      "Requirement already satisfied: xgboost in c:\\users\\tarun\\anaconda3\\envs\\tf_gpu\\lib\\site-packages (2.0.3)\n",
      "Requirement already satisfied: numpy in c:\\users\\tarun\\anaconda3\\envs\\tf_gpu\\lib\\site-packages (from xgboost) (1.24.3)\n",
      "Requirement already satisfied: scipy in c:\\users\\tarun\\anaconda3\\envs\\tf_gpu\\lib\\site-packages (from xgboost) (1.11.1)\n"
     ]
    }
   ],
   "source": [
    "!pip install xgboost"
   ]
  },
  {
   "cell_type": "code",
   "execution_count": 1011,
   "metadata": {},
   "outputs": [
    {
     "name": "stdout",
     "output_type": "stream",
     "text": [
      "Mean Squared Error: 27.172595231026516\n"
     ]
    }
   ],
   "source": [
    "import numpy as np\n",
    "import pandas as pd\n",
    "from sklearn.model_selection import train_test_split\n",
    "from xgboost import XGBRegressor\n",
    "from sklearn.metrics import mean_squared_error\n",
    "X = df_fil.drop(['runs', 'fours', 'sixes'], axis=1)\n",
    "y = df_fil[['runs', 'fours', 'sixes']]\n",
    "\n",
    "\n",
    "# Split into training and testing sets\n",
    "X_train, X_test, y_train, y_test = train_test_split(X, y, test_size=0.3, random_state=36)\n",
    "\n",
    "# Initialize XGBoost model\n",
    "model = XGBRegressor(objective='reg:squarederror', n_estimators=100)\n",
    "\n",
    "# Train the model\n",
    "model.fit(X_train, y_train)\n",
    "\n",
    "# Make predictions\n",
    "y_pred = model.predict(X_test)\n",
    "\n",
    "# Evaluate the model\n",
    "mse = mean_squared_error(y_test, y_pred)\n",
    "print(f'Mean Squared Error: {mse}')"
   ]
  },
  {
   "cell_type": "code",
   "execution_count": 1158,
   "metadata": {},
   "outputs": [
    {
     "name": "stdout",
     "output_type": "stream",
     "text": [
      "Metrics for runs:\n",
      "Linear Regression: {'MSE': 189.79999937804695, 'MAE': 8.946057758189957, 'RMSE': 13.776792056863126, 'R2': 0.19143416980600092}\n",
      "Lasso Regression: {'MSE': 189.59622173864832, 'MAE': 8.921323107334386, 'RMSE': 13.769394385326041, 'R2': 0.1923022816959653}\n",
      "Ridge Regression: {'MSE': 189.7928464594155, 'MAE': 8.945552289003757, 'RMSE': 13.776532454119778, 'R2': 0.1914646419114302}\n",
      "Random Forest: {'MSE': 54.23535158873677, 'MAE': 2.896598717737958, 'RMSE': 7.36446546524164, 'R2': 0.7689523064967798}\n",
      "\n",
      "\n",
      "Metrics for fours:\n",
      "Linear Regression: {'MSE': 2.0098276886929867, 'MAE': 0.8406503266789895, 'RMSE': 1.417683917060847, 'R2': 0.18032615707658617}\n",
      "Lasso Regression: {'MSE': 2.0222478596714524, 'MAE': 0.82861114373713, 'RMSE': 1.4220576147510524, 'R2': 0.1752608028012127}\n",
      "Ridge Regression: {'MSE': 2.0097101195076466, 'MAE': 0.8406568161610926, 'RMSE': 1.4176424512223265, 'R2': 0.1803741056577004}\n",
      "Random Forest: {'MSE': 0.6301453981822878, 'MAE': 0.2888821305277002, 'RMSE': 0.7938169802809006, 'R2': 0.7430059785550694}\n",
      "\n",
      "\n",
      "Metrics for sixes:\n",
      "Linear Regression: {'MSE': 0.6934792385316417, 'MAE': 0.47835352830122874, 'RMSE': 0.8327540084152353, 'R2': 0.11528797233327359}\n",
      "Lasso Regression: {'MSE': 0.700055463642601, 'MAE': 0.467976233431448, 'RMSE': 0.8366931717437408, 'R2': 0.10689829730186451}\n",
      "Ridge Regression: {'MSE': 0.693482427490105, 'MAE': 0.47834981240397845, 'RMSE': 0.8327559231191964, 'R2': 0.11528390399243316}\n",
      "Random Forest: {'MSE': 0.2725854254244851, 'MAE': 0.1812428078250863, 'RMSE': 0.5220971417509247, 'R2': 0.6522468286861483}\n",
      "\n",
      "\n"
     ]
    }
   ],
   "source": [
    "from sklearn.metrics import mean_absolute_error, mean_squared_error, r2_score\n",
    "import numpy as np\n",
    "\n",
    "# Function to calculate metrics for each target separately\n",
    "def calculate_metrics(y_true, y_pred, target_names):\n",
    "    metrics = {}\n",
    "    for idx, target in enumerate(target_names):\n",
    "        mse = mean_squared_error(y_true.iloc[:, idx], y_pred[:, idx])\n",
    "        mae = mean_absolute_error(y_true.iloc[:, idx], y_pred[:, idx])\n",
    "        rmse = np.sqrt(mse)\n",
    "        r2 = r2_score(y_true.iloc[:, idx], y_pred[:, idx])\n",
    "\n",
    "        metrics[target] = {'MSE': mse, 'MAE': mae, 'RMSE': rmse, 'R2': r2}\n",
    "\n",
    "    return metrics\n",
    "\n",
    "# Define the target names (runs, fours, sixes)\n",
    "target_names = ['runs', 'fours', 'sixes']\n",
    "\n",
    "# Calculate metrics for each model\n",
    "linear_metrics = calculate_metrics(y_test_multi, linear_predictions_multi, target_names)\n",
    "lasso_metrics = calculate_metrics(y_test_multi, lasso_predictions_multi, target_names)\n",
    "ridge_metrics = calculate_metrics(y_test_multi, ridge_predictions_multi, target_names)\n",
    "rf_metrics = calculate_metrics(y_test_multi, rf_predictions_multi, target_names)\n",
    "\n",
    "# Print the metrics for each target separately\n",
    "for target in target_names:\n",
    "    print(f\"Metrics for {target}:\")\n",
    "    print(f\"Linear Regression: {linear_metrics[target]}\")\n",
    "    print(f\"Lasso Regression: {lasso_metrics[target]}\")\n",
    "    print(f\"Ridge Regression: {ridge_metrics[target]}\")\n",
    "    print(f\"Random Forest: {rf_metrics[target]}\")\n",
    "    print(\"\\n\")"
   ]
  },
  {
   "cell_type": "code",
   "execution_count": 1016,
   "metadata": {},
   "outputs": [
    {
     "data": {
      "text/plain": [
       "away_team_id           4343.00000\n",
       "floodlit_name             0.00000\n",
       "home_team_id           4342.00000\n",
       "team1_abbreviation        6.00000\n",
       "team2_abbreviation        0.00000\n",
       "batting_position          2.00000\n",
       "innings_number            2.00000\n",
       "runs                     28.00000\n",
       "fours                     2.00000\n",
       "sixes                     2.00000\n",
       "description              12.00000\n",
       "age                      44.00000\n",
       "name                     37.00000\n",
       "position                  0.00000\n",
       "ground_name              12.00000\n",
       "avgtemp_c                30.20000\n",
       "maxwind_kph              22.30000\n",
       "condition                 7.00000\n",
       "Avg_Balls_Faced          22.00000\n",
       "Avg_Strike_Rate         129.35875\n",
       "Total_Fifties_Mean        0.25000\n",
       "Total_Hundreds_Mean       0.03125\n",
       "Total_Fifties            16.00000\n",
       "Total_Hundreds            2.00000\n",
       "Total_Fours_sum         190.00000\n",
       "Total_Sixes_sum         138.00000\n",
       "Total_Fours_mean          2.96875\n",
       "Total_Sixes_mean          2.15625\n",
       "Total_runs             2072.00000\n",
       "Total_runs_mean          32.37500\n",
       "Name: 130, dtype: float64"
      ]
     },
     "execution_count": 1016,
     "metadata": {},
     "output_type": "execute_result"
    }
   ],
   "source": [
    "df_fil.iloc[130]"
   ]
  },
  {
   "cell_type": "code",
   "execution_count": 1104,
   "metadata": {},
   "outputs": [
    {
     "name": "stdout",
     "output_type": "stream",
     "text": [
      "Model Prediction: [[29.06857143  2.29714286  1.94285714]]\n"
     ]
    }
   ],
   "source": [
    "import pandas as pd\n",
    "\n",
    "# Create a dictionary with the values\n",
    "data = {\n",
    "    'away_team_id': [4343.000000],\n",
    "    'floodlit_name': [0.000000],\n",
    "    'home_team_id': [4342.000000],\n",
    "    'team1_abbreviation': [6.000000],\n",
    "    'team2_abbreviation': [0.000000],\n",
    "    'batting_position': [2.000000],\n",
    "    'innings_number': [2.000000],\n",
    "    'age': [44.000000],\n",
    "    'name': [37.000000],\n",
    "    'position': [0.000000],\n",
    "    'ground_name': [12.000000],\n",
    "    'avgtemp_c': [30.300000],\n",
    "    'maxwind_kph': [22.200000],\n",
    "    'condition': [7.00000],\n",
    "    'Avg_Balls_Faced': [22.00000],\n",
    "    'Avg_Strike_Rate': [129.35875],\n",
    "    'Total_Fifties_Mean' :[0.2500],\n",
    "    'Total_Hundreds_Mean':[0.03125],\n",
    "    'Total_Fifties':[16.00000],\n",
    "    'Total_Hundreds':[2.00000],\n",
    "    'Total_Fours_sum':[190.00000],\n",
    "    'Total_Sixes_sum' :[138.00000],\n",
    "    'Total_Fours_mean':[2.96875],\n",
    "    'Total_Sixes_mean':[2.15625],\n",
    "    'Total_runs':[2072.00000],\n",
    "    'Total_runs_mean':[32.37500]\n",
    "\n",
    "}\n",
    "\n",
    "# Create a DataFrame\n",
    "new_observation = pd.DataFrame(data)\n",
    "\n",
    "# Use the RandomForestRegressor for prediction\n",
    "prediction = multi_output_rf_model.predict(new_observation)\n",
    "\n",
    "# Display the prediction\n",
    "print(f'Model Prediction: {prediction}')"
   ]
  },
  {
   "cell_type": "code",
   "execution_count": null,
   "metadata": {},
   "outputs": [],
   "source": []
  },
  {
   "cell_type": "code",
   "execution_count": 300,
   "metadata": {},
   "outputs": [
    {
     "name": "stdout",
     "output_type": "stream",
     "text": [
      "Model Prediction: [[34.56571429  2.43428571  2.64      ]]\n"
     ]
    }
   ],
   "source": [
    "import pandas as pd\n",
    "\n",
    "# Create a dictionary with the values\n",
    "data = {\n",
    "    'away_team_id': [4340.000000],\n",
    "    'floodlit_name': [1.000000],\n",
    "    'home_team_id': [4342.000000],\n",
    "    'team1_abbreviation': [6.000000],\n",
    "    'team2_abbreviation': [7.000000],\n",
    "    'batting_position': [1.000000],\n",
    "    'innings_number': [1.000000],\n",
    "    'description': [15.000000],\n",
    "    'age': [31.000000],\n",
    "    'name': [118.000000],\n",
    "    'position': [8.000000],\n",
    "    'ground_name': [9.000000],\n",
    "    'avgtemp_c': [35.300000],\n",
    "    'maxwind_kph': [20.200000],\n",
    "    'condition': [8.00000],\n",
    "\n",
    "}\n",
    "\n",
    "# Create a DataFrame\n",
    "new_observation = pd.DataFrame(data)\n",
    "\n",
    "# Use the RandomForestRegressor for prediction\n",
    "prediction = multi_output_rf_model.predict(new_observation)\n",
    "\n",
    "# Display the prediction\n",
    "print(f'Model Prediction: {prediction}')"
   ]
  },
  {
   "cell_type": "code",
   "execution_count": 1116,
   "metadata": {},
   "outputs": [
    {
     "name": "stdout",
     "output_type": "stream",
     "text": [
      "Multi-Output Linear Regression: Mean Squared Error on Test Set - 68.01806070256288\n",
      "Multi-Output Lasso Regression: Mean Squared Error on Test Set - 67.99123168511397\n",
      "Multi-Output Ridge Regression: Mean Squared Error on Test Set - 68.01752598035945\n",
      "Multi-Output Random Forest: Mean Squared Error on Test Set - 24.329680645058176\n"
     ]
    }
   ],
   "source": [
    "from sklearn.preprocessing import StandardScaler\n",
    "from sklearn.pipeline import Pipeline\n",
    "\n",
    "# Assuming df_selected contains features and 'runs', 'fours', 'sixes' as target variables\n",
    "X_multi = df_fil.drop(['runs', 'fours', 'sixes'], axis=1)\n",
    "y_multi = df_fil[['runs', 'fours', 'sixes']]\n",
    "\n",
    "# Split the data into training and testing sets\n",
    "X_train_multi, X_test_multi, y_train_multi, y_test_multi =train_test_split(X_multi, y_multi, test_size=0.3, random_state=42)\n",
    "\n",
    "# Create multi-output models\n",
    "multi_output_linear_model = MultiOutputRegressor(LinearRegression())\n",
    "multi_output_lasso_model = MultiOutputRegressor(Lasso(alpha=0.2))  # Adjust alpha based on your data\n",
    "multi_output_ridge_model = MultiOutputRegressor(Ridge(alpha=0.4))  # Adjust alpha based on your data\n",
    "multi_output_rf_model = MultiOutputRegressor(RandomForestRegressor(n_estimators=200, random_state=2))\n",
    "\n",
    "# Create a pipeline with RobustScaler and MultiOutputRegressor\n",
    "linear_pipeline = Pipeline([\n",
    "    ('scaler', StandardScaler()),\n",
    "    ('regressor', multi_output_linear_model)\n",
    "])\n",
    "\n",
    "lasso_pipeline = Pipeline([\n",
    "    ('scaler', StandardScaler()),\n",
    "    ('regressor', multi_output_lasso_model)\n",
    "])\n",
    "\n",
    "ridge_pipeline = Pipeline([\n",
    "    ('scaler', StandardScaler()),\n",
    "    ('regressor', multi_output_ridge_model)\n",
    "])\n",
    "\n",
    "rf_pipeline = Pipeline([\n",
    "    ('scaler', StandardScaler()),\n",
    "    ('regressor', multi_output_rf_model)\n",
    "])\n",
    "\n",
    "# Fit and predict using the pipelines\n",
    "linear_pipeline.fit(X_train_multi, y_train_multi)\n",
    "lasso_pipeline.fit(X_train_multi, y_train_multi)\n",
    "ridge_pipeline.fit(X_train_multi, y_train_multi)\n",
    "rf_pipeline.fit(X_train_multi, y_train_multi)\n",
    "\n",
    "linear_predictions_multi = linear_pipeline.predict(X_test_multi)\n",
    "lasso_predictions_multi = lasso_pipeline.predict(X_test_multi)\n",
    "ridge_predictions_multi = ridge_pipeline.predict(X_test_multi)\n",
    "rf_predictions_multi = rf_pipeline.predict(X_test_multi)\n",
    "\n",
    "# Evaluate the performance of the multi-output models\n",
    "mse_linear_multi = mean_squared_error(y_test_multi, linear_predictions_multi)\n",
    "mse_lasso_multi = mean_squared_error(y_test_multi, lasso_predictions_multi)\n",
    "mse_ridge_multi = mean_squared_error(y_test_multi, ridge_predictions_multi)\n",
    "mse_rf_multi = mean_squared_error(y_test_multi, rf_predictions_multi)\n",
    "\n",
    "print(f\"Multi-Output Linear Regression: Mean Squared Error on Test Set - {mse_linear_multi}\")\n",
    "print(f\"Multi-Output Lasso Regression: Mean Squared Error on Test Set - {mse_lasso_multi}\")\n",
    "print(f\"Multi-Output Ridge Regression: Mean Squared Error on Test Set - {mse_ridge_multi}\")\n",
    "print(f\"Multi-Output Random Forest: Mean Squared Error on Test Set - {mse_rf_multi}\")"
   ]
  },
  {
   "cell_type": "code",
   "execution_count": 1119,
   "metadata": {},
   "outputs": [
    {
     "name": "stdout",
     "output_type": "stream",
     "text": [
      "Model Prediction: [[33.485  3.02   1.48 ]]\n"
     ]
    }
   ],
   "source": [
    "import pandas as pd\n",
    "\n",
    "# Create a dictionary with the values\n",
    "data = {\n",
    "    'away_team_id': [6904.000000],\n",
    "    'floodlit_name': [1.000000],\n",
    "    'home_team_id': [4344.000000],\n",
    "    'team1_abbreviation': [1.000000],\n",
    "    'team2_abbreviation': [2.000000],\n",
    "    'batting_position': [4.000000],\n",
    "    'innings_number': [2.000000],\n",
    "    'age': [30.000000],\n",
    "    'name': [76.000000],\n",
    "    'position': [0.000000],\n",
    "    'ground_name': [1.000000],\n",
    "    'avgtemp_c': [26.300000],\n",
    "    'maxwind_kph': [16.200000],\n",
    "    'condition': [0.00000],\n",
    "    'Avg_Balls_Faced': [15.50000],\n",
    "    'Avg_Strike_Rate': [127.35875],\n",
    "    'Total_Fifties_Mean' :[0.130],\n",
    "    'Total_Hundreds_Mean':[0],\n",
    "    'Total_Fifties':[4.00000],\n",
    "    'Total_Hundreds':[0.00000],\n",
    "    'Total_Fours_sum':[50.00000],\n",
    "    'Total_Sixes_sum' :[26.00000],\n",
    "    'Total_Fours_mean':[1.6875],\n",
    "    'Total_Sixes_mean':[0.865625],\n",
    "    'Total_runs':[640.00000],\n",
    "    'Total_runs_mean':[21.37500]\n",
    "\n",
    "}\n",
    "\n",
    "# Create a DataFrame\n",
    "new_observation = pd.DataFrame(data)\n",
    "\n",
    "# Use the RandomForestRegressor for prediction\n",
    "prediction = rf_pipeline.predict(new_observation)\n",
    "\n",
    "# Display the prediction\n",
    "print(f'Model Prediction: {prediction}')"
   ]
  },
  {
   "cell_type": "code",
   "execution_count": 1118,
   "metadata": {},
   "outputs": [
    {
     "ename": "ValueError",
     "evalue": "The feature names should match those that were passed during fit.\nFeature names unseen at fit time:\n- description\nFeature names seen at fit time, yet now missing:\n- Total_Fifties_Mean\n- Total_Fours_sum\n- Total_Hundreds_Mean\n- Total_Sixes_sum\n- Total_runs_mean\n",
     "output_type": "error",
     "traceback": [
      "\u001b[1;31m---------------------------------------------------------------------------\u001b[0m",
      "\u001b[1;31mValueError\u001b[0m                                Traceback (most recent call last)",
      "Cell \u001b[1;32mIn[1118], line 33\u001b[0m\n\u001b[0;32m     30\u001b[0m new_observation \u001b[38;5;241m=\u001b[39m pd\u001b[38;5;241m.\u001b[39mDataFrame(data)\n\u001b[0;32m     32\u001b[0m \u001b[38;5;66;03m# Use the RandomForestRegressor for prediction\u001b[39;00m\n\u001b[1;32m---> 33\u001b[0m prediction \u001b[38;5;241m=\u001b[39m \u001b[43mrf_pipeline\u001b[49m\u001b[38;5;241;43m.\u001b[39;49m\u001b[43mpredict\u001b[49m\u001b[43m(\u001b[49m\u001b[43mnew_observation\u001b[49m\u001b[43m)\u001b[49m\n\u001b[0;32m     35\u001b[0m \u001b[38;5;66;03m# Display the prediction\u001b[39;00m\n\u001b[0;32m     36\u001b[0m \u001b[38;5;28mprint\u001b[39m(\u001b[38;5;124mf\u001b[39m\u001b[38;5;124m'\u001b[39m\u001b[38;5;124mModel Prediction: \u001b[39m\u001b[38;5;132;01m{\u001b[39;00mprediction\u001b[38;5;132;01m}\u001b[39;00m\u001b[38;5;124m'\u001b[39m)\n",
      "File \u001b[1;32mc:\\Users\\tarun\\anaconda3\\envs\\tf_gpu\\lib\\site-packages\\sklearn\\pipeline.py:507\u001b[0m, in \u001b[0;36mPipeline.predict\u001b[1;34m(self, X, **predict_params)\u001b[0m\n\u001b[0;32m    505\u001b[0m Xt \u001b[38;5;241m=\u001b[39m X\n\u001b[0;32m    506\u001b[0m \u001b[38;5;28;01mfor\u001b[39;00m _, name, transform \u001b[38;5;129;01min\u001b[39;00m \u001b[38;5;28mself\u001b[39m\u001b[38;5;241m.\u001b[39m_iter(with_final\u001b[38;5;241m=\u001b[39m\u001b[38;5;28;01mFalse\u001b[39;00m):\n\u001b[1;32m--> 507\u001b[0m     Xt \u001b[38;5;241m=\u001b[39m \u001b[43mtransform\u001b[49m\u001b[38;5;241;43m.\u001b[39;49m\u001b[43mtransform\u001b[49m\u001b[43m(\u001b[49m\u001b[43mXt\u001b[49m\u001b[43m)\u001b[49m\n\u001b[0;32m    508\u001b[0m \u001b[38;5;28;01mreturn\u001b[39;00m \u001b[38;5;28mself\u001b[39m\u001b[38;5;241m.\u001b[39msteps[\u001b[38;5;241m-\u001b[39m\u001b[38;5;241m1\u001b[39m][\u001b[38;5;241m1\u001b[39m]\u001b[38;5;241m.\u001b[39mpredict(Xt, \u001b[38;5;241m*\u001b[39m\u001b[38;5;241m*\u001b[39mpredict_params)\n",
      "File \u001b[1;32mc:\\Users\\tarun\\anaconda3\\envs\\tf_gpu\\lib\\site-packages\\sklearn\\utils\\_set_output.py:140\u001b[0m, in \u001b[0;36m_wrap_method_output.<locals>.wrapped\u001b[1;34m(self, X, *args, **kwargs)\u001b[0m\n\u001b[0;32m    138\u001b[0m \u001b[38;5;129m@wraps\u001b[39m(f)\n\u001b[0;32m    139\u001b[0m \u001b[38;5;28;01mdef\u001b[39;00m \u001b[38;5;21mwrapped\u001b[39m(\u001b[38;5;28mself\u001b[39m, X, \u001b[38;5;241m*\u001b[39margs, \u001b[38;5;241m*\u001b[39m\u001b[38;5;241m*\u001b[39mkwargs):\n\u001b[1;32m--> 140\u001b[0m     data_to_wrap \u001b[38;5;241m=\u001b[39m f(\u001b[38;5;28mself\u001b[39m, X, \u001b[38;5;241m*\u001b[39margs, \u001b[38;5;241m*\u001b[39m\u001b[38;5;241m*\u001b[39mkwargs)\n\u001b[0;32m    141\u001b[0m     \u001b[38;5;28;01mif\u001b[39;00m \u001b[38;5;28misinstance\u001b[39m(data_to_wrap, \u001b[38;5;28mtuple\u001b[39m):\n\u001b[0;32m    142\u001b[0m         \u001b[38;5;66;03m# only wrap the first output for cross decomposition\u001b[39;00m\n\u001b[0;32m    143\u001b[0m         return_tuple \u001b[38;5;241m=\u001b[39m (\n\u001b[0;32m    144\u001b[0m             _wrap_data_with_container(method, data_to_wrap[\u001b[38;5;241m0\u001b[39m], X, \u001b[38;5;28mself\u001b[39m),\n\u001b[0;32m    145\u001b[0m             \u001b[38;5;241m*\u001b[39mdata_to_wrap[\u001b[38;5;241m1\u001b[39m:],\n\u001b[0;32m    146\u001b[0m         )\n",
      "File \u001b[1;32mc:\\Users\\tarun\\anaconda3\\envs\\tf_gpu\\lib\\site-packages\\sklearn\\preprocessing\\_data.py:1004\u001b[0m, in \u001b[0;36mStandardScaler.transform\u001b[1;34m(self, X, copy)\u001b[0m\n\u001b[0;32m   1001\u001b[0m check_is_fitted(\u001b[38;5;28mself\u001b[39m)\n\u001b[0;32m   1003\u001b[0m copy \u001b[38;5;241m=\u001b[39m copy \u001b[38;5;28;01mif\u001b[39;00m copy \u001b[38;5;129;01mis\u001b[39;00m \u001b[38;5;129;01mnot\u001b[39;00m \u001b[38;5;28;01mNone\u001b[39;00m \u001b[38;5;28;01melse\u001b[39;00m \u001b[38;5;28mself\u001b[39m\u001b[38;5;241m.\u001b[39mcopy\n\u001b[1;32m-> 1004\u001b[0m X \u001b[38;5;241m=\u001b[39m \u001b[38;5;28;43mself\u001b[39;49m\u001b[38;5;241;43m.\u001b[39;49m\u001b[43m_validate_data\u001b[49m\u001b[43m(\u001b[49m\n\u001b[0;32m   1005\u001b[0m \u001b[43m    \u001b[49m\u001b[43mX\u001b[49m\u001b[43m,\u001b[49m\n\u001b[0;32m   1006\u001b[0m \u001b[43m    \u001b[49m\u001b[43mreset\u001b[49m\u001b[38;5;241;43m=\u001b[39;49m\u001b[38;5;28;43;01mFalse\u001b[39;49;00m\u001b[43m,\u001b[49m\n\u001b[0;32m   1007\u001b[0m \u001b[43m    \u001b[49m\u001b[43maccept_sparse\u001b[49m\u001b[38;5;241;43m=\u001b[39;49m\u001b[38;5;124;43m\"\u001b[39;49m\u001b[38;5;124;43mcsr\u001b[39;49m\u001b[38;5;124;43m\"\u001b[39;49m\u001b[43m,\u001b[49m\n\u001b[0;32m   1008\u001b[0m \u001b[43m    \u001b[49m\u001b[43mcopy\u001b[49m\u001b[38;5;241;43m=\u001b[39;49m\u001b[43mcopy\u001b[49m\u001b[43m,\u001b[49m\n\u001b[0;32m   1009\u001b[0m \u001b[43m    \u001b[49m\u001b[43mdtype\u001b[49m\u001b[38;5;241;43m=\u001b[39;49m\u001b[43mFLOAT_DTYPES\u001b[49m\u001b[43m,\u001b[49m\n\u001b[0;32m   1010\u001b[0m \u001b[43m    \u001b[49m\u001b[43mforce_all_finite\u001b[49m\u001b[38;5;241;43m=\u001b[39;49m\u001b[38;5;124;43m\"\u001b[39;49m\u001b[38;5;124;43mallow-nan\u001b[39;49m\u001b[38;5;124;43m\"\u001b[39;49m\u001b[43m,\u001b[49m\n\u001b[0;32m   1011\u001b[0m \u001b[43m\u001b[49m\u001b[43m)\u001b[49m\n\u001b[0;32m   1013\u001b[0m \u001b[38;5;28;01mif\u001b[39;00m sparse\u001b[38;5;241m.\u001b[39missparse(X):\n\u001b[0;32m   1014\u001b[0m     \u001b[38;5;28;01mif\u001b[39;00m \u001b[38;5;28mself\u001b[39m\u001b[38;5;241m.\u001b[39mwith_mean:\n",
      "File \u001b[1;32mc:\\Users\\tarun\\anaconda3\\envs\\tf_gpu\\lib\\site-packages\\sklearn\\base.py:579\u001b[0m, in \u001b[0;36mBaseEstimator._validate_data\u001b[1;34m(self, X, y, reset, validate_separately, cast_to_ndarray, **check_params)\u001b[0m\n\u001b[0;32m    508\u001b[0m \u001b[38;5;28;01mdef\u001b[39;00m \u001b[38;5;21m_validate_data\u001b[39m(\n\u001b[0;32m    509\u001b[0m     \u001b[38;5;28mself\u001b[39m,\n\u001b[0;32m    510\u001b[0m     X\u001b[38;5;241m=\u001b[39m\u001b[38;5;124m\"\u001b[39m\u001b[38;5;124mno_validation\u001b[39m\u001b[38;5;124m\"\u001b[39m,\n\u001b[1;32m   (...)\u001b[0m\n\u001b[0;32m    515\u001b[0m     \u001b[38;5;241m*\u001b[39m\u001b[38;5;241m*\u001b[39mcheck_params,\n\u001b[0;32m    516\u001b[0m ):\n\u001b[0;32m    517\u001b[0m \u001b[38;5;250m    \u001b[39m\u001b[38;5;124;03m\"\"\"Validate input data and set or check the `n_features_in_` attribute.\u001b[39;00m\n\u001b[0;32m    518\u001b[0m \n\u001b[0;32m    519\u001b[0m \u001b[38;5;124;03m    Parameters\u001b[39;00m\n\u001b[1;32m   (...)\u001b[0m\n\u001b[0;32m    577\u001b[0m \u001b[38;5;124;03m        validated.\u001b[39;00m\n\u001b[0;32m    578\u001b[0m \u001b[38;5;124;03m    \"\"\"\u001b[39;00m\n\u001b[1;32m--> 579\u001b[0m     \u001b[38;5;28;43mself\u001b[39;49m\u001b[38;5;241;43m.\u001b[39;49m\u001b[43m_check_feature_names\u001b[49m\u001b[43m(\u001b[49m\u001b[43mX\u001b[49m\u001b[43m,\u001b[49m\u001b[43m \u001b[49m\u001b[43mreset\u001b[49m\u001b[38;5;241;43m=\u001b[39;49m\u001b[43mreset\u001b[49m\u001b[43m)\u001b[49m\n\u001b[0;32m    581\u001b[0m     \u001b[38;5;28;01mif\u001b[39;00m y \u001b[38;5;129;01mis\u001b[39;00m \u001b[38;5;28;01mNone\u001b[39;00m \u001b[38;5;129;01mand\u001b[39;00m \u001b[38;5;28mself\u001b[39m\u001b[38;5;241m.\u001b[39m_get_tags()[\u001b[38;5;124m\"\u001b[39m\u001b[38;5;124mrequires_y\u001b[39m\u001b[38;5;124m\"\u001b[39m]:\n\u001b[0;32m    582\u001b[0m         \u001b[38;5;28;01mraise\u001b[39;00m \u001b[38;5;167;01mValueError\u001b[39;00m(\n\u001b[0;32m    583\u001b[0m             \u001b[38;5;124mf\u001b[39m\u001b[38;5;124m\"\u001b[39m\u001b[38;5;124mThis \u001b[39m\u001b[38;5;132;01m{\u001b[39;00m\u001b[38;5;28mself\u001b[39m\u001b[38;5;241m.\u001b[39m\u001b[38;5;18m__class__\u001b[39m\u001b[38;5;241m.\u001b[39m\u001b[38;5;18m__name__\u001b[39m\u001b[38;5;132;01m}\u001b[39;00m\u001b[38;5;124m estimator \u001b[39m\u001b[38;5;124m\"\u001b[39m\n\u001b[0;32m    584\u001b[0m             \u001b[38;5;124m\"\u001b[39m\u001b[38;5;124mrequires y to be passed, but the target y is None.\u001b[39m\u001b[38;5;124m\"\u001b[39m\n\u001b[0;32m    585\u001b[0m         )\n",
      "File \u001b[1;32mc:\\Users\\tarun\\anaconda3\\envs\\tf_gpu\\lib\\site-packages\\sklearn\\base.py:506\u001b[0m, in \u001b[0;36mBaseEstimator._check_feature_names\u001b[1;34m(self, X, reset)\u001b[0m\n\u001b[0;32m    501\u001b[0m \u001b[38;5;28;01mif\u001b[39;00m \u001b[38;5;129;01mnot\u001b[39;00m missing_names \u001b[38;5;129;01mand\u001b[39;00m \u001b[38;5;129;01mnot\u001b[39;00m unexpected_names:\n\u001b[0;32m    502\u001b[0m     message \u001b[38;5;241m+\u001b[39m\u001b[38;5;241m=\u001b[39m (\n\u001b[0;32m    503\u001b[0m         \u001b[38;5;124m\"\u001b[39m\u001b[38;5;124mFeature names must be in the same order as they were in fit.\u001b[39m\u001b[38;5;130;01m\\n\u001b[39;00m\u001b[38;5;124m\"\u001b[39m\n\u001b[0;32m    504\u001b[0m     )\n\u001b[1;32m--> 506\u001b[0m \u001b[38;5;28;01mraise\u001b[39;00m \u001b[38;5;167;01mValueError\u001b[39;00m(message)\n",
      "\u001b[1;31mValueError\u001b[0m: The feature names should match those that were passed during fit.\nFeature names unseen at fit time:\n- description\nFeature names seen at fit time, yet now missing:\n- Total_Fifties_Mean\n- Total_Fours_sum\n- Total_Hundreds_Mean\n- Total_Sixes_sum\n- Total_runs_mean\n"
     ]
    }
   ],
   "source": [
    "import pandas as pd\n",
    "\n",
    "# Create a dictionary with the values\n",
    "data = {\n",
    "    'away_team_id': [4340.000000],\n",
    "    'floodlit_name': [1.000000],\n",
    "    'home_team_id': [4342.000000],\n",
    "    'team1_abbreviation': [6.000000],\n",
    "    'team2_abbreviation': [7.000000],\n",
    "    'batting_position': [1.000000],\n",
    "    'innings_number': [1.000000],\n",
    "    'description': [15.000000],\n",
    "    'age': [31.000000],\n",
    "    'name': [118.000000],\n",
    "    'position': [8.000000],\n",
    "    'ground_name': [9.000000],\n",
    "    'avgtemp_c': [35.300000],\n",
    "    'maxwind_kph': [20.200000],\n",
    "    'Total_Fifties': [21],\n",
    "    'condition': [8.00000],\n",
    "    'Total_Hundreds': [3],\n",
    "    'Avg_Balls_Faced': [29.826923],\n",
    "    'Avg_Strike_Rate': [119.372115],\n",
    "    'Total_Fours_mean':[188.615385],\n",
    "    'Total_Sixes_mean':[91.750000],\n",
    "    'Total_runs':[2000.192308]\n",
    "}\n",
    "\n",
    "# Create a DataFrame\n",
    "new_observation = pd.DataFrame(data)\n",
    "\n",
    "# Use the RandomForestRegressor for prediction\n",
    "prediction = rf_pipeline.predict(new_observation)\n",
    "\n",
    "# Display the prediction\n",
    "print(f'Model Prediction: {prediction}')"
   ]
  },
  {
   "cell_type": "code",
   "execution_count": 36,
   "metadata": {},
   "outputs": [
    {
     "name": "stdout",
     "output_type": "stream",
     "text": [
      "Requirement already satisfied: tensorflow in c:\\users\\tarun\\anaconda3\\envs\\tf_gpu\\lib\\site-packages (2.15.0)\n",
      "Requirement already satisfied: tensorflow-intel==2.15.0 in c:\\users\\tarun\\anaconda3\\envs\\tf_gpu\\lib\\site-packages (from tensorflow) (2.15.0)\n",
      "Requirement already satisfied: absl-py>=1.0.0 in c:\\users\\tarun\\anaconda3\\envs\\tf_gpu\\lib\\site-packages (from tensorflow-intel==2.15.0->tensorflow) (2.1.0)\n",
      "Requirement already satisfied: astunparse>=1.6.0 in c:\\users\\tarun\\anaconda3\\envs\\tf_gpu\\lib\\site-packages (from tensorflow-intel==2.15.0->tensorflow) (1.6.3)\n",
      "Requirement already satisfied: flatbuffers>=23.5.26 in c:\\users\\tarun\\anaconda3\\envs\\tf_gpu\\lib\\site-packages (from tensorflow-intel==2.15.0->tensorflow) (23.5.26)\n",
      "Requirement already satisfied: gast!=0.5.0,!=0.5.1,!=0.5.2,>=0.2.1 in c:\\users\\tarun\\anaconda3\\envs\\tf_gpu\\lib\\site-packages (from tensorflow-intel==2.15.0->tensorflow) (0.5.4)\n",
      "Requirement already satisfied: google-pasta>=0.1.1 in c:\\users\\tarun\\anaconda3\\envs\\tf_gpu\\lib\\site-packages (from tensorflow-intel==2.15.0->tensorflow) (0.2.0)\n",
      "Requirement already satisfied: h5py>=2.9.0 in c:\\users\\tarun\\anaconda3\\envs\\tf_gpu\\lib\\site-packages (from tensorflow-intel==2.15.0->tensorflow) (3.9.0)\n",
      "Requirement already satisfied: libclang>=13.0.0 in c:\\users\\tarun\\anaconda3\\envs\\tf_gpu\\lib\\site-packages (from tensorflow-intel==2.15.0->tensorflow) (16.0.6)\n",
      "Requirement already satisfied: ml-dtypes~=0.2.0 in c:\\users\\tarun\\anaconda3\\envs\\tf_gpu\\lib\\site-packages (from tensorflow-intel==2.15.0->tensorflow) (0.2.0)\n",
      "Requirement already satisfied: numpy<2.0.0,>=1.23.5 in c:\\users\\tarun\\anaconda3\\envs\\tf_gpu\\lib\\site-packages (from tensorflow-intel==2.15.0->tensorflow) (1.24.3)\n",
      "Requirement already satisfied: opt-einsum>=2.3.2 in c:\\users\\tarun\\anaconda3\\envs\\tf_gpu\\lib\\site-packages (from tensorflow-intel==2.15.0->tensorflow) (3.3.0)\n",
      "Requirement already satisfied: packaging in c:\\users\\tarun\\anaconda3\\envs\\tf_gpu\\lib\\site-packages (from tensorflow-intel==2.15.0->tensorflow) (23.1)\n",
      "Requirement already satisfied: protobuf!=4.21.0,!=4.21.1,!=4.21.2,!=4.21.3,!=4.21.4,!=4.21.5,<5.0.0dev,>=3.20.3 in c:\\users\\tarun\\anaconda3\\envs\\tf_gpu\\lib\\site-packages (from tensorflow-intel==2.15.0->tensorflow) (4.25.2)\n",
      "Requirement already satisfied: setuptools in c:\\users\\tarun\\anaconda3\\envs\\tf_gpu\\lib\\site-packages (from tensorflow-intel==2.15.0->tensorflow) (68.0.0)\n",
      "Requirement already satisfied: six>=1.12.0 in c:\\users\\tarun\\anaconda3\\envs\\tf_gpu\\lib\\site-packages (from tensorflow-intel==2.15.0->tensorflow) (1.16.0)\n",
      "Requirement already satisfied: termcolor>=1.1.0 in c:\\users\\tarun\\anaconda3\\envs\\tf_gpu\\lib\\site-packages (from tensorflow-intel==2.15.0->tensorflow) (2.4.0)\n",
      "Requirement already satisfied: typing-extensions>=3.6.6 in c:\\users\\tarun\\anaconda3\\envs\\tf_gpu\\lib\\site-packages (from tensorflow-intel==2.15.0->tensorflow) (4.7.1)\n",
      "Requirement already satisfied: wrapt<1.15,>=1.11.0 in c:\\users\\tarun\\anaconda3\\envs\\tf_gpu\\lib\\site-packages (from tensorflow-intel==2.15.0->tensorflow) (1.14.1)\n",
      "Requirement already satisfied: tensorflow-io-gcs-filesystem>=0.23.1 in c:\\users\\tarun\\anaconda3\\envs\\tf_gpu\\lib\\site-packages (from tensorflow-intel==2.15.0->tensorflow) (0.31.0)\n",
      "Requirement already satisfied: grpcio<2.0,>=1.24.3 in c:\\users\\tarun\\anaconda3\\envs\\tf_gpu\\lib\\site-packages (from tensorflow-intel==2.15.0->tensorflow) (1.60.1)\n",
      "Requirement already satisfied: tensorboard<2.16,>=2.15 in c:\\users\\tarun\\anaconda3\\envs\\tf_gpu\\lib\\site-packages (from tensorflow-intel==2.15.0->tensorflow) (2.15.2)\n",
      "Requirement already satisfied: tensorflow-estimator<2.16,>=2.15.0 in c:\\users\\tarun\\anaconda3\\envs\\tf_gpu\\lib\\site-packages (from tensorflow-intel==2.15.0->tensorflow) (2.15.0)\n",
      "Requirement already satisfied: keras<2.16,>=2.15.0 in c:\\users\\tarun\\anaconda3\\envs\\tf_gpu\\lib\\site-packages (from tensorflow-intel==2.15.0->tensorflow) (2.15.0)\n",
      "Requirement already satisfied: wheel<1.0,>=0.23.0 in c:\\users\\tarun\\anaconda3\\envs\\tf_gpu\\lib\\site-packages (from astunparse>=1.6.0->tensorflow-intel==2.15.0->tensorflow) (0.38.4)\n",
      "Requirement already satisfied: google-auth<3,>=1.6.3 in c:\\users\\tarun\\anaconda3\\envs\\tf_gpu\\lib\\site-packages (from tensorboard<2.16,>=2.15->tensorflow-intel==2.15.0->tensorflow) (2.28.0)\n",
      "Requirement already satisfied: google-auth-oauthlib<2,>=0.5 in c:\\users\\tarun\\anaconda3\\envs\\tf_gpu\\lib\\site-packages (from tensorboard<2.16,>=2.15->tensorflow-intel==2.15.0->tensorflow) (1.2.0)\n",
      "Requirement already satisfied: markdown>=2.6.8 in c:\\users\\tarun\\anaconda3\\envs\\tf_gpu\\lib\\site-packages (from tensorboard<2.16,>=2.15->tensorflow-intel==2.15.0->tensorflow) (3.4.1)\n",
      "Requirement already satisfied: requests<3,>=2.21.0 in c:\\users\\tarun\\anaconda3\\envs\\tf_gpu\\lib\\site-packages (from tensorboard<2.16,>=2.15->tensorflow-intel==2.15.0->tensorflow) (2.31.0)\n",
      "Requirement already satisfied: tensorboard-data-server<0.8.0,>=0.7.0 in c:\\users\\tarun\\anaconda3\\envs\\tf_gpu\\lib\\site-packages (from tensorboard<2.16,>=2.15->tensorflow-intel==2.15.0->tensorflow) (0.7.2)\n",
      "Requirement already satisfied: werkzeug>=1.0.1 in c:\\users\\tarun\\anaconda3\\envs\\tf_gpu\\lib\\site-packages (from tensorboard<2.16,>=2.15->tensorflow-intel==2.15.0->tensorflow) (2.2.3)\n",
      "Requirement already satisfied: cachetools<6.0,>=2.0.0 in c:\\users\\tarun\\anaconda3\\envs\\tf_gpu\\lib\\site-packages (from google-auth<3,>=1.6.3->tensorboard<2.16,>=2.15->tensorflow-intel==2.15.0->tensorflow) (5.3.2)\n",
      "Requirement already satisfied: pyasn1-modules>=0.2.1 in c:\\users\\tarun\\anaconda3\\envs\\tf_gpu\\lib\\site-packages (from google-auth<3,>=1.6.3->tensorboard<2.16,>=2.15->tensorflow-intel==2.15.0->tensorflow) (0.2.8)\n",
      "Requirement already satisfied: rsa<5,>=3.1.4 in c:\\users\\tarun\\anaconda3\\envs\\tf_gpu\\lib\\site-packages (from google-auth<3,>=1.6.3->tensorboard<2.16,>=2.15->tensorflow-intel==2.15.0->tensorflow) (4.9)\n",
      "Requirement already satisfied: requests-oauthlib>=0.7.0 in c:\\users\\tarun\\anaconda3\\envs\\tf_gpu\\lib\\site-packages (from google-auth-oauthlib<2,>=0.5->tensorboard<2.16,>=2.15->tensorflow-intel==2.15.0->tensorflow) (1.3.1)\n",
      "Requirement already satisfied: charset-normalizer<4,>=2 in c:\\users\\tarun\\anaconda3\\envs\\tf_gpu\\lib\\site-packages (from requests<3,>=2.21.0->tensorboard<2.16,>=2.15->tensorflow-intel==2.15.0->tensorflow) (2.0.4)\n",
      "Requirement already satisfied: idna<4,>=2.5 in c:\\users\\tarun\\anaconda3\\envs\\tf_gpu\\lib\\site-packages (from requests<3,>=2.21.0->tensorboard<2.16,>=2.15->tensorflow-intel==2.15.0->tensorflow) (3.4)\n",
      "Requirement already satisfied: urllib3<3,>=1.21.1 in c:\\users\\tarun\\anaconda3\\envs\\tf_gpu\\lib\\site-packages (from requests<3,>=2.21.0->tensorboard<2.16,>=2.15->tensorflow-intel==2.15.0->tensorflow) (1.26.16)\n",
      "Requirement already satisfied: certifi>=2017.4.17 in c:\\users\\tarun\\anaconda3\\envs\\tf_gpu\\lib\\site-packages (from requests<3,>=2.21.0->tensorboard<2.16,>=2.15->tensorflow-intel==2.15.0->tensorflow) (2023.7.22)\n",
      "Requirement already satisfied: MarkupSafe>=2.1.1 in c:\\users\\tarun\\anaconda3\\envs\\tf_gpu\\lib\\site-packages (from werkzeug>=1.0.1->tensorboard<2.16,>=2.15->tensorflow-intel==2.15.0->tensorflow) (2.1.1)\n",
      "Requirement already satisfied: pyasn1<0.5.0,>=0.4.6 in c:\\users\\tarun\\anaconda3\\envs\\tf_gpu\\lib\\site-packages (from pyasn1-modules>=0.2.1->google-auth<3,>=1.6.3->tensorboard<2.16,>=2.15->tensorflow-intel==2.15.0->tensorflow) (0.4.8)\n",
      "Requirement already satisfied: oauthlib>=3.0.0 in c:\\users\\tarun\\anaconda3\\envs\\tf_gpu\\lib\\site-packages (from requests-oauthlib>=0.7.0->google-auth-oauthlib<2,>=0.5->tensorboard<2.16,>=2.15->tensorflow-intel==2.15.0->tensorflow) (3.2.2)\n"
     ]
    }
   ],
   "source": [
    "!pip install tensorflow"
   ]
  },
  {
   "cell_type": "code",
   "execution_count": 187,
   "metadata": {},
   "outputs": [
    {
     "data": {
      "text/html": [
       "<div>\n",
       "<style scoped>\n",
       "    .dataframe tbody tr th:only-of-type {\n",
       "        vertical-align: middle;\n",
       "    }\n",
       "\n",
       "    .dataframe tbody tr th {\n",
       "        vertical-align: top;\n",
       "    }\n",
       "\n",
       "    .dataframe thead th {\n",
       "        text-align: right;\n",
       "    }\n",
       "</style>\n",
       "<table border=\"1\" class=\"dataframe\">\n",
       "  <thead>\n",
       "    <tr style=\"text-align: right;\">\n",
       "      <th></th>\n",
       "      <th>away_team_id</th>\n",
       "      <th>floodlit_name</th>\n",
       "      <th>home_team_id</th>\n",
       "      <th>team1_abbreviation</th>\n",
       "      <th>team2_abbreviation</th>\n",
       "      <th>batting_position</th>\n",
       "      <th>innings_number</th>\n",
       "      <th>runs</th>\n",
       "      <th>fours</th>\n",
       "      <th>sixes</th>\n",
       "      <th>description</th>\n",
       "      <th>age</th>\n",
       "      <th>name</th>\n",
       "      <th>position</th>\n",
       "      <th>ground_name</th>\n",
       "      <th>avgtemp_c</th>\n",
       "      <th>maxwind_kph</th>\n",
       "      <th>Total_Fifties</th>\n",
       "      <th>condition</th>\n",
       "      <th>Total_Hundreds</th>\n",
       "      <th>Avg_Balls_Faced</th>\n",
       "      <th>Avg_Strike_Rate</th>\n",
       "      <th>Total_Fours_mean</th>\n",
       "      <th>Total_Sixes_mean</th>\n",
       "      <th>Total_runs</th>\n",
       "    </tr>\n",
       "  </thead>\n",
       "  <tbody>\n",
       "    <tr>\n",
       "      <th>0</th>\n",
       "      <td>4346.0</td>\n",
       "      <td>0</td>\n",
       "      <td>4342.0</td>\n",
       "      <td>6</td>\n",
       "      <td>5</td>\n",
       "      <td>0.0</td>\n",
       "      <td>1</td>\n",
       "      <td>0.0</td>\n",
       "      <td>0.0</td>\n",
       "      <td>0.0</td>\n",
       "      <td>15</td>\n",
       "      <td>31.0</td>\n",
       "      <td>118</td>\n",
       "      <td>8</td>\n",
       "      <td>15</td>\n",
       "      <td>25.3</td>\n",
       "      <td>13.2</td>\n",
       "      <td>21.0</td>\n",
       "      <td>7</td>\n",
       "      <td>3.0</td>\n",
       "      <td>29.826923</td>\n",
       "      <td>119.372115</td>\n",
       "      <td>188.0</td>\n",
       "      <td>91.0</td>\n",
       "      <td>2142.0</td>\n",
       "    </tr>\n",
       "    <tr>\n",
       "      <th>1</th>\n",
       "      <td>4346.0</td>\n",
       "      <td>0</td>\n",
       "      <td>4342.0</td>\n",
       "      <td>6</td>\n",
       "      <td>5</td>\n",
       "      <td>1.0</td>\n",
       "      <td>2</td>\n",
       "      <td>71.0</td>\n",
       "      <td>6.0</td>\n",
       "      <td>1.0</td>\n",
       "      <td>15</td>\n",
       "      <td>31.0</td>\n",
       "      <td>118</td>\n",
       "      <td>8</td>\n",
       "      <td>15</td>\n",
       "      <td>25.3</td>\n",
       "      <td>13.2</td>\n",
       "      <td>21.0</td>\n",
       "      <td>7</td>\n",
       "      <td>3.0</td>\n",
       "      <td>29.826923</td>\n",
       "      <td>119.372115</td>\n",
       "      <td>188.0</td>\n",
       "      <td>91.0</td>\n",
       "      <td>2142.0</td>\n",
       "    </tr>\n",
       "    <tr>\n",
       "      <th>2</th>\n",
       "      <td>4342.0</td>\n",
       "      <td>1</td>\n",
       "      <td>4345.0</td>\n",
       "      <td>8</td>\n",
       "      <td>6</td>\n",
       "      <td>1.0</td>\n",
       "      <td>1</td>\n",
       "      <td>4.0</td>\n",
       "      <td>1.0</td>\n",
       "      <td>0.0</td>\n",
       "      <td>15</td>\n",
       "      <td>31.0</td>\n",
       "      <td>118</td>\n",
       "      <td>8</td>\n",
       "      <td>17</td>\n",
       "      <td>25.9</td>\n",
       "      <td>21.4</td>\n",
       "      <td>21.0</td>\n",
       "      <td>4</td>\n",
       "      <td>3.0</td>\n",
       "      <td>29.826923</td>\n",
       "      <td>119.372115</td>\n",
       "      <td>188.0</td>\n",
       "      <td>91.0</td>\n",
       "      <td>2142.0</td>\n",
       "    </tr>\n",
       "    <tr>\n",
       "      <th>3</th>\n",
       "      <td>4342.0</td>\n",
       "      <td>1</td>\n",
       "      <td>4345.0</td>\n",
       "      <td>8</td>\n",
       "      <td>6</td>\n",
       "      <td>0.0</td>\n",
       "      <td>2</td>\n",
       "      <td>0.0</td>\n",
       "      <td>0.0</td>\n",
       "      <td>0.0</td>\n",
       "      <td>15</td>\n",
       "      <td>31.0</td>\n",
       "      <td>118</td>\n",
       "      <td>8</td>\n",
       "      <td>17</td>\n",
       "      <td>25.9</td>\n",
       "      <td>21.4</td>\n",
       "      <td>21.0</td>\n",
       "      <td>4</td>\n",
       "      <td>3.0</td>\n",
       "      <td>29.826923</td>\n",
       "      <td>119.372115</td>\n",
       "      <td>188.0</td>\n",
       "      <td>91.0</td>\n",
       "      <td>2142.0</td>\n",
       "    </tr>\n",
       "    <tr>\n",
       "      <th>4</th>\n",
       "      <td>4344.0</td>\n",
       "      <td>1</td>\n",
       "      <td>4342.0</td>\n",
       "      <td>6</td>\n",
       "      <td>1</td>\n",
       "      <td>1.0</td>\n",
       "      <td>1</td>\n",
       "      <td>15.0</td>\n",
       "      <td>2.0</td>\n",
       "      <td>1.0</td>\n",
       "      <td>15</td>\n",
       "      <td>31.0</td>\n",
       "      <td>118</td>\n",
       "      <td>8</td>\n",
       "      <td>15</td>\n",
       "      <td>24.0</td>\n",
       "      <td>17.3</td>\n",
       "      <td>21.0</td>\n",
       "      <td>8</td>\n",
       "      <td>3.0</td>\n",
       "      <td>29.826923</td>\n",
       "      <td>119.372115</td>\n",
       "      <td>188.0</td>\n",
       "      <td>91.0</td>\n",
       "      <td>2142.0</td>\n",
       "    </tr>\n",
       "  </tbody>\n",
       "</table>\n",
       "</div>"
      ],
      "text/plain": [
       "   away_team_id  floodlit_name  home_team_id  team1_abbreviation  \\\n",
       "0        4346.0              0        4342.0                   6   \n",
       "1        4346.0              0        4342.0                   6   \n",
       "2        4342.0              1        4345.0                   8   \n",
       "3        4342.0              1        4345.0                   8   \n",
       "4        4344.0              1        4342.0                   6   \n",
       "\n",
       "   team2_abbreviation  batting_position  innings_number  runs  fours  sixes  \\\n",
       "0                   5               0.0               1   0.0    0.0    0.0   \n",
       "1                   5               1.0               2  71.0    6.0    1.0   \n",
       "2                   6               1.0               1   4.0    1.0    0.0   \n",
       "3                   6               0.0               2   0.0    0.0    0.0   \n",
       "4                   1               1.0               1  15.0    2.0    1.0   \n",
       "\n",
       "   description   age  name  position  ground_name  avgtemp_c  maxwind_kph  \\\n",
       "0           15  31.0   118         8           15       25.3         13.2   \n",
       "1           15  31.0   118         8           15       25.3         13.2   \n",
       "2           15  31.0   118         8           17       25.9         21.4   \n",
       "3           15  31.0   118         8           17       25.9         21.4   \n",
       "4           15  31.0   118         8           15       24.0         17.3   \n",
       "\n",
       "   Total_Fifties  condition  Total_Hundreds  Avg_Balls_Faced  Avg_Strike_Rate  \\\n",
       "0           21.0          7             3.0        29.826923       119.372115   \n",
       "1           21.0          7             3.0        29.826923       119.372115   \n",
       "2           21.0          4             3.0        29.826923       119.372115   \n",
       "3           21.0          4             3.0        29.826923       119.372115   \n",
       "4           21.0          8             3.0        29.826923       119.372115   \n",
       "\n",
       "   Total_Fours_mean  Total_Sixes_mean  Total_runs  \n",
       "0             188.0              91.0      2142.0  \n",
       "1             188.0              91.0      2142.0  \n",
       "2             188.0              91.0      2142.0  \n",
       "3             188.0              91.0      2142.0  \n",
       "4             188.0              91.0      2142.0  "
      ]
     },
     "execution_count": 187,
     "metadata": {},
     "output_type": "execute_result"
    }
   ],
   "source": [
    "df_fil.head()"
   ]
  },
  {
   "cell_type": "code",
   "execution_count": 1113,
   "metadata": {},
   "outputs": [
    {
     "name": "stdout",
     "output_type": "stream",
     "text": [
      "Epoch 1/200\n",
      "571/571 [==============================] - 3s 4ms/step - loss: 525.4941 - val_loss: 151.1306\n",
      "Epoch 2/200\n",
      "571/571 [==============================] - 1s 2ms/step - loss: 118.0489 - val_loss: 78.9011\n",
      "Epoch 3/200\n",
      "571/571 [==============================] - 1s 2ms/step - loss: 126.0557 - val_loss: 207.9247\n",
      "Epoch 4/200\n",
      "571/571 [==============================] - 1s 2ms/step - loss: 112.1231 - val_loss: 87.1666\n",
      "Epoch 5/200\n",
      "571/571 [==============================] - 1s 2ms/step - loss: 106.4382 - val_loss: 99.2279\n",
      "Epoch 6/200\n",
      "571/571 [==============================] - 1s 2ms/step - loss: 96.1253 - val_loss: 96.9801\n",
      "Epoch 7/200\n",
      "571/571 [==============================] - 1s 2ms/step - loss: 103.8837 - val_loss: 72.8136\n",
      "Epoch 8/200\n",
      "571/571 [==============================] - 1s 2ms/step - loss: 93.8050 - val_loss: 137.4145\n",
      "Epoch 9/200\n",
      "571/571 [==============================] - 1s 2ms/step - loss: 88.1470 - val_loss: 151.3295\n",
      "Epoch 10/200\n",
      "571/571 [==============================] - 1s 2ms/step - loss: 87.3724 - val_loss: 90.2099\n",
      "Epoch 11/200\n",
      "571/571 [==============================] - 1s 2ms/step - loss: 83.2372 - val_loss: 80.9301\n",
      "Epoch 12/200\n",
      "571/571 [==============================] - 1s 2ms/step - loss: 79.8615 - val_loss: 74.9115\n",
      "Epoch 13/200\n",
      "571/571 [==============================] - 1s 2ms/step - loss: 78.5551 - val_loss: 71.2168\n",
      "Epoch 14/200\n",
      "571/571 [==============================] - 1s 2ms/step - loss: 76.2458 - val_loss: 72.4917\n",
      "Epoch 15/200\n",
      "571/571 [==============================] - 1s 2ms/step - loss: 76.0736 - val_loss: 75.5245\n",
      "Epoch 16/200\n",
      "571/571 [==============================] - 1s 2ms/step - loss: 75.3666 - val_loss: 70.2654\n",
      "Epoch 17/200\n",
      "571/571 [==============================] - 1s 2ms/step - loss: 73.5065 - val_loss: 68.9478\n",
      "Epoch 18/200\n",
      "571/571 [==============================] - 1s 2ms/step - loss: 73.6740 - val_loss: 67.7442\n",
      "Epoch 19/200\n",
      "571/571 [==============================] - 1s 2ms/step - loss: 73.1234 - val_loss: 68.1539\n",
      "Epoch 20/200\n",
      "571/571 [==============================] - 1s 2ms/step - loss: 72.3884 - val_loss: 67.7913\n",
      "Epoch 21/200\n",
      "571/571 [==============================] - 1s 2ms/step - loss: 73.3492 - val_loss: 68.3522\n",
      "Epoch 22/200\n",
      "571/571 [==============================] - 1s 2ms/step - loss: 72.6229 - val_loss: 75.4081\n",
      "Epoch 23/200\n",
      "571/571 [==============================] - 1s 2ms/step - loss: 72.0998 - val_loss: 66.9994\n",
      "Epoch 24/200\n",
      "571/571 [==============================] - 1s 2ms/step - loss: 71.0467 - val_loss: 70.3183\n",
      "Epoch 25/200\n",
      "571/571 [==============================] - 1s 2ms/step - loss: 70.6453 - val_loss: 65.6710\n",
      "Epoch 26/200\n",
      "571/571 [==============================] - 1s 2ms/step - loss: 70.8232 - val_loss: 65.1648\n",
      "Epoch 27/200\n",
      "571/571 [==============================] - 1s 2ms/step - loss: 69.2582 - val_loss: 63.4070\n",
      "Epoch 28/200\n",
      "571/571 [==============================] - 1s 2ms/step - loss: 68.6661 - val_loss: 67.9256\n",
      "Epoch 29/200\n",
      "571/571 [==============================] - 1s 2ms/step - loss: 68.9858 - val_loss: 65.9385\n",
      "Epoch 30/200\n",
      "571/571 [==============================] - 1s 2ms/step - loss: 68.9571 - val_loss: 68.5394\n",
      "Epoch 31/200\n",
      "571/571 [==============================] - 1s 2ms/step - loss: 67.8428 - val_loss: 61.2122\n",
      "Epoch 32/200\n",
      "571/571 [==============================] - 1s 2ms/step - loss: 68.6318 - val_loss: 62.8140\n",
      "Epoch 33/200\n",
      "571/571 [==============================] - 1s 2ms/step - loss: 66.9901 - val_loss: 65.9199\n",
      "Epoch 34/200\n",
      "571/571 [==============================] - 1s 2ms/step - loss: 67.9968 - val_loss: 61.4594\n",
      "Epoch 35/200\n",
      "571/571 [==============================] - 1s 2ms/step - loss: 67.3218 - val_loss: 63.8116\n",
      "Epoch 36/200\n",
      "571/571 [==============================] - 1s 2ms/step - loss: 67.2908 - val_loss: 65.8461\n",
      "Epoch 37/200\n",
      "571/571 [==============================] - 1s 2ms/step - loss: 67.3416 - val_loss: 65.1168\n",
      "Epoch 38/200\n",
      "571/571 [==============================] - 1s 2ms/step - loss: 66.9811 - val_loss: 60.3125\n",
      "Epoch 39/200\n",
      "571/571 [==============================] - 1s 2ms/step - loss: 66.5852 - val_loss: 68.5946\n",
      "Epoch 40/200\n",
      "571/571 [==============================] - 1s 2ms/step - loss: 66.6591 - val_loss: 59.6567\n",
      "Epoch 41/200\n",
      "571/571 [==============================] - 1s 2ms/step - loss: 65.5715 - val_loss: 59.3724\n",
      "Epoch 42/200\n",
      "571/571 [==============================] - 1s 2ms/step - loss: 66.4752 - val_loss: 59.9568\n",
      "Epoch 43/200\n",
      "571/571 [==============================] - 1s 2ms/step - loss: 67.2225 - val_loss: 64.2385\n",
      "Epoch 44/200\n",
      "571/571 [==============================] - 1s 2ms/step - loss: 65.5186 - val_loss: 63.9875\n",
      "Epoch 45/200\n",
      "571/571 [==============================] - 1s 2ms/step - loss: 65.7841 - val_loss: 60.1766\n",
      "Epoch 46/200\n",
      "571/571 [==============================] - 1s 2ms/step - loss: 65.0353 - val_loss: 67.4738\n",
      "Epoch 47/200\n",
      "571/571 [==============================] - 1s 2ms/step - loss: 65.1393 - val_loss: 59.0517\n",
      "Epoch 48/200\n",
      "571/571 [==============================] - 1s 2ms/step - loss: 65.2704 - val_loss: 61.5615\n",
      "Epoch 49/200\n",
      "571/571 [==============================] - 1s 2ms/step - loss: 65.2535 - val_loss: 59.1194\n",
      "Epoch 50/200\n",
      "571/571 [==============================] - 1s 2ms/step - loss: 65.0880 - val_loss: 59.8989\n",
      "Epoch 51/200\n",
      "571/571 [==============================] - 1s 2ms/step - loss: 66.0658 - val_loss: 74.6412\n",
      "Epoch 52/200\n",
      "571/571 [==============================] - 1s 2ms/step - loss: 65.3445 - val_loss: 59.6621\n",
      "Epoch 53/200\n",
      "571/571 [==============================] - 1s 2ms/step - loss: 64.8045 - val_loss: 59.9017\n",
      "Epoch 54/200\n",
      "571/571 [==============================] - 1s 2ms/step - loss: 65.3123 - val_loss: 59.2190\n",
      "Epoch 55/200\n",
      "571/571 [==============================] - 1s 2ms/step - loss: 64.8969 - val_loss: 57.6125\n",
      "Epoch 56/200\n",
      "571/571 [==============================] - 1s 2ms/step - loss: 64.7795 - val_loss: 59.8889\n",
      "Epoch 57/200\n",
      "571/571 [==============================] - 1s 2ms/step - loss: 65.3404 - val_loss: 59.4408\n",
      "Epoch 58/200\n",
      "571/571 [==============================] - 1s 2ms/step - loss: 64.3797 - val_loss: 62.0921\n",
      "Epoch 59/200\n",
      "571/571 [==============================] - 1s 2ms/step - loss: 65.1488 - val_loss: 63.4289\n",
      "Epoch 60/200\n",
      "571/571 [==============================] - 1s 2ms/step - loss: 64.9535 - val_loss: 58.0162\n",
      "Epoch 61/200\n",
      "571/571 [==============================] - 1s 2ms/step - loss: 64.3079 - val_loss: 58.1301\n",
      "Epoch 62/200\n",
      "571/571 [==============================] - 1s 2ms/step - loss: 63.5114 - val_loss: 60.9985\n",
      "Epoch 63/200\n",
      "571/571 [==============================] - 1s 2ms/step - loss: 64.6221 - val_loss: 57.4944\n",
      "Epoch 64/200\n",
      "571/571 [==============================] - 1s 2ms/step - loss: 63.7685 - val_loss: 60.2774\n",
      "Epoch 65/200\n",
      "571/571 [==============================] - 1s 2ms/step - loss: 64.1909 - val_loss: 60.4380\n",
      "Epoch 66/200\n",
      "571/571 [==============================] - 1s 2ms/step - loss: 64.1754 - val_loss: 58.3106\n",
      "Epoch 67/200\n",
      "571/571 [==============================] - 1s 2ms/step - loss: 64.3201 - val_loss: 63.3499\n",
      "Epoch 68/200\n",
      "571/571 [==============================] - 1s 2ms/step - loss: 63.4013 - val_loss: 58.8178\n",
      "Epoch 69/200\n",
      "571/571 [==============================] - 1s 2ms/step - loss: 63.1905 - val_loss: 58.4522\n",
      "Epoch 70/200\n",
      "571/571 [==============================] - 1s 2ms/step - loss: 64.0447 - val_loss: 56.4594\n",
      "Epoch 71/200\n",
      "571/571 [==============================] - 1s 2ms/step - loss: 63.5182 - val_loss: 63.9714\n",
      "Epoch 72/200\n",
      "571/571 [==============================] - 1s 2ms/step - loss: 63.8428 - val_loss: 57.0429\n",
      "Epoch 73/200\n",
      "571/571 [==============================] - 1s 2ms/step - loss: 63.5528 - val_loss: 60.0905\n",
      "Epoch 74/200\n",
      "571/571 [==============================] - 1s 2ms/step - loss: 63.1655 - val_loss: 58.8819\n",
      "Epoch 75/200\n",
      "571/571 [==============================] - 1s 2ms/step - loss: 63.2430 - val_loss: 56.9761\n",
      "Epoch 76/200\n",
      "571/571 [==============================] - 1s 2ms/step - loss: 63.6581 - val_loss: 60.5790\n",
      "Epoch 77/200\n",
      "571/571 [==============================] - 1s 2ms/step - loss: 63.0930 - val_loss: 57.7817\n",
      "Epoch 78/200\n",
      "571/571 [==============================] - 1s 2ms/step - loss: 62.9075 - val_loss: 57.7616\n",
      "Epoch 79/200\n",
      "571/571 [==============================] - 1s 2ms/step - loss: 62.5709 - val_loss: 59.0760\n",
      "Epoch 80/200\n",
      "571/571 [==============================] - 1s 2ms/step - loss: 64.1238 - val_loss: 57.4604\n",
      "Epoch 81/200\n",
      "571/571 [==============================] - 1s 2ms/step - loss: 63.6719 - val_loss: 57.8477\n",
      "Epoch 82/200\n",
      "571/571 [==============================] - 1s 2ms/step - loss: 62.8291 - val_loss: 57.2055\n",
      "Epoch 83/200\n",
      "571/571 [==============================] - 1s 2ms/step - loss: 62.9331 - val_loss: 55.9737\n",
      "Epoch 84/200\n",
      "571/571 [==============================] - 1s 2ms/step - loss: 63.6324 - val_loss: 59.9430\n",
      "Epoch 85/200\n",
      "571/571 [==============================] - 1s 2ms/step - loss: 62.9610 - val_loss: 57.2577\n",
      "Epoch 86/200\n",
      "571/571 [==============================] - 1s 2ms/step - loss: 63.3184 - val_loss: 55.6855\n",
      "Epoch 87/200\n",
      "571/571 [==============================] - 1s 2ms/step - loss: 62.1025 - val_loss: 57.0955\n",
      "Epoch 88/200\n",
      "571/571 [==============================] - 1s 2ms/step - loss: 62.0417 - val_loss: 55.8116\n",
      "Epoch 89/200\n",
      "571/571 [==============================] - 1s 2ms/step - loss: 61.4371 - val_loss: 55.6029\n",
      "Epoch 90/200\n",
      "571/571 [==============================] - 1s 2ms/step - loss: 61.5337 - val_loss: 59.1549\n",
      "Epoch 91/200\n",
      "571/571 [==============================] - 1s 2ms/step - loss: 61.7228 - val_loss: 64.0612\n",
      "Epoch 92/200\n",
      "571/571 [==============================] - 1s 2ms/step - loss: 61.0652 - val_loss: 56.3200\n",
      "Epoch 93/200\n",
      "571/571 [==============================] - 1s 2ms/step - loss: 61.1861 - val_loss: 58.3398\n",
      "Epoch 94/200\n",
      "571/571 [==============================] - 1s 2ms/step - loss: 61.1580 - val_loss: 58.7113\n",
      "Epoch 95/200\n",
      "571/571 [==============================] - 1s 2ms/step - loss: 60.1120 - val_loss: 56.6825\n",
      "Epoch 96/200\n",
      "571/571 [==============================] - 1s 2ms/step - loss: 60.4376 - val_loss: 55.6605\n",
      "Epoch 97/200\n",
      "571/571 [==============================] - 1s 2ms/step - loss: 58.4428 - val_loss: 53.4774\n",
      "Epoch 98/200\n",
      "571/571 [==============================] - 1s 2ms/step - loss: 58.5081 - val_loss: 50.8552\n",
      "Epoch 99/200\n",
      "571/571 [==============================] - 1s 2ms/step - loss: 57.8946 - val_loss: 59.0846\n",
      "Epoch 100/200\n",
      "571/571 [==============================] - 1s 2ms/step - loss: 57.1640 - val_loss: 55.9997\n",
      "Epoch 101/200\n",
      "571/571 [==============================] - 1s 2ms/step - loss: 59.7324 - val_loss: 60.6104\n",
      "Epoch 102/200\n",
      "571/571 [==============================] - 1s 2ms/step - loss: 55.7921 - val_loss: 54.3421\n",
      "Epoch 103/200\n",
      "571/571 [==============================] - 1s 2ms/step - loss: 57.2333 - val_loss: 50.3178\n",
      "Epoch 104/200\n",
      "571/571 [==============================] - 1s 2ms/step - loss: 56.7643 - val_loss: 56.4915\n",
      "Epoch 105/200\n",
      "571/571 [==============================] - 1s 2ms/step - loss: 56.3933 - val_loss: 51.6929\n",
      "Epoch 106/200\n",
      "571/571 [==============================] - 1s 2ms/step - loss: 56.3267 - val_loss: 57.4670\n",
      "Epoch 107/200\n",
      "571/571 [==============================] - 1s 2ms/step - loss: 55.5343 - val_loss: 54.6118\n",
      "Epoch 108/200\n",
      "571/571 [==============================] - 1s 2ms/step - loss: 55.6720 - val_loss: 49.1652\n",
      "Epoch 109/200\n",
      "571/571 [==============================] - 1s 2ms/step - loss: 54.7027 - val_loss: 54.7287\n",
      "Epoch 110/200\n",
      "571/571 [==============================] - 1s 2ms/step - loss: 53.9435 - val_loss: 47.9477\n",
      "Epoch 111/200\n",
      "571/571 [==============================] - 1s 2ms/step - loss: 54.1870 - val_loss: 49.0253\n",
      "Epoch 112/200\n",
      "571/571 [==============================] - 1s 2ms/step - loss: 53.5363 - val_loss: 49.4176\n",
      "Epoch 113/200\n",
      "571/571 [==============================] - 1s 2ms/step - loss: 53.5252 - val_loss: 47.5116\n",
      "Epoch 114/200\n",
      "571/571 [==============================] - 1s 2ms/step - loss: 54.3632 - val_loss: 54.2172\n",
      "Epoch 115/200\n",
      "571/571 [==============================] - 1s 2ms/step - loss: 53.0856 - val_loss: 47.3014\n",
      "Epoch 116/200\n",
      "571/571 [==============================] - 1s 2ms/step - loss: 55.3088 - val_loss: 49.0738\n",
      "Epoch 117/200\n",
      "571/571 [==============================] - 1s 2ms/step - loss: 54.0636 - val_loss: 58.9543\n",
      "Epoch 118/200\n",
      "571/571 [==============================] - 1s 2ms/step - loss: 53.9380 - val_loss: 54.9742\n",
      "Epoch 119/200\n",
      "571/571 [==============================] - 1s 2ms/step - loss: 54.9631 - val_loss: 49.3303\n",
      "Epoch 120/200\n",
      "571/571 [==============================] - 1s 2ms/step - loss: 54.5458 - val_loss: 50.6258\n",
      "Epoch 121/200\n",
      "571/571 [==============================] - 1s 2ms/step - loss: 53.4637 - val_loss: 48.8590\n",
      "Epoch 122/200\n",
      "571/571 [==============================] - 3s 6ms/step - loss: 53.4153 - val_loss: 51.0779\n",
      "Epoch 123/200\n",
      "571/571 [==============================] - 2s 3ms/step - loss: 54.3786 - val_loss: 48.7630\n",
      "Epoch 124/200\n",
      "571/571 [==============================] - 2s 3ms/step - loss: 51.6107 - val_loss: 57.3901\n",
      "Epoch 125/200\n",
      "571/571 [==============================] - 2s 4ms/step - loss: 52.7472 - val_loss: 59.5819\n",
      "Epoch 126/200\n",
      "571/571 [==============================] - 2s 4ms/step - loss: 52.7795 - val_loss: 54.9733\n",
      "Epoch 127/200\n",
      "571/571 [==============================] - 3s 5ms/step - loss: 54.5159 - val_loss: 51.6180\n",
      "Epoch 128/200\n",
      "571/571 [==============================] - 3s 5ms/step - loss: 53.7952 - val_loss: 51.1240\n",
      "Epoch 129/200\n",
      "571/571 [==============================] - 3s 5ms/step - loss: 53.4546 - val_loss: 60.9086\n",
      "Epoch 130/200\n",
      "571/571 [==============================] - 3s 5ms/step - loss: 54.0896 - val_loss: 47.3426\n",
      "Epoch 131/200\n",
      "571/571 [==============================] - 3s 5ms/step - loss: 51.5355 - val_loss: 47.1674\n",
      "Epoch 132/200\n",
      "571/571 [==============================] - 3s 4ms/step - loss: 51.2230 - val_loss: 45.3623\n",
      "Epoch 133/200\n",
      "571/571 [==============================] - 3s 5ms/step - loss: 57.4852 - val_loss: 53.0308\n",
      "Epoch 134/200\n",
      "571/571 [==============================] - 3s 5ms/step - loss: 57.4318 - val_loss: 50.2790\n",
      "Epoch 135/200\n",
      "571/571 [==============================] - 3s 5ms/step - loss: 54.1665 - val_loss: 46.7908\n",
      "Epoch 136/200\n",
      "571/571 [==============================] - 3s 5ms/step - loss: 54.5095 - val_loss: 47.0376\n",
      "Epoch 137/200\n",
      "571/571 [==============================] - 3s 5ms/step - loss: 53.1878 - val_loss: 50.3275\n",
      "Epoch 138/200\n",
      "571/571 [==============================] - 2s 4ms/step - loss: 53.1438 - val_loss: 44.9877\n",
      "Epoch 139/200\n",
      "571/571 [==============================] - 3s 6ms/step - loss: 51.7927 - val_loss: 45.5151\n",
      "Epoch 140/200\n",
      "571/571 [==============================] - 3s 6ms/step - loss: 53.3195 - val_loss: 48.8888\n",
      "Epoch 141/200\n",
      "571/571 [==============================] - 3s 6ms/step - loss: 53.2034 - val_loss: 46.1563\n",
      "Epoch 142/200\n",
      "571/571 [==============================] - 3s 5ms/step - loss: 51.8282 - val_loss: 46.0174\n",
      "Epoch 143/200\n",
      "571/571 [==============================] - 3s 6ms/step - loss: 51.1540 - val_loss: 45.2167\n",
      "Epoch 144/200\n",
      "571/571 [==============================] - 3s 5ms/step - loss: 52.7097 - val_loss: 45.9921\n",
      "Epoch 145/200\n",
      "571/571 [==============================] - 3s 5ms/step - loss: 51.5432 - val_loss: 45.5590\n",
      "Epoch 146/200\n",
      "571/571 [==============================] - 3s 5ms/step - loss: 50.8209 - val_loss: 44.5205\n",
      "Epoch 147/200\n",
      "571/571 [==============================] - 3s 6ms/step - loss: 51.6331 - val_loss: 43.7614\n",
      "Epoch 148/200\n",
      "571/571 [==============================] - 3s 6ms/step - loss: 49.9217 - val_loss: 52.0312\n",
      "Epoch 149/200\n",
      "571/571 [==============================] - 3s 5ms/step - loss: 50.4441 - val_loss: 45.0402\n",
      "Epoch 150/200\n",
      "571/571 [==============================] - 3s 5ms/step - loss: 50.0073 - val_loss: 47.0928\n",
      "Epoch 151/200\n",
      "571/571 [==============================] - 3s 5ms/step - loss: 51.6672 - val_loss: 57.0452\n",
      "Epoch 152/200\n",
      "571/571 [==============================] - 3s 5ms/step - loss: 50.7879 - val_loss: 44.6792\n",
      "Epoch 153/200\n",
      "571/571 [==============================] - 3s 6ms/step - loss: 49.6002 - val_loss: 44.9701\n",
      "Epoch 154/200\n",
      "571/571 [==============================] - 3s 5ms/step - loss: 57.4031 - val_loss: 54.3517\n",
      "Epoch 155/200\n",
      "571/571 [==============================] - 3s 5ms/step - loss: 57.7743 - val_loss: 49.3362\n",
      "Epoch 156/200\n",
      "571/571 [==============================] - 3s 5ms/step - loss: 53.9041 - val_loss: 46.3456\n",
      "Epoch 157/200\n",
      "571/571 [==============================] - 2s 4ms/step - loss: 54.7013 - val_loss: 50.4502\n",
      "Epoch 158/200\n",
      "571/571 [==============================] - 3s 5ms/step - loss: 52.0112 - val_loss: 46.6434\n",
      "Epoch 159/200\n",
      "571/571 [==============================] - 3s 5ms/step - loss: 55.1134 - val_loss: 57.1167\n",
      "Epoch 160/200\n",
      "571/571 [==============================] - 3s 5ms/step - loss: 51.4963 - val_loss: 46.3817\n",
      "Epoch 161/200\n",
      "571/571 [==============================] - 3s 5ms/step - loss: 53.3864 - val_loss: 44.6389\n",
      "Epoch 162/200\n",
      "571/571 [==============================] - 3s 5ms/step - loss: 49.4625 - val_loss: 44.5628\n",
      "Epoch 163/200\n",
      "571/571 [==============================] - 3s 5ms/step - loss: 50.5988 - val_loss: 45.4560\n",
      "Epoch 164/200\n",
      "571/571 [==============================] - 3s 5ms/step - loss: 49.5664 - val_loss: 46.8769\n",
      "Epoch 165/200\n",
      "571/571 [==============================] - 3s 5ms/step - loss: 51.2117 - val_loss: 44.1352\n",
      "Epoch 166/200\n",
      "571/571 [==============================] - 2s 4ms/step - loss: 49.7889 - val_loss: 52.8672\n",
      "Epoch 167/200\n",
      "571/571 [==============================] - 3s 5ms/step - loss: 52.1608 - val_loss: 45.2482\n",
      "Epoch 168/200\n",
      "571/571 [==============================] - 3s 5ms/step - loss: 51.3136 - val_loss: 48.4977\n",
      "Epoch 169/200\n",
      "571/571 [==============================] - 3s 5ms/step - loss: 52.2705 - val_loss: 44.3944\n",
      "Epoch 170/200\n",
      "571/571 [==============================] - 3s 5ms/step - loss: 48.6108 - val_loss: 55.2316\n",
      "Epoch 171/200\n",
      "571/571 [==============================] - 3s 5ms/step - loss: 49.9700 - val_loss: 49.5594\n",
      "Epoch 172/200\n",
      "571/571 [==============================] - 3s 5ms/step - loss: 53.9971 - val_loss: 65.4736\n",
      "Epoch 173/200\n",
      "571/571 [==============================] - 3s 6ms/step - loss: 49.4753 - val_loss: 44.3914\n",
      "Epoch 174/200\n",
      "571/571 [==============================] - 3s 5ms/step - loss: 49.8033 - val_loss: 66.1740\n",
      "Epoch 175/200\n",
      "571/571 [==============================] - 3s 5ms/step - loss: 50.0058 - val_loss: 45.5561\n",
      "Epoch 176/200\n",
      "571/571 [==============================] - 2s 4ms/step - loss: 49.5106 - val_loss: 43.5499\n",
      "Epoch 177/200\n",
      "571/571 [==============================] - 2s 4ms/step - loss: 49.0947 - val_loss: 44.0466\n",
      "Epoch 178/200\n",
      "571/571 [==============================] - 2s 4ms/step - loss: 49.0440 - val_loss: 45.8510\n",
      "Epoch 179/200\n",
      "571/571 [==============================] - 3s 5ms/step - loss: 49.5802 - val_loss: 61.3354\n",
      "Epoch 180/200\n",
      "571/571 [==============================] - 3s 5ms/step - loss: 51.9264 - val_loss: 48.4733\n",
      "Epoch 181/200\n",
      "571/571 [==============================] - 3s 5ms/step - loss: 50.4756 - val_loss: 48.2332\n",
      "Epoch 182/200\n",
      "571/571 [==============================] - 3s 5ms/step - loss: 48.7221 - val_loss: 47.5649\n",
      "Epoch 183/200\n",
      "571/571 [==============================] - 3s 5ms/step - loss: 51.2587 - val_loss: 45.1315\n",
      "Epoch 184/200\n",
      "571/571 [==============================] - 3s 5ms/step - loss: 49.3537 - val_loss: 48.4786\n",
      "Epoch 185/200\n",
      "571/571 [==============================] - 3s 5ms/step - loss: 51.3656 - val_loss: 51.5808\n",
      "Epoch 186/200\n",
      "571/571 [==============================] - 3s 5ms/step - loss: 50.3529 - val_loss: 45.4328\n",
      "Epoch 187/200\n",
      "571/571 [==============================] - 3s 5ms/step - loss: 48.1501 - val_loss: 44.1847\n",
      "Epoch 188/200\n",
      "571/571 [==============================] - 3s 5ms/step - loss: 48.1543 - val_loss: 44.4119\n",
      "Epoch 189/200\n",
      "571/571 [==============================] - 3s 5ms/step - loss: 50.0581 - val_loss: 45.2971\n",
      "Epoch 190/200\n",
      "571/571 [==============================] - 3s 5ms/step - loss: 52.6186 - val_loss: 44.0471\n",
      "Epoch 191/200\n",
      "571/571 [==============================] - 3s 5ms/step - loss: 50.1595 - val_loss: 49.6071\n",
      "Epoch 192/200\n",
      "571/571 [==============================] - 3s 5ms/step - loss: 49.7156 - val_loss: 45.3300\n",
      "Epoch 193/200\n",
      "571/571 [==============================] - 3s 5ms/step - loss: 48.1638 - val_loss: 43.8657\n",
      "Epoch 194/200\n",
      "571/571 [==============================] - 3s 5ms/step - loss: 48.3080 - val_loss: 43.9472\n",
      "Epoch 195/200\n",
      "571/571 [==============================] - 3s 6ms/step - loss: 49.9180 - val_loss: 43.9774\n",
      "Epoch 196/200\n",
      "571/571 [==============================] - 3s 5ms/step - loss: 47.6525 - val_loss: 53.9694\n",
      "Epoch 197/200\n",
      "571/571 [==============================] - 3s 5ms/step - loss: 49.1650 - val_loss: 46.0888\n",
      "Epoch 198/200\n",
      "571/571 [==============================] - 3s 5ms/step - loss: 48.3264 - val_loss: 59.2478\n",
      "Epoch 199/200\n",
      "571/571 [==============================] - 3s 5ms/step - loss: 52.2000 - val_loss: 47.1270\n",
      "Epoch 200/200\n",
      "571/571 [==============================] - 3s 5ms/step - loss: 47.6814 - val_loss: 47.2146\n",
      "163/163 [==============================] - 0s 2ms/step - loss: 50.9347\n",
      "Test Loss: 50.93471908569336\n"
     ]
    },
    {
     "data": {
      "image/png": "[encoded data removed]",
      "text/plain": [
       "<Figure size 640x480 with 1 Axes>"
      ]
     },
     "metadata": {},
     "output_type": "display_data"
    }
   ],
   "source": [
    "import tensorflow as tf\n",
    "from tensorflow.keras.models import Sequential\n",
    "from tensorflow.keras.layers import Dense, BatchNormalization, Dropout\n",
    "from tensorflow.keras.optimizers import Adam\n",
    "from tensorflow.keras.callbacks import EarlyStopping\n",
    "# Assuming df_selected contains features and 'runs', 'fours', 'sixes' as target variables\n",
    "X_multi = df_fil.drop(['runs', 'fours', 'sixes'], axis=1)\n",
    "y_multi = df_fil[['runs', 'fours', 'sixes']]\n",
    "\n",
    "# Split the data into training and testing sets\n",
    "X_train_multi, X_test_multi, y_train_multi, y_test_multi =train_test_split(X_multi, y_multi, test_size=0.3, random_state=42)\n",
    "# Assuming X_train is your input features and y_train_multi is a DataFrame with multiple continuous targets\n",
    "# Make sure y_train_multi is normalized or preprocessed as needed\n",
    "# Build the model\n",
    "model = Sequential()\n",
    "\n",
    "# Add input layer\n",
    "model.add(Dense(units=64, activation='relu', input_dim=X_train_multi.shape[1]))\n",
    "\n",
    "# Add hidden layers\n",
    "model.add(Dense(units=128, activation='relu'))\n",
    "model.add(Dense(units=64, activation='relu'))\n",
    "\n",
    "# Add output layer with multiple nodes (one for each continuous target)\n",
    "model.add(Dense(units=len(y_train_multi.columns), activation='linear'))\n",
    "\n",
    "# Compile the model\n",
    "model.compile(optimizer='adam', loss='mean_squared_error')  # Use mean squared error for regression\n",
    "\n",
    "\n",
    "# Define early stopping\n",
    "early_stopping = EarlyStopping(monitor='val_loss', patience=100, restore_best_weights=True)\n",
    "\n",
    "# Train the model\n",
    "history = model.fit(X_train_multi, y_train_multi, epochs=200, batch_size=16, validation_split=0.25, callbacks=[early_stopping])\n",
    "\n",
    "# Evaluate on a separate test set\n",
    "test_loss = model.evaluate(X_test_multi, y_test_multi)\n",
    "print(f'Test Loss: {test_loss}')\n",
    "\n",
    "# Plot training history (optional)\n",
    "import matplotlib.pyplot as plt\n",
    "\n",
    "plt.plot(history.history['loss'], label='Training Loss')\n",
    "plt.plot(history.history['val_loss'], label='Validation Loss')\n",
    "plt.xlabel('Epoch')\n",
    "plt.ylabel('Loss')\n",
    "plt.legend()\n",
    "plt.show()"
   ]
  },
  {
   "cell_type": "code",
   "execution_count": 1114,
   "metadata": {},
   "outputs": [
    {
     "name": "stdout",
     "output_type": "stream",
     "text": [
      "WARNING:tensorflow:5 out of the last 23 calls to <function Model.make_predict_function.<locals>.predict_function at 0x000002A0E111C5E0> triggered tf.function retracing. Tracing is expensive and the excessive number of tracings could be due to (1) creating @tf.function repeatedly in a loop, (2) passing tensors with different shapes, (3) passing Python objects instead of tensors. For (1), please define your @tf.function outside of the loop. For (2), @tf.function has reduce_retracing=True option that can avoid unnecessary retracing. For (3), please refer to https://www.tensorflow.org/guide/function#controlling_retracing and https://www.tensorflow.org/api_docs/python/tf/function for  more details.\n",
      "1/1 [==============================] - 0s 55ms/step\n",
      "Model Prediction: [[15.755133    1.1949353   0.29164037]]\n"
     ]
    }
   ],
   "source": [
    "import pandas as pd\n",
    "\n",
    "# Create a dictionary with the values\n",
    "data = {\n",
    "    'away_team_id': [6904.000000],\n",
    "    'floodlit_name': [1.000000],\n",
    "    'home_team_id': [4344.000000],\n",
    "    'team1_abbreviation': [1.000000],\n",
    "    'team2_abbreviation': [2.000000],\n",
    "    'batting_position': [4.000000],\n",
    "    'innings_number': [2.000000],\n",
    "    'age': [30.000000],\n",
    "    'name': [76.000000],\n",
    "    'position': [0.000000],\n",
    "    'ground_name': [1.000000],\n",
    "    'avgtemp_c': [26.300000],\n",
    "    'maxwind_kph': [16.200000],\n",
    "    'condition': [0.00000],\n",
    "    'Avg_Balls_Faced': [15.50000],\n",
    "    'Avg_Strike_Rate': [127.35875],\n",
    "    'Total_Fifties_Mean' :[0.130],\n",
    "    'Total_Hundreds_Mean':[0],\n",
    "    'Total_Fifties':[4.00000],\n",
    "    'Total_Hundreds':[0.00000],\n",
    "    'Total_Fours_sum':[50.00000],\n",
    "    'Total_Sixes_sum' :[26.00000],\n",
    "    'Total_Fours_mean':[1.6875],\n",
    "    'Total_Sixes_mean':[0.865625],\n",
    "    'Total_runs':[640.00000],\n",
    "    'Total_runs_mean':[21.37500]\n",
    "\n",
    "}\n",
    "\n",
    "# Create a DataFrame\n",
    "new_observation = pd.DataFrame(data)\n",
    "\n",
    "# Use the RandomForestRegressor for prediction\n",
    "prediction = model.predict(new_observation)\n",
    "\n",
    "# Display the prediction\n",
    "print(f'Model Prediction: {prediction}')"
   ]
  },
  {
   "cell_type": "code",
   "execution_count": 774,
   "metadata": {},
   "outputs": [
    {
     "data": {
      "text/plain": [
       "away_team_id          4346.00000\n",
       "floodlit_name            0.00000\n",
       "home_team_id          4342.00000\n",
       "team1_abbreviation       6.00000\n",
       "team2_abbreviation       5.00000\n",
       "batting_position         0.00000\n",
       "innings_number           1.00000\n",
       "runs                     0.00000\n",
       "fours                    0.00000\n",
       "sixes                    0.00000\n",
       "description             12.00000\n",
       "age                     44.00000\n",
       "name                    37.00000\n",
       "position                 0.00000\n",
       "ground_name             12.00000\n",
       "avgtemp_c               25.30000\n",
       "maxwind_kph             13.20000\n",
       "Total_Fifties           16.00000\n",
       "condition                6.00000\n",
       "Total_Hundreds           2.00000\n",
       "Avg_Balls_Faced         22.00000\n",
       "Avg_Strike_Rate        129.35875\n",
       "Total_Fours_mean         2.96875\n",
       "Total_Sixes_mean         2.15625\n",
       "Total_runs            2072.00000\n",
       "Name: 100, dtype: float64"
      ]
     },
     "execution_count": 774,
     "metadata": {},
     "output_type": "execute_result"
    }
   ],
   "source": [
    "df_fil.iloc[100]"
   ]
  },
  {
   "cell_type": "code",
   "execution_count": 776,
   "metadata": {},
   "outputs": [
    {
     "name": "stdout",
     "output_type": "stream",
     "text": [
      "1/1 [==============================] - 0s 29ms/step\n",
      "Model Prediction: [[23.579931   1.981933   1.0228686]]\n"
     ]
    }
   ],
   "source": [
    "import pandas as pd\n",
    "\n",
    "# Create a dictionary with the values\n",
    "data = {\n",
    "    'away_team_id': [4340.000000],\n",
    "    'floodlit_name': [1.000000],\n",
    "    'home_team_id': [4342.000000],\n",
    "    'team1_abbreviation': [6.000000],\n",
    "    'team2_abbreviation': [7.000000],\n",
    "    'batting_position': [1.000000],\n",
    "    'innings_number': [1.000000],\n",
    "    'description': [15.000000],\n",
    "    'age': [31.000000],\n",
    "    'name': [118.000000],\n",
    "    'position': [8.000000],\n",
    "    'ground_name': [9.000000],\n",
    "    'avgtemp_c': [35.300000],\n",
    "    'maxwind_kph': [20.200000],\n",
    "    'Total_Fifties': [21],\n",
    "    'condition': [8.00000],\n",
    "    'Total_Hundreds': [3],\n",
    "    'Avg_Balls_Faced': [29.826923],\n",
    "    'Avg_Strike_Rate': [119.372115],\n",
    "    'Total_Fours_mean':[3.615385],\n",
    "    'Total_Sixes_mean':[1.750000],\n",
    "    'Total_runs':[2072.192308]\n",
    "}\n",
    "\n",
    "# Create a DataFrame\n",
    "new_observation = pd.DataFrame(data)\n",
    "\n",
    "# Use the RandomForestRegressor for prediction\n",
    "prediction = model.predict(new_observation)\n",
    "\n",
    "# Display the prediction\n",
    "print(f'Model Prediction: {prediction}')"
   ]
  },
  {
   "cell_type": "code",
   "execution_count": 152,
   "metadata": {},
   "outputs": [
    {
     "data": {
      "text/plain": [
       "away_team_id          4340.000000\n",
       "floodlit_name            1.000000\n",
       "home_team_id          4342.000000\n",
       "team1_abbreviation       6.000000\n",
       "team2_abbreviation       7.000000\n",
       "batting_position         1.000000\n",
       "innings_number           1.000000\n",
       "runs                    21.000000\n",
       "fours                    0.000000\n",
       "sixes                    3.000000\n",
       "description             15.000000\n",
       "age                     31.000000\n",
       "name                   118.000000\n",
       "position                 8.000000\n",
       "ground_name              9.000000\n",
       "avgtemp_c               35.600000\n",
       "maxwind_kph             20.900000\n",
       "Total_Fifties           21.000000\n",
       "condition                8.000000\n",
       "Total_Hundreds           3.000000\n",
       "Avg_Balls_Faced         29.826923\n",
       "Avg_Strike_Rate        119.372115\n",
       "Total_Fours_mean       188.000000\n",
       "Total_Sixes_mean        91.000000\n",
       "Name: 100, dtype: float64"
      ]
     },
     "execution_count": 152,
     "metadata": {},
     "output_type": "execute_result"
    }
   ],
   "source": [
    "df_fil.iloc[100]"
   ]
  },
  {
   "cell_type": "code",
   "execution_count": 73,
   "metadata": {},
   "outputs": [
    {
     "name": "stdout",
     "output_type": "stream",
     "text": [
      "Epoch 1/250\n",
      "731/731 [==============================] - 4s 5ms/step - loss: 49.7895 - val_loss: 42.6669\n",
      "Epoch 2/250\n",
      "731/731 [==============================] - 2s 2ms/step - loss: 49.2777 - val_loss: 43.7713\n",
      "Epoch 3/250\n",
      "731/731 [==============================] - 2s 2ms/step - loss: 48.5267 - val_loss: 42.9439\n",
      "Epoch 4/250\n",
      "731/731 [==============================] - 2s 2ms/step - loss: 49.0478 - val_loss: 42.7834\n",
      "Epoch 5/250\n",
      "731/731 [==============================] - 2s 3ms/step - loss: 49.7636 - val_loss: 44.8879\n",
      "Epoch 6/250\n",
      "731/731 [==============================] - 2s 3ms/step - loss: 50.6344 - val_loss: 42.6789\n",
      "Epoch 7/250\n",
      "731/731 [==============================] - 2s 3ms/step - loss: 49.6292 - val_loss: 48.1850\n",
      "Epoch 8/250\n",
      "731/731 [==============================] - 2s 2ms/step - loss: 49.3000 - val_loss: 42.6037\n",
      "Epoch 9/250\n",
      "731/731 [==============================] - 2s 3ms/step - loss: 50.1627 - val_loss: 42.3529\n",
      "Epoch 10/250\n",
      "731/731 [==============================] - 2s 2ms/step - loss: 52.0283 - val_loss: 42.9960\n",
      "Epoch 11/250\n",
      "731/731 [==============================] - 2s 3ms/step - loss: 47.7023 - val_loss: 45.8835\n",
      "Epoch 12/250\n",
      "731/731 [==============================] - 2s 3ms/step - loss: 50.3467 - val_loss: 52.4958\n",
      "Epoch 13/250\n",
      "731/731 [==============================] - 2s 3ms/step - loss: 49.3538 - val_loss: 42.6348\n",
      "Epoch 14/250\n",
      "731/731 [==============================] - 2s 3ms/step - loss: 49.2122 - val_loss: 43.9590\n",
      "Epoch 15/250\n",
      "731/731 [==============================] - 2s 2ms/step - loss: 49.4208 - val_loss: 50.1708\n",
      "Epoch 16/250\n",
      "731/731 [==============================] - 2s 2ms/step - loss: 49.6727 - val_loss: 52.7361\n",
      "Epoch 17/250\n",
      "731/731 [==============================] - 2s 2ms/step - loss: 48.4707 - val_loss: 43.3998\n",
      "Epoch 18/250\n",
      "731/731 [==============================] - 2s 2ms/step - loss: 48.0506 - val_loss: 52.4191\n",
      "Epoch 19/250\n",
      "731/731 [==============================] - 2s 2ms/step - loss: 48.8798 - val_loss: 44.2872\n",
      "Epoch 20/250\n",
      "731/731 [==============================] - 2s 2ms/step - loss: 49.4028 - val_loss: 44.6641\n",
      "Epoch 21/250\n",
      "731/731 [==============================] - 2s 3ms/step - loss: 48.3718 - val_loss: 45.8785\n",
      "Epoch 22/250\n",
      "731/731 [==============================] - 2s 2ms/step - loss: 48.7907 - val_loss: 44.7420\n",
      "Epoch 23/250\n",
      "731/731 [==============================] - 2s 2ms/step - loss: 49.5505 - val_loss: 43.4007\n",
      "Epoch 24/250\n",
      "731/731 [==============================] - 2s 2ms/step - loss: 48.1922 - val_loss: 42.4621\n",
      "Epoch 25/250\n",
      "731/731 [==============================] - 3s 3ms/step - loss: 47.9834 - val_loss: 45.5677\n",
      "Epoch 26/250\n",
      "731/731 [==============================] - 2s 2ms/step - loss: 47.9210 - val_loss: 42.5451\n",
      "Epoch 27/250\n",
      "731/731 [==============================] - 2s 2ms/step - loss: 48.0743 - val_loss: 45.5733\n",
      "Epoch 28/250\n",
      "731/731 [==============================] - 2s 3ms/step - loss: 47.6787 - val_loss: 47.9902\n",
      "Epoch 29/250\n",
      "731/731 [==============================] - 2s 2ms/step - loss: 48.5489 - val_loss: 42.8279\n",
      "Epoch 30/250\n",
      "731/731 [==============================] - 2s 2ms/step - loss: 48.3561 - val_loss: 44.8900\n",
      "Epoch 31/250\n",
      "731/731 [==============================] - 2s 2ms/step - loss: 55.1781 - val_loss: 44.4817\n",
      "Epoch 32/250\n",
      "731/731 [==============================] - 2s 2ms/step - loss: 50.5590 - val_loss: 45.6041\n",
      "Epoch 33/250\n",
      "731/731 [==============================] - 1s 2ms/step - loss: 50.8737 - val_loss: 46.4325\n",
      "Epoch 34/250\n",
      "731/731 [==============================] - 2s 3ms/step - loss: 48.5309 - val_loss: 42.4350\n",
      "Epoch 35/250\n",
      "731/731 [==============================] - 2s 2ms/step - loss: 48.4132 - val_loss: 53.7666\n",
      "Epoch 36/250\n",
      "731/731 [==============================] - 2s 3ms/step - loss: 48.3873 - val_loss: 42.5322\n",
      "Epoch 37/250\n",
      "731/731 [==============================] - 2s 2ms/step - loss: 49.4820 - val_loss: 49.0423\n",
      "Epoch 38/250\n",
      "731/731 [==============================] - 2s 3ms/step - loss: 48.2188 - val_loss: 41.9201\n",
      "Epoch 39/250\n",
      "731/731 [==============================] - 2s 3ms/step - loss: 47.9555 - val_loss: 44.9141\n",
      "Epoch 40/250\n",
      "731/731 [==============================] - 2s 3ms/step - loss: 48.7644 - val_loss: 44.7127\n",
      "Epoch 41/250\n",
      "731/731 [==============================] - 2s 3ms/step - loss: 47.6414 - val_loss: 42.4047\n",
      "Epoch 42/250\n",
      "731/731 [==============================] - 2s 3ms/step - loss: 48.1514 - val_loss: 41.9170\n",
      "Epoch 43/250\n",
      "731/731 [==============================] - 2s 3ms/step - loss: 51.6618 - val_loss: 43.7918\n",
      "Epoch 44/250\n",
      "731/731 [==============================] - 2s 3ms/step - loss: 48.2537 - val_loss: 42.3984\n",
      "Epoch 45/250\n",
      "731/731 [==============================] - 2s 2ms/step - loss: 48.7923 - val_loss: 41.4620\n",
      "Epoch 46/250\n",
      "731/731 [==============================] - 2s 3ms/step - loss: 49.0569 - val_loss: 73.0799\n",
      "Epoch 47/250\n",
      "731/731 [==============================] - 2s 3ms/step - loss: 48.8444 - val_loss: 42.2237\n",
      "Epoch 48/250\n",
      "731/731 [==============================] - 2s 2ms/step - loss: 49.0676 - val_loss: 41.3979\n",
      "Epoch 49/250\n",
      "731/731 [==============================] - 2s 3ms/step - loss: 47.6232 - val_loss: 45.5995\n",
      "Epoch 50/250\n",
      "731/731 [==============================] - 2s 3ms/step - loss: 49.1189 - val_loss: 42.7614\n",
      "Epoch 51/250\n",
      "731/731 [==============================] - 2s 3ms/step - loss: 48.7408 - val_loss: 43.8929\n",
      "Epoch 52/250\n",
      "731/731 [==============================] - 2s 3ms/step - loss: 47.1978 - val_loss: 41.9993\n",
      "Epoch 53/250\n",
      "731/731 [==============================] - 2s 3ms/step - loss: 47.1687 - val_loss: 44.4902\n",
      "Epoch 54/250\n",
      "731/731 [==============================] - 2s 2ms/step - loss: 47.5078 - val_loss: 44.0424\n",
      "Epoch 55/250\n",
      "731/731 [==============================] - 2s 2ms/step - loss: 48.1501 - val_loss: 47.8884\n",
      "Epoch 56/250\n",
      "731/731 [==============================] - 2s 3ms/step - loss: 48.6992 - val_loss: 42.2220\n",
      "Epoch 57/250\n",
      "731/731 [==============================] - 2s 3ms/step - loss: 47.9615 - val_loss: 42.1787\n",
      "Epoch 58/250\n",
      "731/731 [==============================] - 2s 3ms/step - loss: 46.3083 - val_loss: 42.5206\n",
      "Epoch 59/250\n",
      "731/731 [==============================] - 2s 2ms/step - loss: 47.9771 - val_loss: 49.7593\n",
      "Epoch 60/250\n",
      "731/731 [==============================] - 2s 2ms/step - loss: 47.8424 - val_loss: 42.6476\n",
      "Epoch 61/250\n",
      "731/731 [==============================] - 2s 2ms/step - loss: 47.9196 - val_loss: 42.1583\n",
      "Epoch 62/250\n",
      "731/731 [==============================] - 2s 2ms/step - loss: 51.5290 - val_loss: 42.8588\n",
      "Epoch 63/250\n",
      "731/731 [==============================] - 2s 2ms/step - loss: 47.2199 - val_loss: 43.8730\n",
      "Epoch 64/250\n",
      "731/731 [==============================] - 2s 2ms/step - loss: 46.9228 - val_loss: 44.9352\n",
      "Epoch 65/250\n",
      "731/731 [==============================] - 2s 2ms/step - loss: 48.1599 - val_loss: 46.3721\n",
      "Epoch 66/250\n",
      "731/731 [==============================] - 1s 2ms/step - loss: 48.2448 - val_loss: 42.8060\n",
      "Epoch 67/250\n",
      "731/731 [==============================] - 2s 2ms/step - loss: 48.0791 - val_loss: 45.7655\n",
      "Epoch 68/250\n",
      "731/731 [==============================] - 2s 3ms/step - loss: 46.8021 - val_loss: 42.6611\n",
      "Epoch 69/250\n",
      "731/731 [==============================] - 2s 3ms/step - loss: 47.8803 - val_loss: 42.2174\n",
      "Epoch 70/250\n",
      "731/731 [==============================] - 2s 3ms/step - loss: 48.6246 - val_loss: 50.9842\n",
      "Epoch 71/250\n",
      "731/731 [==============================] - 2s 3ms/step - loss: 46.9420 - val_loss: 42.5522\n",
      "Epoch 72/250\n",
      "731/731 [==============================] - 2s 3ms/step - loss: 47.1890 - val_loss: 42.7247\n",
      "Epoch 73/250\n",
      "731/731 [==============================] - 2s 2ms/step - loss: 47.3201 - val_loss: 44.2412\n",
      "Epoch 74/250\n",
      "731/731 [==============================] - 2s 2ms/step - loss: 48.3443 - val_loss: 43.7361\n",
      "Epoch 75/250\n",
      "731/731 [==============================] - 2s 3ms/step - loss: 47.1899 - val_loss: 44.9290\n",
      "Epoch 76/250\n",
      "731/731 [==============================] - 2s 3ms/step - loss: 48.2157 - val_loss: 41.6657\n",
      "Epoch 77/250\n",
      "731/731 [==============================] - 2s 3ms/step - loss: 46.5958 - val_loss: 42.7555\n",
      "Epoch 78/250\n",
      "731/731 [==============================] - 2s 2ms/step - loss: 50.0894 - val_loss: 50.9066\n",
      "Epoch 79/250\n",
      "731/731 [==============================] - 2s 3ms/step - loss: 48.6584 - val_loss: 45.5440\n",
      "Epoch 80/250\n",
      "731/731 [==============================] - 2s 3ms/step - loss: 46.9975 - val_loss: 41.7968\n",
      "Epoch 81/250\n",
      "731/731 [==============================] - 2s 3ms/step - loss: 47.5625 - val_loss: 41.9972\n",
      "Epoch 82/250\n",
      "731/731 [==============================] - 2s 3ms/step - loss: 47.0127 - val_loss: 44.1998\n",
      "Epoch 83/250\n",
      "731/731 [==============================] - 2s 3ms/step - loss: 47.1387 - val_loss: 50.3773\n",
      "Epoch 84/250\n",
      "731/731 [==============================] - 2s 3ms/step - loss: 48.0150 - val_loss: 42.1874\n",
      "Epoch 85/250\n",
      "731/731 [==============================] - 2s 3ms/step - loss: 46.5951 - val_loss: 43.9470\n",
      "Epoch 86/250\n",
      "731/731 [==============================] - 2s 3ms/step - loss: 47.0290 - val_loss: 41.7853\n",
      "Epoch 87/250\n",
      "731/731 [==============================] - 2s 3ms/step - loss: 47.2999 - val_loss: 42.3504\n",
      "Epoch 88/250\n",
      "731/731 [==============================] - 2s 3ms/step - loss: 46.3147 - val_loss: 45.9424\n",
      "Epoch 89/250\n",
      "731/731 [==============================] - 2s 3ms/step - loss: 47.2443 - val_loss: 46.3658\n",
      "Epoch 90/250\n",
      "731/731 [==============================] - 2s 2ms/step - loss: 47.2449 - val_loss: 41.6621\n",
      "Epoch 91/250\n",
      "731/731 [==============================] - 2s 2ms/step - loss: 47.8758 - val_loss: 41.9019\n",
      "Epoch 92/250\n",
      "731/731 [==============================] - 2s 3ms/step - loss: 46.0767 - val_loss: 45.9172\n",
      "Epoch 93/250\n",
      "731/731 [==============================] - 2s 3ms/step - loss: 48.1301 - val_loss: 44.2003\n",
      "Epoch 94/250\n",
      "731/731 [==============================] - 2s 2ms/step - loss: 46.8296 - val_loss: 41.6764\n",
      "Epoch 95/250\n",
      "731/731 [==============================] - 2s 2ms/step - loss: 47.9183 - val_loss: 45.4019\n",
      "Epoch 96/250\n",
      "731/731 [==============================] - 2s 2ms/step - loss: 47.8011 - val_loss: 44.7528\n",
      "Epoch 97/250\n",
      "731/731 [==============================] - 2s 3ms/step - loss: 45.8800 - val_loss: 42.9165\n",
      "Epoch 98/250\n",
      "731/731 [==============================] - 2s 2ms/step - loss: 47.4273 - val_loss: 42.0658\n",
      "Epoch 99/250\n",
      "731/731 [==============================] - 2s 3ms/step - loss: 47.3928 - val_loss: 52.6145\n",
      "Epoch 100/250\n",
      "731/731 [==============================] - 2s 3ms/step - loss: 48.4602 - val_loss: 44.3441\n",
      "Epoch 101/250\n",
      "731/731 [==============================] - 2s 3ms/step - loss: 45.5144 - val_loss: 42.8334\n",
      "Epoch 102/250\n",
      "731/731 [==============================] - 2s 3ms/step - loss: 46.8067 - val_loss: 43.2572\n",
      "Epoch 103/250\n",
      "731/731 [==============================] - 2s 2ms/step - loss: 46.1386 - val_loss: 41.9235\n",
      "Epoch 104/250\n",
      "731/731 [==============================] - 2s 2ms/step - loss: 47.7338 - val_loss: 42.4508\n",
      "Epoch 105/250\n",
      "731/731 [==============================] - 2s 2ms/step - loss: 46.8585 - val_loss: 43.5830\n",
      "Epoch 106/250\n",
      "731/731 [==============================] - 2s 3ms/step - loss: 46.4130 - val_loss: 41.2831\n",
      "Epoch 107/250\n",
      "731/731 [==============================] - 2s 3ms/step - loss: 47.5111 - val_loss: 41.5013\n",
      "Epoch 108/250\n",
      "731/731 [==============================] - 2s 3ms/step - loss: 48.5441 - val_loss: 43.2735\n",
      "Epoch 109/250\n",
      "731/731 [==============================] - 2s 3ms/step - loss: 46.9530 - val_loss: 42.5808\n",
      "Epoch 110/250\n",
      "731/731 [==============================] - 2s 3ms/step - loss: 47.9189 - val_loss: 43.1343\n",
      "Epoch 111/250\n",
      "731/731 [==============================] - 2s 3ms/step - loss: 47.1063 - val_loss: 41.9721\n",
      "Epoch 112/250\n",
      "731/731 [==============================] - 2s 3ms/step - loss: 47.1875 - val_loss: 42.7837\n",
      "Epoch 113/250\n",
      "731/731 [==============================] - 2s 3ms/step - loss: 46.3046 - val_loss: 43.3249\n",
      "Epoch 114/250\n",
      "731/731 [==============================] - 2s 2ms/step - loss: 46.3399 - val_loss: 41.8328\n",
      "Epoch 115/250\n",
      "731/731 [==============================] - 2s 2ms/step - loss: 46.4663 - val_loss: 41.9511\n",
      "Epoch 116/250\n",
      "731/731 [==============================] - 2s 2ms/step - loss: 47.0743 - val_loss: 43.1306\n",
      "Epoch 117/250\n",
      "731/731 [==============================] - 2s 2ms/step - loss: 47.3569 - val_loss: 46.1741\n",
      "Epoch 118/250\n",
      "731/731 [==============================] - 2s 2ms/step - loss: 46.9369 - val_loss: 43.9912\n",
      "Epoch 119/250\n",
      "731/731 [==============================] - 2s 3ms/step - loss: 46.7019 - val_loss: 42.1290\n",
      "Epoch 120/250\n",
      "731/731 [==============================] - 2s 2ms/step - loss: 47.6198 - val_loss: 43.0215\n",
      "Epoch 121/250\n",
      "731/731 [==============================] - 2s 2ms/step - loss: 47.3443 - val_loss: 42.2604\n",
      "Epoch 122/250\n",
      "731/731 [==============================] - 2s 3ms/step - loss: 45.9707 - val_loss: 41.6387\n",
      "Epoch 123/250\n",
      "731/731 [==============================] - 2s 3ms/step - loss: 51.1418 - val_loss: 53.8658\n",
      "Epoch 124/250\n",
      "731/731 [==============================] - 2s 3ms/step - loss: 54.0852 - val_loss: 46.2230\n",
      "Epoch 125/250\n",
      "731/731 [==============================] - 2s 2ms/step - loss: 51.0238 - val_loss: 51.5482\n",
      "Epoch 126/250\n",
      "731/731 [==============================] - 2s 2ms/step - loss: 49.3466 - val_loss: 44.4893\n",
      "Epoch 127/250\n",
      "731/731 [==============================] - 2s 3ms/step - loss: 49.7359 - val_loss: 46.8828\n",
      "Epoch 128/250\n",
      "731/731 [==============================] - 2s 2ms/step - loss: 48.8822 - val_loss: 47.5905\n",
      "Epoch 129/250\n",
      "731/731 [==============================] - 2s 3ms/step - loss: 48.6193 - val_loss: 44.9161\n",
      "Epoch 130/250\n",
      "731/731 [==============================] - 2s 3ms/step - loss: 48.1223 - val_loss: 44.9211\n",
      "Epoch 131/250\n",
      "731/731 [==============================] - 2s 2ms/step - loss: 48.2677 - val_loss: 43.4002\n",
      "Epoch 132/250\n",
      "731/731 [==============================] - 2s 3ms/step - loss: 48.4715 - val_loss: 41.3722\n",
      "Epoch 133/250\n",
      "731/731 [==============================] - 2s 3ms/step - loss: 47.9625 - val_loss: 42.9811\n",
      "Epoch 134/250\n",
      "731/731 [==============================] - 2s 3ms/step - loss: 48.0304 - val_loss: 42.7214\n",
      "Epoch 135/250\n",
      "731/731 [==============================] - 2s 2ms/step - loss: 48.3340 - val_loss: 64.1523\n",
      "Epoch 136/250\n",
      "731/731 [==============================] - 2s 3ms/step - loss: 48.0629 - val_loss: 41.8505\n",
      "Epoch 137/250\n",
      "731/731 [==============================] - 2s 2ms/step - loss: 47.2337 - val_loss: 42.2589\n",
      "Epoch 138/250\n",
      "731/731 [==============================] - 2s 3ms/step - loss: 47.3598 - val_loss: 44.3653\n",
      "Epoch 139/250\n",
      "731/731 [==============================] - 2s 2ms/step - loss: 47.0171 - val_loss: 44.0996\n",
      "Epoch 140/250\n",
      "731/731 [==============================] - 2s 3ms/step - loss: 47.8423 - val_loss: 43.4461\n",
      "Epoch 141/250\n",
      "731/731 [==============================] - 2s 2ms/step - loss: 47.8174 - val_loss: 46.2240\n",
      "Epoch 142/250\n",
      "731/731 [==============================] - 2s 3ms/step - loss: 47.3171 - val_loss: 43.4154\n",
      "Epoch 143/250\n",
      "731/731 [==============================] - 2s 3ms/step - loss: 46.8775 - val_loss: 43.1993\n",
      "Epoch 144/250\n",
      "731/731 [==============================] - 2s 3ms/step - loss: 48.0803 - val_loss: 45.2851\n",
      "Epoch 145/250\n",
      "731/731 [==============================] - 2s 2ms/step - loss: 48.9138 - val_loss: 42.0095\n",
      "Epoch 146/250\n",
      "731/731 [==============================] - 2s 2ms/step - loss: 46.7730 - val_loss: 42.4082\n",
      "Epoch 147/250\n",
      "731/731 [==============================] - 2s 2ms/step - loss: 47.4510 - val_loss: 45.9011\n",
      "Epoch 148/250\n",
      "731/731 [==============================] - 2s 3ms/step - loss: 49.2939 - val_loss: 41.8972\n",
      "Epoch 149/250\n",
      "731/731 [==============================] - 2s 3ms/step - loss: 48.2125 - val_loss: 46.6678\n",
      "Epoch 150/250\n",
      "731/731 [==============================] - 2s 2ms/step - loss: 47.5820 - val_loss: 41.9771\n",
      "Epoch 151/250\n",
      "731/731 [==============================] - 2s 2ms/step - loss: 47.0895 - val_loss: 41.9213\n",
      "Epoch 152/250\n",
      "731/731 [==============================] - 2s 2ms/step - loss: 47.9160 - val_loss: 42.0273\n",
      "Epoch 153/250\n",
      "731/731 [==============================] - 2s 2ms/step - loss: 46.6287 - val_loss: 43.2503\n",
      "Epoch 154/250\n",
      "731/731 [==============================] - 2s 3ms/step - loss: 48.6541 - val_loss: 41.9303\n",
      "Epoch 155/250\n",
      "731/731 [==============================] - 2s 2ms/step - loss: 47.8467 - val_loss: 42.9582\n",
      "Epoch 156/250\n",
      "731/731 [==============================] - 2s 2ms/step - loss: 46.8099 - val_loss: 41.8913\n",
      "Epoch 157/250\n",
      "731/731 [==============================] - 2s 3ms/step - loss: 48.8361 - val_loss: 42.7018\n",
      "Epoch 158/250\n",
      "731/731 [==============================] - 2s 3ms/step - loss: 46.7097 - val_loss: 44.1655\n",
      "Epoch 159/250\n",
      "731/731 [==============================] - 2s 3ms/step - loss: 46.6426 - val_loss: 43.9846\n",
      "Epoch 160/250\n",
      "731/731 [==============================] - 2s 2ms/step - loss: 46.6385 - val_loss: 42.1171\n",
      "Epoch 161/250\n",
      "731/731 [==============================] - 2s 3ms/step - loss: 47.8178 - val_loss: 41.8511\n",
      "Epoch 162/250\n",
      "731/731 [==============================] - 2s 3ms/step - loss: 46.6834 - val_loss: 42.5915\n",
      "Epoch 163/250\n",
      "731/731 [==============================] - 2s 2ms/step - loss: 48.3391 - val_loss: 43.4097\n",
      "Epoch 164/250\n",
      "731/731 [==============================] - 2s 3ms/step - loss: 46.8467 - val_loss: 42.4019\n",
      "Epoch 165/250\n",
      "731/731 [==============================] - 2s 3ms/step - loss: 47.5973 - val_loss: 53.1241\n",
      "Epoch 166/250\n",
      "731/731 [==============================] - 2s 2ms/step - loss: 48.1333 - val_loss: 42.2814\n",
      "Epoch 167/250\n",
      "731/731 [==============================] - 2s 2ms/step - loss: 50.0150 - val_loss: 42.7197\n",
      "Epoch 168/250\n",
      "731/731 [==============================] - 2s 3ms/step - loss: 46.8674 - val_loss: 43.3862\n",
      "Epoch 169/250\n",
      "731/731 [==============================] - 2s 3ms/step - loss: 48.7032 - val_loss: 42.5334\n",
      "Epoch 170/250\n",
      "731/731 [==============================] - 2s 3ms/step - loss: 46.4908 - val_loss: 41.7790\n",
      "Epoch 171/250\n",
      "731/731 [==============================] - 2s 3ms/step - loss: 47.3267 - val_loss: 42.5894\n",
      "Epoch 172/250\n",
      "731/731 [==============================] - 2s 2ms/step - loss: 48.2346 - val_loss: 41.6651\n",
      "Epoch 173/250\n",
      "731/731 [==============================] - 2s 3ms/step - loss: 46.7410 - val_loss: 42.1281\n",
      "Epoch 174/250\n",
      "731/731 [==============================] - 2s 3ms/step - loss: 46.5586 - val_loss: 42.2328\n",
      "Epoch 175/250\n",
      "731/731 [==============================] - 2s 3ms/step - loss: 47.7228 - val_loss: 41.7540\n",
      "Epoch 176/250\n",
      "731/731 [==============================] - 2s 2ms/step - loss: 46.1658 - val_loss: 42.7005\n",
      "Epoch 177/250\n",
      "731/731 [==============================] - 2s 2ms/step - loss: 46.8297 - val_loss: 42.1706\n",
      "Epoch 178/250\n",
      "731/731 [==============================] - 2s 3ms/step - loss: 48.1847 - val_loss: 43.7127\n",
      "Epoch 179/250\n",
      "731/731 [==============================] - 2s 3ms/step - loss: 48.3023 - val_loss: 45.1333\n",
      "Epoch 180/250\n",
      "731/731 [==============================] - 1s 2ms/step - loss: 47.9269 - val_loss: 41.9585\n",
      "Epoch 181/250\n",
      "731/731 [==============================] - 1s 2ms/step - loss: 46.8330 - val_loss: 42.1532\n",
      "Epoch 182/250\n",
      "731/731 [==============================] - 1s 2ms/step - loss: 48.3600 - val_loss: 43.3354\n",
      "Epoch 183/250\n",
      "731/731 [==============================] - 1s 2ms/step - loss: 45.6210 - val_loss: 49.3079\n",
      "Epoch 184/250\n",
      "731/731 [==============================] - 1s 2ms/step - loss: 47.6984 - val_loss: 43.7996\n",
      "Epoch 185/250\n",
      "731/731 [==============================] - 2s 2ms/step - loss: 47.1328 - val_loss: 42.1030\n",
      "Epoch 186/250\n",
      "731/731 [==============================] - 2s 3ms/step - loss: 46.6965 - val_loss: 44.3088\n",
      "Epoch 187/250\n",
      "731/731 [==============================] - 2s 3ms/step - loss: 46.8499 - val_loss: 41.8772\n",
      "Epoch 188/250\n",
      "731/731 [==============================] - 2s 3ms/step - loss: 47.3415 - val_loss: 41.9454\n",
      "Epoch 189/250\n",
      "731/731 [==============================] - 2s 3ms/step - loss: 46.2458 - val_loss: 41.5937\n",
      "Epoch 190/250\n",
      "731/731 [==============================] - 2s 3ms/step - loss: 46.4285 - val_loss: 41.1881\n",
      "Epoch 191/250\n",
      "731/731 [==============================] - 2s 3ms/step - loss: 46.9864 - val_loss: 42.1307\n",
      "Epoch 192/250\n",
      "731/731 [==============================] - 2s 3ms/step - loss: 47.1607 - val_loss: 43.0781\n",
      "Epoch 193/250\n",
      "731/731 [==============================] - 2s 2ms/step - loss: 46.2986 - val_loss: 45.4197\n",
      "Epoch 194/250\n",
      "731/731 [==============================] - 2s 3ms/step - loss: 47.3123 - val_loss: 42.0051\n",
      "Epoch 195/250\n",
      "731/731 [==============================] - 2s 2ms/step - loss: 46.4334 - val_loss: 41.6944\n",
      "Epoch 196/250\n",
      "731/731 [==============================] - 1s 2ms/step - loss: 47.5040 - val_loss: 43.1072\n",
      "Epoch 197/250\n",
      "731/731 [==============================] - 2s 2ms/step - loss: 47.5542 - val_loss: 41.3276\n",
      "Epoch 198/250\n",
      "731/731 [==============================] - 2s 2ms/step - loss: 47.4602 - val_loss: 69.2700\n",
      "Epoch 199/250\n",
      "731/731 [==============================] - 2s 3ms/step - loss: 46.2721 - val_loss: 42.9165\n",
      "Epoch 200/250\n",
      "731/731 [==============================] - 2s 2ms/step - loss: 48.6227 - val_loss: 42.3412\n",
      "Epoch 201/250\n",
      "731/731 [==============================] - 2s 3ms/step - loss: 46.1564 - val_loss: 41.8227\n",
      "Epoch 202/250\n",
      "731/731 [==============================] - 2s 2ms/step - loss: 48.8045 - val_loss: 45.5104\n",
      "Epoch 203/250\n",
      "731/731 [==============================] - 2s 3ms/step - loss: 46.4420 - val_loss: 42.5052\n",
      "Epoch 204/250\n",
      "731/731 [==============================] - 2s 3ms/step - loss: 46.5633 - val_loss: 41.8248\n",
      "Epoch 205/250\n",
      "731/731 [==============================] - 2s 3ms/step - loss: 46.9421 - val_loss: 42.0232\n",
      "Epoch 206/250\n",
      "731/731 [==============================] - 2s 3ms/step - loss: 47.3538 - val_loss: 42.0358\n",
      "Epoch 207/250\n",
      "731/731 [==============================] - 2s 2ms/step - loss: 48.1356 - val_loss: 43.4267\n",
      "Epoch 208/250\n",
      "731/731 [==============================] - 2s 3ms/step - loss: 46.9791 - val_loss: 42.2557\n",
      "Epoch 209/250\n",
      "731/731 [==============================] - 2s 2ms/step - loss: 46.4906 - val_loss: 42.7269\n",
      "Epoch 210/250\n",
      "731/731 [==============================] - 2s 2ms/step - loss: 48.3267 - val_loss: 41.1292\n",
      "Epoch 211/250\n",
      "731/731 [==============================] - 2s 3ms/step - loss: 45.4745 - val_loss: 41.5628\n",
      "Epoch 212/250\n",
      "731/731 [==============================] - 2s 3ms/step - loss: 46.3580 - val_loss: 41.8992\n",
      "Epoch 213/250\n",
      "731/731 [==============================] - 2s 3ms/step - loss: 47.2235 - val_loss: 40.9570\n",
      "Epoch 214/250\n",
      "731/731 [==============================] - 2s 3ms/step - loss: 46.1665 - val_loss: 42.5112\n",
      "Epoch 215/250\n",
      "731/731 [==============================] - 2s 2ms/step - loss: 48.3299 - val_loss: 43.3542\n",
      "Epoch 216/250\n",
      "731/731 [==============================] - 2s 2ms/step - loss: 48.6283 - val_loss: 42.6044\n",
      "Epoch 217/250\n",
      "731/731 [==============================] - 2s 3ms/step - loss: 46.9003 - val_loss: 46.0733\n",
      "Epoch 218/250\n",
      "731/731 [==============================] - 2s 2ms/step - loss: 47.2016 - val_loss: 42.1098\n",
      "Epoch 219/250\n",
      "731/731 [==============================] - 2s 3ms/step - loss: 45.8198 - val_loss: 43.7855\n",
      "Epoch 220/250\n",
      "731/731 [==============================] - 2s 2ms/step - loss: 45.8362 - val_loss: 42.0175\n",
      "Epoch 221/250\n",
      "731/731 [==============================] - 2s 3ms/step - loss: 46.5501 - val_loss: 51.3133\n",
      "Epoch 222/250\n",
      "731/731 [==============================] - 2s 3ms/step - loss: 46.4652 - val_loss: 41.2295\n",
      "Epoch 223/250\n",
      "731/731 [==============================] - 2s 3ms/step - loss: 46.7184 - val_loss: 41.6026\n",
      "Epoch 224/250\n",
      "731/731 [==============================] - 2s 3ms/step - loss: 48.8529 - val_loss: 42.6642\n",
      "Epoch 225/250\n",
      "731/731 [==============================] - 2s 3ms/step - loss: 47.4484 - val_loss: 41.7607\n",
      "Epoch 226/250\n",
      "731/731 [==============================] - 2s 3ms/step - loss: 47.5473 - val_loss: 41.4809\n",
      "Epoch 227/250\n",
      "731/731 [==============================] - 2s 3ms/step - loss: 45.4156 - val_loss: 42.3296\n",
      "Epoch 228/250\n",
      "731/731 [==============================] - 2s 3ms/step - loss: 48.1513 - val_loss: 43.6674\n",
      "Epoch 229/250\n",
      "731/731 [==============================] - 2s 3ms/step - loss: 46.2960 - val_loss: 43.0851\n",
      "Epoch 230/250\n",
      "731/731 [==============================] - 2s 2ms/step - loss: 46.7319 - val_loss: 41.6487\n",
      "Epoch 231/250\n",
      "731/731 [==============================] - 2s 3ms/step - loss: 48.3127 - val_loss: 41.5417\n",
      "Epoch 232/250\n",
      "731/731 [==============================] - 2s 2ms/step - loss: 45.5067 - val_loss: 45.7249\n",
      "Epoch 233/250\n",
      "731/731 [==============================] - 2s 3ms/step - loss: 47.2542 - val_loss: 41.7120\n",
      "Epoch 234/250\n",
      "731/731 [==============================] - 2s 3ms/step - loss: 45.9599 - val_loss: 41.2382\n",
      "Epoch 235/250\n",
      "731/731 [==============================] - 2s 3ms/step - loss: 46.1669 - val_loss: 44.7108\n",
      "Epoch 236/250\n",
      "731/731 [==============================] - 2s 3ms/step - loss: 45.5632 - val_loss: 42.5796\n",
      "Epoch 237/250\n",
      "731/731 [==============================] - 2s 2ms/step - loss: 46.4842 - val_loss: 42.5118\n",
      "Epoch 238/250\n",
      "731/731 [==============================] - 2s 3ms/step - loss: 46.3017 - val_loss: 41.7203\n",
      "Epoch 239/250\n",
      "731/731 [==============================] - 2s 3ms/step - loss: 46.6610 - val_loss: 42.1576\n",
      "Epoch 240/250\n",
      "731/731 [==============================] - 2s 3ms/step - loss: 46.7187 - val_loss: 41.6736\n",
      "Epoch 241/250\n",
      "731/731 [==============================] - 2s 3ms/step - loss: 46.6344 - val_loss: 42.9638\n",
      "Epoch 242/250\n",
      "731/731 [==============================] - 2s 2ms/step - loss: 46.1176 - val_loss: 41.6706\n",
      "Epoch 243/250\n",
      "731/731 [==============================] - 2s 3ms/step - loss: 49.3811 - val_loss: 41.9393\n",
      "Epoch 244/250\n",
      "731/731 [==============================] - 2s 3ms/step - loss: 47.8314 - val_loss: 42.2304\n",
      "Epoch 245/250\n",
      "731/731 [==============================] - 2s 3ms/step - loss: 45.9795 - val_loss: 52.2418\n",
      "Epoch 246/250\n",
      "731/731 [==============================] - 2s 3ms/step - loss: 49.9476 - val_loss: 60.4560\n",
      "Epoch 247/250\n",
      "731/731 [==============================] - 2s 3ms/step - loss: 57.0997 - val_loss: 47.3595\n",
      "Epoch 248/250\n",
      "731/731 [==============================] - 2s 3ms/step - loss: 47.7968 - val_loss: 41.5511\n",
      "Epoch 249/250\n",
      "731/731 [==============================] - 2s 3ms/step - loss: 48.5556 - val_loss: 42.4834\n",
      "Epoch 250/250\n",
      "731/731 [==============================] - 2s 3ms/step - loss: 46.1453 - val_loss: 42.0727\n",
      "196/196 [==============================] - 0s 2ms/step - loss: 46.9006\n",
      "Test Loss: 46.900630950927734\n"
     ]
    },
    {
     "data": {
      "image/png": "[encoded data removed]",
      "text/plain": [
       "<Figure size 640x480 with 1 Axes>"
      ]
     },
     "metadata": {},
     "output_type": "display_data"
    }
   ],
   "source": [
    "# Define early stopping\n",
    "early_stopping = EarlyStopping(monitor='val_loss', patience=100, restore_best_weights=True)\n",
    "\n",
    "# Train the model\n",
    "history = model.fit(X_train_multi, y_train_multi, epochs=250, batch_size=16, validation_split=0.2, callbacks=[early_stopping])\n",
    "\n",
    "# Evaluate on a separate test set\n",
    "test_loss = model.evaluate(X_test_multi, y_test_multi)\n",
    "print(f'Test Loss: {test_loss}')\n",
    "\n",
    "# Plot training history (optional)\n",
    "import matplotlib.pyplot as plt\n",
    "\n",
    "plt.plot(history.history['loss'], label='Training Loss')\n",
    "plt.plot(history.history['val_loss'], label='Validation Loss')\n",
    "plt.xlabel('Epoch')\n",
    "plt.ylabel('Loss')\n",
    "plt.legend()\n",
    "plt.show()"
   ]
  },
  {
   "cell_type": "code",
   "execution_count": 304,
   "metadata": {},
   "outputs": [
    {
     "name": "stdout",
     "output_type": "stream",
     "text": [
      "1/1 [==============================] - 0s 76ms/step\n",
      "Model Prediction: [[8.615766  0.8189455 0.2821535]]\n"
     ]
    }
   ],
   "source": [
    "import pandas as pd\n",
    "\n",
    "# Create a dictionary with the values\n",
    "data = {\n",
    "    'away_team_id': [4340.000000],\n",
    "    'floodlit_name': [1.000000],\n",
    "    'home_team_id': [4342.000000],\n",
    "    'team1_abbreviation': [6.000000],\n",
    "    'team2_abbreviation': [7.000000],\n",
    "    'batting_position': [1.000000],\n",
    "    'innings_number': [1.000000],\n",
    "    'description': [15.000000],\n",
    "    'age': [31.000000],\n",
    "    'name': [118.000000],\n",
    "    'position': [8.000000],\n",
    "    'ground_name': [9.000000],\n",
    "    'avgtemp_c': [35.300000],\n",
    "    'maxwind_kph': [20.200000],\n",
    "    'condition': [8.00000],\n",
    "}\n",
    "\n",
    "# Create a DataFrame\n",
    "new_observation = pd.DataFrame(data)\n",
    "\n",
    "# Use the RandomForestRegressor for prediction\n",
    "prediction = model.predict(new_observation)\n",
    "\n",
    "# Display the prediction\n",
    "print(f'Model Prediction: {prediction}')\n"
   ]
  },
  {
   "cell_type": "code",
   "execution_count": null,
   "metadata": {},
   "outputs": [],
   "source": []
  }
 ],
 "metadata": {
  "kernelspec": {
   "display_name": "tf_gpu",
   "language": "python",
   "name": "python3"
  },
  "language_info": {
   "codemirror_mode": {
    "name": "ipython",
    "version": 3
   },
   "file_extension": ".py",
   "mimetype": "text/x-python",
   "name": "python",
   "nbconvert_exporter": "python",
   "pygments_lexer": "ipython3",
   "version": "3.10.13"
  }
 },
 "nbformat": 4,
 "nbformat_minor": 2
}
